{
 "cells": [
  {
   "cell_type": "markdown",
   "metadata": {},
   "source": [
    "# Indian Agricultural dataset\n",
    "    -- shape: (246091, 7)\n",
    "    -- fields:\n",
    "        . State_Name\n",
    "        . District_Name\n",
    "        . Crop_Year\n",
    "        . Season\n",
    "        . Crop\n",
    "        . Area: in Hectares\n",
    "        . Producion: in Tonnes\n",
    "       \n",
    "    -- description:\n",
    "        the data refers to the agricultural produce in India of varying regions and climatic conditions\n",
    "    -- source:\n",
    "        data.gov.in\n",
    "        "
   ]
  },
  {
   "cell_type": "code",
   "execution_count": 2,
   "metadata": {},
   "outputs": [],
   "source": [
    "# importing key libraries\n",
    "import numpy as np\n",
    "import pandas as pd\n",
    "import matplotlib.pyplot as plt\n",
    "import seaborn as sns"
   ]
  },
  {
   "cell_type": "code",
   "execution_count": 53,
   "metadata": {},
   "outputs": [],
   "source": [
    "import plotly.express as px"
   ]
  },
  {
   "cell_type": "code",
   "execution_count": 3,
   "metadata": {},
   "outputs": [],
   "source": [
    "sns.set(color_codes = True)"
   ]
  },
  {
   "cell_type": "code",
   "execution_count": 4,
   "metadata": {},
   "outputs": [],
   "source": [
    "file = 'data/apy.csv'\n",
    "df = pd.read_csv(file, na_values = \"=\")"
   ]
  },
  {
   "cell_type": "code",
   "execution_count": 5,
   "metadata": {},
   "outputs": [
    {
     "data": {
      "text/plain": [
       "(246091, 7)"
      ]
     },
     "execution_count": 5,
     "metadata": {},
     "output_type": "execute_result"
    }
   ],
   "source": [
    "df.shape"
   ]
  },
  {
   "cell_type": "code",
   "execution_count": 6,
   "metadata": {},
   "outputs": [
    {
     "data": {
      "text/plain": [
       "Index(['State_Name', 'District_Name', 'Crop_Year', 'Season', 'Crop', 'Area',\n",
       "       'Production'],\n",
       "      dtype='object')"
      ]
     },
     "execution_count": 6,
     "metadata": {},
     "output_type": "execute_result"
    }
   ],
   "source": [
    "df.columns"
   ]
  },
  {
   "cell_type": "code",
   "execution_count": 4,
   "metadata": {},
   "outputs": [
    {
     "name": "stdout",
     "output_type": "stream",
     "text": [
      "<class 'pandas.core.frame.DataFrame'>\n",
      "RangeIndex: 246091 entries, 0 to 246090\n",
      "Data columns (total 7 columns):\n",
      " #   Column         Non-Null Count   Dtype  \n",
      "---  ------         --------------   -----  \n",
      " 0   State_Name     246091 non-null  object \n",
      " 1   District_Name  246091 non-null  object \n",
      " 2   Crop_Year      246091 non-null  int64  \n",
      " 3   Season         246091 non-null  object \n",
      " 4   Crop           246091 non-null  object \n",
      " 5   Area           246091 non-null  float64\n",
      " 6   Production     242364 non-null  float64\n",
      "dtypes: float64(2), int64(1), object(4)\n",
      "memory usage: 13.1+ MB\n"
     ]
    }
   ],
   "source": [
    "df.info()"
   ]
  },
  {
   "cell_type": "markdown",
   "metadata": {},
   "source": [
    "Production is in tonnes and hence the dtype must not be object"
   ]
  },
  {
   "cell_type": "code",
   "execution_count": 7,
   "metadata": {},
   "outputs": [
    {
     "data": {
      "text/html": [
       "<div>\n",
       "<style scoped>\n",
       "    .dataframe tbody tr th:only-of-type {\n",
       "        vertical-align: middle;\n",
       "    }\n",
       "\n",
       "    .dataframe tbody tr th {\n",
       "        vertical-align: top;\n",
       "    }\n",
       "\n",
       "    .dataframe thead th {\n",
       "        text-align: right;\n",
       "    }\n",
       "</style>\n",
       "<table border=\"1\" class=\"dataframe\">\n",
       "  <thead>\n",
       "    <tr style=\"text-align: right;\">\n",
       "      <th></th>\n",
       "      <th>State_Name</th>\n",
       "      <th>District_Name</th>\n",
       "      <th>Crop_Year</th>\n",
       "      <th>Season</th>\n",
       "      <th>Crop</th>\n",
       "      <th>Area</th>\n",
       "      <th>Production</th>\n",
       "    </tr>\n",
       "  </thead>\n",
       "  <tbody>\n",
       "    <tr>\n",
       "      <th>0</th>\n",
       "      <td>Andaman and Nicobar Islands</td>\n",
       "      <td>NICOBARS</td>\n",
       "      <td>2000</td>\n",
       "      <td>Kharif</td>\n",
       "      <td>Arecanut</td>\n",
       "      <td>1254.0</td>\n",
       "      <td>2000.0</td>\n",
       "    </tr>\n",
       "    <tr>\n",
       "      <th>1</th>\n",
       "      <td>Andaman and Nicobar Islands</td>\n",
       "      <td>NICOBARS</td>\n",
       "      <td>2000</td>\n",
       "      <td>Kharif</td>\n",
       "      <td>Other Kharif pulses</td>\n",
       "      <td>2.0</td>\n",
       "      <td>1.0</td>\n",
       "    </tr>\n",
       "    <tr>\n",
       "      <th>2</th>\n",
       "      <td>Andaman and Nicobar Islands</td>\n",
       "      <td>NICOBARS</td>\n",
       "      <td>2000</td>\n",
       "      <td>Kharif</td>\n",
       "      <td>Rice</td>\n",
       "      <td>102.0</td>\n",
       "      <td>321.0</td>\n",
       "    </tr>\n",
       "    <tr>\n",
       "      <th>3</th>\n",
       "      <td>Andaman and Nicobar Islands</td>\n",
       "      <td>NICOBARS</td>\n",
       "      <td>2000</td>\n",
       "      <td>Whole Year</td>\n",
       "      <td>Banana</td>\n",
       "      <td>176.0</td>\n",
       "      <td>641.0</td>\n",
       "    </tr>\n",
       "    <tr>\n",
       "      <th>4</th>\n",
       "      <td>Andaman and Nicobar Islands</td>\n",
       "      <td>NICOBARS</td>\n",
       "      <td>2000</td>\n",
       "      <td>Whole Year</td>\n",
       "      <td>Cashewnut</td>\n",
       "      <td>720.0</td>\n",
       "      <td>165.0</td>\n",
       "    </tr>\n",
       "  </tbody>\n",
       "</table>\n",
       "</div>"
      ],
      "text/plain": [
       "                    State_Name District_Name  Crop_Year       Season  \\\n",
       "0  Andaman and Nicobar Islands      NICOBARS       2000  Kharif        \n",
       "1  Andaman and Nicobar Islands      NICOBARS       2000  Kharif        \n",
       "2  Andaman and Nicobar Islands      NICOBARS       2000  Kharif        \n",
       "3  Andaman and Nicobar Islands      NICOBARS       2000  Whole Year    \n",
       "4  Andaman and Nicobar Islands      NICOBARS       2000  Whole Year    \n",
       "\n",
       "                  Crop    Area  Production  \n",
       "0             Arecanut  1254.0      2000.0  \n",
       "1  Other Kharif pulses     2.0         1.0  \n",
       "2                 Rice   102.0       321.0  \n",
       "3               Banana   176.0       641.0  \n",
       "4            Cashewnut   720.0       165.0  "
      ]
     },
     "execution_count": 7,
     "metadata": {},
     "output_type": "execute_result"
    }
   ],
   "source": [
    "df.head()"
   ]
  },
  {
   "cell_type": "code",
   "execution_count": 5,
   "metadata": {},
   "outputs": [
    {
     "data": {
      "text/plain": [
       "State_Name       False\n",
       "District_Name    False\n",
       "Crop_Year        False\n",
       "Season           False\n",
       "Crop             False\n",
       "Area             False\n",
       "Production        True\n",
       "dtype: bool"
      ]
     },
     "execution_count": 5,
     "metadata": {},
     "output_type": "execute_result"
    }
   ],
   "source": [
    "df.isna().any()"
   ]
  },
  {
   "cell_type": "code",
   "execution_count": 6,
   "metadata": {},
   "outputs": [
    {
     "data": {
      "text/plain": [
       "3727"
      ]
     },
     "execution_count": 6,
     "metadata": {},
     "output_type": "execute_result"
    }
   ],
   "source": [
    "df.Production.isna().sum()"
   ]
  },
  {
   "cell_type": "code",
   "execution_count": 6,
   "metadata": {},
   "outputs": [
    {
     "data": {
      "text/plain": [
       "array(['Arecanut', 'Other Kharif pulses', 'Rice', 'Banana', 'Cashewnut',\n",
       "       'Coconut ', 'Dry ginger', 'Sugarcane', 'Sweet potato', 'Tapioca',\n",
       "       'Black pepper', 'Dry chillies', 'other oilseeds', 'Turmeric',\n",
       "       'Maize', 'Moong(Green Gram)', 'Urad', 'Arhar/Tur', 'Groundnut',\n",
       "       'Sunflower', 'Bajra', 'Castor seed', 'Cotton(lint)', 'Horse-gram',\n",
       "       'Jowar', 'Korra', 'Ragi', 'Tobacco', 'Gram', 'Wheat', 'Masoor',\n",
       "       'Sesamum', 'Linseed', 'Safflower', 'Onion', 'other misc. pulses',\n",
       "       'Samai', 'Small millets', 'Coriander', 'Potato',\n",
       "       'Other  Rabi pulses', 'Soyabean', 'Beans & Mutter(Vegetable)',\n",
       "       'Bhindi', 'Brinjal', 'Citrus Fruit', 'Cucumber', 'Grapes', 'Mango',\n",
       "       'Orange', 'other fibres', 'Other Fresh Fruits', 'Other Vegetables',\n",
       "       'Papaya', 'Pome Fruit', 'Tomato', 'Rapeseed &Mustard', 'Mesta',\n",
       "       'Cowpea(Lobia)', 'Lemon', 'Pome Granet', 'Sapota', 'Cabbage',\n",
       "       'Peas  (vegetable)', 'Niger seed', 'Bottle Gourd', 'Sannhamp',\n",
       "       'Varagu', 'Garlic', 'Ginger', 'Oilseeds total', 'Pulses total',\n",
       "       'Jute', 'Peas & beans (Pulses)', 'Blackgram', 'Paddy', 'Pineapple',\n",
       "       'Barley', 'Khesari', 'Guar seed', 'Moth',\n",
       "       'Other Cereals & Millets', 'Cond-spcs other', 'Turnip', 'Carrot',\n",
       "       'Redish', 'Arcanut (Processed)', 'Atcanut (Raw)',\n",
       "       'Cashewnut Processed', 'Cashewnut Raw', 'Cardamom', 'Rubber',\n",
       "       'Bitter Gourd', 'Drum Stick', 'Jack Fruit', 'Snak Guard',\n",
       "       'Pump Kin', 'Tea', 'Coffee', 'Cauliflower', 'Other Citrus Fruit',\n",
       "       'Water Melon', 'Total foodgrain', 'Kapas', 'Colocosia', 'Lentil',\n",
       "       'Bean', 'Jobster', 'Perilla', 'Rajmash Kholar',\n",
       "       'Ricebean (nagadal)', 'Ash Gourd', 'Beet Root', 'Lab-Lab',\n",
       "       'Ribed Guard', 'Yam', 'Apple', 'Peach', 'Pear', 'Plums', 'Litchi',\n",
       "       'Ber', 'Other Dry Fruit', 'Jute & mesta'], dtype=object)"
      ]
     },
     "execution_count": 6,
     "metadata": {},
     "output_type": "execute_result"
    }
   ],
   "source": [
    "df.Crop.unique()"
   ]
  },
  {
   "cell_type": "code",
   "execution_count": 9,
   "metadata": {},
   "outputs": [
    {
     "data": {
      "text/plain": [
       "124"
      ]
     },
     "execution_count": 9,
     "metadata": {},
     "output_type": "execute_result"
    }
   ],
   "source": [
    "len(df.Crop.unique())"
   ]
  },
  {
   "cell_type": "code",
   "execution_count": 13,
   "metadata": {},
   "outputs": [
    {
     "data": {
      "text/plain": [
       "array(['Pome Granet', 'Sapota', 'Cabbage', 'Peas  (vegetable)',\n",
       "       'Niger seed', 'Bottle Gourd', 'Sannhamp', 'Varagu', 'Garlic',\n",
       "       'Ginger', 'Oilseeds total', 'Pulses total', 'Jute',\n",
       "       'Peas & beans (Pulses)', 'Blackgram'], dtype=object)"
      ]
     },
     "execution_count": 13,
     "metadata": {},
     "output_type": "execute_result"
    }
   ],
   "source": [
    "crops = df.Crop.unique()[60:75]\n",
    "crops"
   ]
  },
  {
   "cell_type": "code",
   "execution_count": 10,
   "metadata": {},
   "outputs": [
    {
     "data": {
      "text/plain": [
       "124"
      ]
     },
     "execution_count": 10,
     "metadata": {},
     "output_type": "execute_result"
    }
   ],
   "source": [
    "len(df.Crop.unique())"
   ]
  },
  {
   "cell_type": "code",
   "execution_count": 18,
   "metadata": {},
   "outputs": [
    {
     "data": {
      "text/plain": [
       "646"
      ]
     },
     "execution_count": 18,
     "metadata": {},
     "output_type": "execute_result"
    }
   ],
   "source": [
    "len(df.District_Name.unique())"
   ]
  },
  {
   "cell_type": "code",
   "execution_count": 7,
   "metadata": {},
   "outputs": [],
   "source": [
    "def strip_spaces(x):\n",
    "    return x.strip(' ')"
   ]
  },
  {
   "cell_type": "code",
   "execution_count": 8,
   "metadata": {},
   "outputs": [],
   "source": [
    "df.Season = df.Season.apply(strip_spaces)"
   ]
  },
  {
   "cell_type": "code",
   "execution_count": 9,
   "metadata": {},
   "outputs": [],
   "source": [
    "df.Crop = df.Crop.apply(strip_spaces)"
   ]
  },
  {
   "cell_type": "markdown",
   "metadata": {},
   "source": [
    "## redundant data"
   ]
  },
  {
   "cell_type": "code",
   "execution_count": 10,
   "metadata": {},
   "outputs": [],
   "source": [
    "tot = df[(df.Crop == 'Total foodgrain')|(df.Crop == 'Oilseeds total')|(df.Crop == 'Pulses total')]"
   ]
  },
  {
   "cell_type": "code",
   "execution_count": 11,
   "metadata": {},
   "outputs": [
    {
     "data": {
      "text/plain": [
       "array(['Whole Year', 'Kharif', 'Rabi', 'Summer'], dtype=object)"
      ]
     },
     "execution_count": 11,
     "metadata": {},
     "output_type": "execute_result"
    }
   ],
   "source": [
    "tot.Season.unique()"
   ]
  },
  {
   "cell_type": "code",
   "execution_count": 16,
   "metadata": {},
   "outputs": [
    {
     "data": {
      "text/plain": [
       "(880, 7)"
      ]
     },
     "execution_count": 16,
     "metadata": {},
     "output_type": "execute_result"
    }
   ],
   "source": [
    "tot.shape"
   ]
  },
  {
   "cell_type": "code",
   "execution_count": 17,
   "metadata": {},
   "outputs": [
    {
     "data": {
      "text/html": [
       "<div>\n",
       "<style scoped>\n",
       "    .dataframe tbody tr th:only-of-type {\n",
       "        vertical-align: middle;\n",
       "    }\n",
       "\n",
       "    .dataframe tbody tr th {\n",
       "        vertical-align: top;\n",
       "    }\n",
       "\n",
       "    .dataframe thead th {\n",
       "        text-align: right;\n",
       "    }\n",
       "</style>\n",
       "<table border=\"1\" class=\"dataframe\">\n",
       "  <thead>\n",
       "    <tr style=\"text-align: right;\">\n",
       "      <th></th>\n",
       "      <th>State_Name</th>\n",
       "      <th>District_Name</th>\n",
       "      <th>Crop_Year</th>\n",
       "      <th>Season</th>\n",
       "      <th>Crop</th>\n",
       "      <th>Area</th>\n",
       "      <th>Production</th>\n",
       "    </tr>\n",
       "  </thead>\n",
       "  <tbody>\n",
       "    <tr>\n",
       "      <th>139899</th>\n",
       "      <td>Meghalaya</td>\n",
       "      <td>EAST KHASI HILLS</td>\n",
       "      <td>1997</td>\n",
       "      <td>Whole Year</td>\n",
       "      <td>Oilseeds total</td>\n",
       "      <td>257.0</td>\n",
       "      <td>191.0</td>\n",
       "    </tr>\n",
       "    <tr>\n",
       "      <th>141616</th>\n",
       "      <td>Meghalaya</td>\n",
       "      <td>WEST KHASI HILLS</td>\n",
       "      <td>1997</td>\n",
       "      <td>Rabi</td>\n",
       "      <td>Pulses total</td>\n",
       "      <td>20.0</td>\n",
       "      <td>20.0</td>\n",
       "    </tr>\n",
       "    <tr>\n",
       "      <th>10623</th>\n",
       "      <td>Arunachal Pradesh</td>\n",
       "      <td>KURUNG KUMEY</td>\n",
       "      <td>2002</td>\n",
       "      <td>Whole Year</td>\n",
       "      <td>Oilseeds total</td>\n",
       "      <td>380.0</td>\n",
       "      <td>320.0</td>\n",
       "    </tr>\n",
       "    <tr>\n",
       "      <th>180941</th>\n",
       "      <td>Tamil Nadu</td>\n",
       "      <td>KANNIYAKUMARI</td>\n",
       "      <td>1998</td>\n",
       "      <td>Kharif</td>\n",
       "      <td>Pulses total</td>\n",
       "      <td>3250.0</td>\n",
       "      <td>1511.0</td>\n",
       "    </tr>\n",
       "  </tbody>\n",
       "</table>\n",
       "</div>"
      ],
      "text/plain": [
       "               State_Name     District_Name  Crop_Year      Season  \\\n",
       "139899          Meghalaya  EAST KHASI HILLS       1997  Whole Year   \n",
       "141616          Meghalaya  WEST KHASI HILLS       1997        Rabi   \n",
       "10623   Arunachal Pradesh      KURUNG KUMEY       2002  Whole Year   \n",
       "180941         Tamil Nadu     KANNIYAKUMARI       1998      Kharif   \n",
       "\n",
       "                  Crop    Area  Production  \n",
       "139899  Oilseeds total   257.0       191.0  \n",
       "141616    Pulses total    20.0        20.0  \n",
       "10623   Oilseeds total   380.0       320.0  \n",
       "180941    Pulses total  3250.0      1511.0  "
      ]
     },
     "execution_count": 17,
     "metadata": {},
     "output_type": "execute_result"
    }
   ],
   "source": [
    "tot.sample(4)"
   ]
  },
  {
   "cell_type": "markdown",
   "metadata": {},
   "source": [
    "removing total foodgrain and oilseeds total"
   ]
  },
  {
   "cell_type": "code",
   "execution_count": 11,
   "metadata": {},
   "outputs": [],
   "source": [
    "df = df[(df.Crop != 'Total foodgrain')&(df.Crop != 'Oilseeds total')&(df.Crop != 'Pulses total')]"
   ]
  },
  {
   "cell_type": "code",
   "execution_count": 13,
   "metadata": {},
   "outputs": [
    {
     "data": {
      "text/plain": [
       "array(['Kharif', 'Whole Year', 'Autumn', 'Rabi', 'Summer', 'Winter'],\n",
       "      dtype=object)"
      ]
     },
     "execution_count": 13,
     "metadata": {},
     "output_type": "execute_result"
    }
   ],
   "source": [
    "df.Season.unique()"
   ]
  },
  {
   "cell_type": "code",
   "execution_count": 20,
   "metadata": {},
   "outputs": [
    {
     "data": {
      "text/plain": [
       "array([2000, 2001, 2002, 2003, 2004, 2005, 2006, 2010, 1997, 1998, 1999,\n",
       "       2007, 2008, 2009, 2011, 2012, 2013, 2014, 2015])"
      ]
     },
     "execution_count": 20,
     "metadata": {},
     "output_type": "execute_result"
    }
   ],
   "source": [
    "df.Crop_Year.unique()"
   ]
  },
  {
   "cell_type": "code",
   "execution_count": 50,
   "metadata": {},
   "outputs": [
    {
     "data": {
      "text/plain": [
       "array(['Andaman and Nicobar Islands', 'Andhra Pradesh',\n",
       "       'Arunachal Pradesh', 'Assam', 'Bihar', 'Chandigarh',\n",
       "       'Chhattisgarh', 'Dadra and Nagar Haveli', 'Goa', 'Gujarat',\n",
       "       'Haryana', 'Himachal Pradesh', 'Jammu and Kashmir ', 'Jharkhand',\n",
       "       'Karnataka', 'Kerala', 'Madhya Pradesh', 'Maharashtra', 'Manipur',\n",
       "       'Meghalaya', 'Mizoram', 'Nagaland', 'Odisha', 'Puducherry',\n",
       "       'Punjab', 'Rajasthan', 'Sikkim', 'Tamil Nadu', 'Telangana ',\n",
       "       'Tripura', 'Uttar Pradesh', 'Uttarakhand', 'West Bengal'],\n",
       "      dtype=object)"
      ]
     },
     "execution_count": 50,
     "metadata": {},
     "output_type": "execute_result"
    }
   ],
   "source": [
    "df.State_Name.unique()"
   ]
  },
  {
   "cell_type": "code",
   "execution_count": 376,
   "metadata": {},
   "outputs": [
    {
     "data": {
      "text/plain": [
       "33"
      ]
     },
     "execution_count": 376,
     "metadata": {},
     "output_type": "execute_result"
    }
   ],
   "source": [
    "len(df.State_Name.unique())"
   ]
  },
  {
   "cell_type": "code",
   "execution_count": 377,
   "metadata": {},
   "outputs": [
    {
     "data": {
      "text/plain": [
       "646"
      ]
     },
     "execution_count": 377,
     "metadata": {},
     "output_type": "execute_result"
    }
   ],
   "source": [
    "len(df.District_Name.unique())"
   ]
  },
  {
   "cell_type": "code",
   "execution_count": 21,
   "metadata": {},
   "outputs": [
    {
     "data": {
      "text/plain": [
       "(245211, 7)"
      ]
     },
     "execution_count": 21,
     "metadata": {},
     "output_type": "execute_result"
    }
   ],
   "source": [
    "df.shape"
   ]
  },
  {
   "cell_type": "code",
   "execution_count": 14,
   "metadata": {},
   "outputs": [
    {
     "data": {
      "text/html": [
       "<div>\n",
       "<style scoped>\n",
       "    .dataframe tbody tr th:only-of-type {\n",
       "        vertical-align: middle;\n",
       "    }\n",
       "\n",
       "    .dataframe tbody tr th {\n",
       "        vertical-align: top;\n",
       "    }\n",
       "\n",
       "    .dataframe thead th {\n",
       "        text-align: right;\n",
       "    }\n",
       "</style>\n",
       "<table border=\"1\" class=\"dataframe\">\n",
       "  <thead>\n",
       "    <tr style=\"text-align: right;\">\n",
       "      <th></th>\n",
       "      <th>Area</th>\n",
       "      <th>Production</th>\n",
       "    </tr>\n",
       "  </thead>\n",
       "  <tbody>\n",
       "    <tr>\n",
       "      <th>count</th>\n",
       "      <td>2.452110e+05</td>\n",
       "      <td>2.414840e+05</td>\n",
       "    </tr>\n",
       "    <tr>\n",
       "      <th>mean</th>\n",
       "      <td>1.162410e+04</td>\n",
       "      <td>5.841932e+05</td>\n",
       "    </tr>\n",
       "    <tr>\n",
       "      <th>std</th>\n",
       "      <td>3.763769e+04</td>\n",
       "      <td>1.709673e+07</td>\n",
       "    </tr>\n",
       "    <tr>\n",
       "      <th>min</th>\n",
       "      <td>4.000000e-02</td>\n",
       "      <td>0.000000e+00</td>\n",
       "    </tr>\n",
       "    <tr>\n",
       "      <th>25%</th>\n",
       "      <td>8.000000e+01</td>\n",
       "      <td>8.700000e+01</td>\n",
       "    </tr>\n",
       "    <tr>\n",
       "      <th>50%</th>\n",
       "      <td>5.780000e+02</td>\n",
       "      <td>7.240000e+02</td>\n",
       "    </tr>\n",
       "    <tr>\n",
       "      <th>75%</th>\n",
       "      <td>4.360000e+03</td>\n",
       "      <td>7.000000e+03</td>\n",
       "    </tr>\n",
       "    <tr>\n",
       "      <th>max</th>\n",
       "      <td>1.020181e+06</td>\n",
       "      <td>1.250800e+09</td>\n",
       "    </tr>\n",
       "  </tbody>\n",
       "</table>\n",
       "</div>"
      ],
      "text/plain": [
       "               Area    Production\n",
       "count  2.452110e+05  2.414840e+05\n",
       "mean   1.162410e+04  5.841932e+05\n",
       "std    3.763769e+04  1.709673e+07\n",
       "min    4.000000e-02  0.000000e+00\n",
       "25%    8.000000e+01  8.700000e+01\n",
       "50%    5.780000e+02  7.240000e+02\n",
       "75%    4.360000e+03  7.000000e+03\n",
       "max    1.020181e+06  1.250800e+09"
      ]
     },
     "execution_count": 14,
     "metadata": {},
     "output_type": "execute_result"
    }
   ],
   "source": [
    "df[['Area','Production']].describe()"
   ]
  },
  {
   "cell_type": "code",
   "execution_count": 12,
   "metadata": {},
   "outputs": [],
   "source": [
    "dn = df[df.Production.isna()]"
   ]
  },
  {
   "cell_type": "code",
   "execution_count": 381,
   "metadata": {},
   "outputs": [
    {
     "data": {
      "text/html": [
       "<div>\n",
       "<style scoped>\n",
       "    .dataframe tbody tr th:only-of-type {\n",
       "        vertical-align: middle;\n",
       "    }\n",
       "\n",
       "    .dataframe tbody tr th {\n",
       "        vertical-align: top;\n",
       "    }\n",
       "\n",
       "    .dataframe thead th {\n",
       "        text-align: right;\n",
       "    }\n",
       "</style>\n",
       "<table border=\"1\" class=\"dataframe\">\n",
       "  <thead>\n",
       "    <tr style=\"text-align: right;\">\n",
       "      <th></th>\n",
       "      <th>State_Name</th>\n",
       "      <th>District_Name</th>\n",
       "      <th>Crop_Year</th>\n",
       "      <th>Season</th>\n",
       "      <th>Crop</th>\n",
       "      <th>Area</th>\n",
       "      <th>Production</th>\n",
       "    </tr>\n",
       "  </thead>\n",
       "  <tbody>\n",
       "    <tr>\n",
       "      <th>71327</th>\n",
       "      <td>Haryana</td>\n",
       "      <td>YAMUNANAGAR</td>\n",
       "      <td>2006</td>\n",
       "      <td>Kharif</td>\n",
       "      <td>Moong(Green Gram)</td>\n",
       "      <td>56.0</td>\n",
       "      <td>NaN</td>\n",
       "    </tr>\n",
       "    <tr>\n",
       "      <th>69211</th>\n",
       "      <td>Haryana</td>\n",
       "      <td>MEWAT</td>\n",
       "      <td>2010</td>\n",
       "      <td>Whole Year</td>\n",
       "      <td>Sugarcane</td>\n",
       "      <td>162.0</td>\n",
       "      <td>NaN</td>\n",
       "    </tr>\n",
       "    <tr>\n",
       "      <th>235772</th>\n",
       "      <td>Uttarakhand</td>\n",
       "      <td>UDAM SINGH NAGAR</td>\n",
       "      <td>2001</td>\n",
       "      <td>Rabi</td>\n",
       "      <td>Urad</td>\n",
       "      <td>1.0</td>\n",
       "      <td>NaN</td>\n",
       "    </tr>\n",
       "  </tbody>\n",
       "</table>\n",
       "</div>"
      ],
      "text/plain": [
       "         State_Name     District_Name  Crop_Year      Season  \\\n",
       "71327       Haryana       YAMUNANAGAR       2006      Kharif   \n",
       "69211       Haryana             MEWAT       2010  Whole Year   \n",
       "235772  Uttarakhand  UDAM SINGH NAGAR       2001        Rabi   \n",
       "\n",
       "                     Crop   Area  Production  \n",
       "71327   Moong(Green Gram)   56.0         NaN  \n",
       "69211           Sugarcane  162.0         NaN  \n",
       "235772               Urad    1.0         NaN  "
      ]
     },
     "execution_count": 381,
     "metadata": {},
     "output_type": "execute_result"
    }
   ],
   "source": [
    "dn.sample(3)"
   ]
  },
  {
   "cell_type": "code",
   "execution_count": 382,
   "metadata": {},
   "outputs": [
    {
     "data": {
      "text/html": [
       "<div>\n",
       "<style scoped>\n",
       "    .dataframe tbody tr th:only-of-type {\n",
       "        vertical-align: middle;\n",
       "    }\n",
       "\n",
       "    .dataframe tbody tr th {\n",
       "        vertical-align: top;\n",
       "    }\n",
       "\n",
       "    .dataframe thead th {\n",
       "        text-align: right;\n",
       "    }\n",
       "</style>\n",
       "<table border=\"1\" class=\"dataframe\">\n",
       "  <thead>\n",
       "    <tr style=\"text-align: right;\">\n",
       "      <th></th>\n",
       "      <th>Area</th>\n",
       "    </tr>\n",
       "  </thead>\n",
       "  <tbody>\n",
       "    <tr>\n",
       "      <th>count</th>\n",
       "      <td>3727.000000</td>\n",
       "    </tr>\n",
       "    <tr>\n",
       "      <th>mean</th>\n",
       "      <td>1308.997652</td>\n",
       "    </tr>\n",
       "    <tr>\n",
       "      <th>std</th>\n",
       "      <td>15373.111655</td>\n",
       "    </tr>\n",
       "    <tr>\n",
       "      <th>min</th>\n",
       "      <td>0.040000</td>\n",
       "    </tr>\n",
       "    <tr>\n",
       "      <th>25%</th>\n",
       "      <td>1.000000</td>\n",
       "    </tr>\n",
       "    <tr>\n",
       "      <th>50%</th>\n",
       "      <td>9.000000</td>\n",
       "    </tr>\n",
       "    <tr>\n",
       "      <th>75%</th>\n",
       "      <td>79.500000</td>\n",
       "    </tr>\n",
       "    <tr>\n",
       "      <th>max</th>\n",
       "      <td>458000.000000</td>\n",
       "    </tr>\n",
       "  </tbody>\n",
       "</table>\n",
       "</div>"
      ],
      "text/plain": [
       "                Area\n",
       "count    3727.000000\n",
       "mean     1308.997652\n",
       "std     15373.111655\n",
       "min         0.040000\n",
       "25%         1.000000\n",
       "50%         9.000000\n",
       "75%        79.500000\n",
       "max    458000.000000"
      ]
     },
     "execution_count": 382,
     "metadata": {},
     "output_type": "execute_result"
    }
   ],
   "source": [
    "dn[['Area']].describe()"
   ]
  },
  {
   "cell_type": "code",
   "execution_count": 36,
   "metadata": {},
   "outputs": [
    {
     "data": {
      "text/plain": [
       "array(['Moong(Green Gram)', 'Horse-gram', 'Rapeseed &Mustard',\n",
       "       'Other Kharif pulses', 'Wheat', 'Small millets', 'Sunflower',\n",
       "       'Linseed', 'Jowar', 'other oilseeds', 'Sesamum', 'Urad',\n",
       "       'Niger seed', 'Mesta', 'Sannhamp', 'Tobacco', 'Safflower',\n",
       "       'Soyabean', 'Castor seed', 'Bajra', 'Sweet potato', 'Arecanut',\n",
       "       'Cabbage', 'Turmeric', 'Cotton(lint)', 'Gram', 'Rice', 'Arhar/Tur',\n",
       "       'Other  Rabi pulses', 'Jute', 'Coconut ', 'Groundnut', 'Maize',\n",
       "       'Ragi', 'Banana', 'Coriander', 'Dry chillies', 'Onion',\n",
       "       'Sugarcane', 'Dry ginger', 'Peas & beans (Pulses)', 'Potato',\n",
       "       'Garlic', 'Masoor', 'Khesari', 'Barley', 'Moth',\n",
       "       'Other Cereals & Millets', 'Guar seed', 'Cardamom',\n",
       "       'Cowpea(Lobia)', 'Jack Fruit', 'Pump Kin', 'Blackgram',\n",
       "       'Cashewnut', 'Tapioca', 'Black pepper'], dtype=object)"
      ]
     },
     "execution_count": 36,
     "metadata": {},
     "output_type": "execute_result"
    }
   ],
   "source": [
    "dn.Crop.unique()"
   ]
  },
  {
   "cell_type": "code",
   "execution_count": 37,
   "metadata": {},
   "outputs": [
    {
     "data": {
      "text/plain": [
       "array(['Kharif', 'Rabi', 'Whole Year', 'Autumn', 'Summer', 'Winter'],\n",
       "      dtype=object)"
      ]
     },
     "execution_count": 37,
     "metadata": {},
     "output_type": "execute_result"
    }
   ],
   "source": [
    "dn.Season.unique()"
   ]
  },
  {
   "cell_type": "code",
   "execution_count": 383,
   "metadata": {},
   "outputs": [
    {
     "data": {
      "image/png": "[encoded data removed]",
      "text/plain": [
       "<Figure size 432x288 with 1 Axes>"
      ]
     },
     "metadata": {},
     "output_type": "display_data"
    }
   ],
   "source": [
    "sns.boxplot(dn.Area);"
   ]
  },
  {
   "cell_type": "markdown",
   "metadata": {},
   "source": [
    "Production values for smaller Areas under agriculture seem to be missing"
   ]
  },
  {
   "cell_type": "code",
   "execution_count": 70,
   "metadata": {},
   "outputs": [],
   "source": [
    "val = df.Area.mean()+df.Area.std()"
   ]
  },
  {
   "cell_type": "code",
   "execution_count": 71,
   "metadata": {},
   "outputs": [
    {
     "data": {
      "text/plain": [
       "0"
      ]
     },
     "execution_count": 71,
     "metadata": {},
     "output_type": "execute_result"
    }
   ],
   "source": [
    "df.Production.isna().sum()"
   ]
  },
  {
   "cell_type": "code",
   "execution_count": 72,
   "metadata": {},
   "outputs": [
    {
     "data": {
      "text/plain": [
       "0"
      ]
     },
     "execution_count": 72,
     "metadata": {},
     "output_type": "execute_result"
    }
   ],
   "source": [
    "df[df.Area <= val].Production.isna().sum()"
   ]
  },
  {
   "cell_type": "code",
   "execution_count": 73,
   "metadata": {},
   "outputs": [
    {
     "data": {
      "text/plain": [
       "0.0"
      ]
     },
     "execution_count": 73,
     "metadata": {},
     "output_type": "execute_result"
    }
   ],
   "source": [
    "df[df.Area <= val].Production.isna().sum()/3727"
   ]
  },
  {
   "cell_type": "code",
   "execution_count": 388,
   "metadata": {},
   "outputs": [
    {
     "data": {
      "text/plain": [
       "49261.79537916354"
      ]
     },
     "execution_count": 388,
     "metadata": {},
     "output_type": "execute_result"
    }
   ],
   "source": [
    "val"
   ]
  },
  {
   "cell_type": "markdown",
   "metadata": {},
   "source": [
    "### dealing with missing values"
   ]
  },
  {
   "cell_type": "code",
   "execution_count": 13,
   "metadata": {},
   "outputs": [],
   "source": [
    "df.dropna(inplace = True)"
   ]
  },
  {
   "cell_type": "code",
   "execution_count": 126,
   "metadata": {},
   "outputs": [
    {
     "data": {
      "text/plain": [
       "(241484, 7)"
      ]
     },
     "execution_count": 126,
     "metadata": {},
     "output_type": "execute_result"
    }
   ],
   "source": [
    "df.shape"
   ]
  },
  {
   "cell_type": "code",
   "execution_count": 25,
   "metadata": {},
   "outputs": [
    {
     "data": {
      "image/png": "[encoded data removed]",
      "text/plain": [
       "<Figure size 432x288 with 1 Axes>"
      ]
     },
     "metadata": {},
     "output_type": "display_data"
    }
   ],
   "source": [
    "sns.scatterplot('Area', 'Production',data = df.sample(1500), hue = 'Season');"
   ]
  },
  {
   "cell_type": "markdown",
   "metadata": {},
   "source": [
    "## Yearly trend"
   ]
  },
  {
   "cell_type": "code",
   "execution_count": 18,
   "metadata": {},
   "outputs": [],
   "source": [
    "tb = df.groupby('Crop_Year')"
   ]
  },
  {
   "cell_type": "code",
   "execution_count": 19,
   "metadata": {
    "scrolled": true
   },
   "outputs": [
    {
     "data": {
      "text/html": [
       "<div>\n",
       "<style scoped>\n",
       "    .dataframe tbody tr th:only-of-type {\n",
       "        vertical-align: middle;\n",
       "    }\n",
       "\n",
       "    .dataframe tbody tr th {\n",
       "        vertical-align: top;\n",
       "    }\n",
       "\n",
       "    .dataframe thead th {\n",
       "        text-align: right;\n",
       "    }\n",
       "</style>\n",
       "<table border=\"1\" class=\"dataframe\">\n",
       "  <thead>\n",
       "    <tr style=\"text-align: right;\">\n",
       "      <th></th>\n",
       "      <th>State_Name</th>\n",
       "      <th>District_Name</th>\n",
       "      <th>Season</th>\n",
       "      <th>Crop</th>\n",
       "      <th>Area</th>\n",
       "      <th>Production</th>\n",
       "    </tr>\n",
       "    <tr>\n",
       "      <th>Crop_Year</th>\n",
       "      <th></th>\n",
       "      <th></th>\n",
       "      <th></th>\n",
       "      <th></th>\n",
       "      <th></th>\n",
       "      <th></th>\n",
       "    </tr>\n",
       "  </thead>\n",
       "  <tbody>\n",
       "    <tr>\n",
       "      <th>1997</th>\n",
       "      <td>8608</td>\n",
       "      <td>8608</td>\n",
       "      <td>8608</td>\n",
       "      <td>8608</td>\n",
       "      <td>8608</td>\n",
       "      <td>8608</td>\n",
       "    </tr>\n",
       "    <tr>\n",
       "      <th>1998</th>\n",
       "      <td>11130</td>\n",
       "      <td>11130</td>\n",
       "      <td>11130</td>\n",
       "      <td>11130</td>\n",
       "      <td>11130</td>\n",
       "      <td>11130</td>\n",
       "    </tr>\n",
       "    <tr>\n",
       "      <th>1999</th>\n",
       "      <td>12411</td>\n",
       "      <td>12411</td>\n",
       "      <td>12411</td>\n",
       "      <td>12411</td>\n",
       "      <td>12411</td>\n",
       "      <td>12411</td>\n",
       "    </tr>\n",
       "    <tr>\n",
       "      <th>2000</th>\n",
       "      <td>13523</td>\n",
       "      <td>13523</td>\n",
       "      <td>13523</td>\n",
       "      <td>13523</td>\n",
       "      <td>13523</td>\n",
       "      <td>13523</td>\n",
       "    </tr>\n",
       "    <tr>\n",
       "      <th>2001</th>\n",
       "      <td>13260</td>\n",
       "      <td>13260</td>\n",
       "      <td>13260</td>\n",
       "      <td>13260</td>\n",
       "      <td>13260</td>\n",
       "      <td>13260</td>\n",
       "    </tr>\n",
       "    <tr>\n",
       "      <th>2002</th>\n",
       "      <td>16502</td>\n",
       "      <td>16502</td>\n",
       "      <td>16502</td>\n",
       "      <td>16502</td>\n",
       "      <td>16502</td>\n",
       "      <td>16502</td>\n",
       "    </tr>\n",
       "    <tr>\n",
       "      <th>2003</th>\n",
       "      <td>17092</td>\n",
       "      <td>17092</td>\n",
       "      <td>17092</td>\n",
       "      <td>17092</td>\n",
       "      <td>17092</td>\n",
       "      <td>17092</td>\n",
       "    </tr>\n",
       "    <tr>\n",
       "      <th>2004</th>\n",
       "      <td>13843</td>\n",
       "      <td>13843</td>\n",
       "      <td>13843</td>\n",
       "      <td>13843</td>\n",
       "      <td>13843</td>\n",
       "      <td>13843</td>\n",
       "    </tr>\n",
       "    <tr>\n",
       "      <th>2005</th>\n",
       "      <td>13506</td>\n",
       "      <td>13506</td>\n",
       "      <td>13506</td>\n",
       "      <td>13506</td>\n",
       "      <td>13506</td>\n",
       "      <td>13506</td>\n",
       "    </tr>\n",
       "    <tr>\n",
       "      <th>2006</th>\n",
       "      <td>13961</td>\n",
       "      <td>13961</td>\n",
       "      <td>13961</td>\n",
       "      <td>13961</td>\n",
       "      <td>13961</td>\n",
       "      <td>13961</td>\n",
       "    </tr>\n",
       "    <tr>\n",
       "      <th>2007</th>\n",
       "      <td>14253</td>\n",
       "      <td>14253</td>\n",
       "      <td>14253</td>\n",
       "      <td>14253</td>\n",
       "      <td>14253</td>\n",
       "      <td>14253</td>\n",
       "    </tr>\n",
       "    <tr>\n",
       "      <th>2008</th>\n",
       "      <td>14214</td>\n",
       "      <td>14214</td>\n",
       "      <td>14214</td>\n",
       "      <td>14214</td>\n",
       "      <td>14214</td>\n",
       "      <td>14214</td>\n",
       "    </tr>\n",
       "    <tr>\n",
       "      <th>2009</th>\n",
       "      <td>13751</td>\n",
       "      <td>13751</td>\n",
       "      <td>13751</td>\n",
       "      <td>13751</td>\n",
       "      <td>13751</td>\n",
       "      <td>13751</td>\n",
       "    </tr>\n",
       "    <tr>\n",
       "      <th>2010</th>\n",
       "      <td>13777</td>\n",
       "      <td>13777</td>\n",
       "      <td>13777</td>\n",
       "      <td>13777</td>\n",
       "      <td>13777</td>\n",
       "      <td>13777</td>\n",
       "    </tr>\n",
       "    <tr>\n",
       "      <th>2011</th>\n",
       "      <td>13775</td>\n",
       "      <td>13775</td>\n",
       "      <td>13775</td>\n",
       "      <td>13775</td>\n",
       "      <td>13775</td>\n",
       "      <td>13775</td>\n",
       "    </tr>\n",
       "    <tr>\n",
       "      <th>2012</th>\n",
       "      <td>13168</td>\n",
       "      <td>13168</td>\n",
       "      <td>13168</td>\n",
       "      <td>13168</td>\n",
       "      <td>13168</td>\n",
       "      <td>13168</td>\n",
       "    </tr>\n",
       "    <tr>\n",
       "      <th>2013</th>\n",
       "      <td>13458</td>\n",
       "      <td>13458</td>\n",
       "      <td>13458</td>\n",
       "      <td>13458</td>\n",
       "      <td>13458</td>\n",
       "      <td>13458</td>\n",
       "    </tr>\n",
       "    <tr>\n",
       "      <th>2014</th>\n",
       "      <td>10691</td>\n",
       "      <td>10691</td>\n",
       "      <td>10691</td>\n",
       "      <td>10691</td>\n",
       "      <td>10691</td>\n",
       "      <td>10691</td>\n",
       "    </tr>\n",
       "    <tr>\n",
       "      <th>2015</th>\n",
       "      <td>561</td>\n",
       "      <td>561</td>\n",
       "      <td>561</td>\n",
       "      <td>561</td>\n",
       "      <td>561</td>\n",
       "      <td>561</td>\n",
       "    </tr>\n",
       "  </tbody>\n",
       "</table>\n",
       "</div>"
      ],
      "text/plain": [
       "           State_Name  District_Name  Season   Crop   Area  Production\n",
       "Crop_Year                                                             \n",
       "1997             8608           8608    8608   8608   8608        8608\n",
       "1998            11130          11130   11130  11130  11130       11130\n",
       "1999            12411          12411   12411  12411  12411       12411\n",
       "2000            13523          13523   13523  13523  13523       13523\n",
       "2001            13260          13260   13260  13260  13260       13260\n",
       "2002            16502          16502   16502  16502  16502       16502\n",
       "2003            17092          17092   17092  17092  17092       17092\n",
       "2004            13843          13843   13843  13843  13843       13843\n",
       "2005            13506          13506   13506  13506  13506       13506\n",
       "2006            13961          13961   13961  13961  13961       13961\n",
       "2007            14253          14253   14253  14253  14253       14253\n",
       "2008            14214          14214   14214  14214  14214       14214\n",
       "2009            13751          13751   13751  13751  13751       13751\n",
       "2010            13777          13777   13777  13777  13777       13777\n",
       "2011            13775          13775   13775  13775  13775       13775\n",
       "2012            13168          13168   13168  13168  13168       13168\n",
       "2013            13458          13458   13458  13458  13458       13458\n",
       "2014            10691          10691   10691  10691  10691       10691\n",
       "2015              561            561     561    561    561         561"
      ]
     },
     "execution_count": 19,
     "metadata": {},
     "output_type": "execute_result"
    }
   ],
   "source": [
    "tb.count()"
   ]
  },
  {
   "cell_type": "code",
   "execution_count": 20,
   "metadata": {},
   "outputs": [],
   "source": [
    "s = tb.sum().drop([2015], axis = 0)"
   ]
  },
  {
   "cell_type": "code",
   "execution_count": null,
   "metadata": {},
   "outputs": [],
   "source": []
  },
  {
   "cell_type": "code",
   "execution_count": 394,
   "metadata": {},
   "outputs": [
    {
     "data": {
      "image/png": "[encoded data removed]",
      "text/plain": [
       "<Figure size 432x288 with 1 Axes>"
      ]
     },
     "metadata": {},
     "output_type": "display_data"
    }
   ],
   "source": [
    "sns.kdeplot(data = s.Production, shade = True);"
   ]
  },
  {
   "cell_type": "code",
   "execution_count": 395,
   "metadata": {},
   "outputs": [
    {
     "data": {
      "image/png": "[encoded data removed]",
      "text/plain": [
       "<Figure size 432x288 with 1 Axes>"
      ]
     },
     "metadata": {},
     "output_type": "display_data"
    }
   ],
   "source": [
    "sns.scatterplot(s.Area, s.Production);"
   ]
  },
  {
   "cell_type": "markdown",
   "metadata": {},
   "source": []
  },
  {
   "cell_type": "code",
   "execution_count": 396,
   "metadata": {},
   "outputs": [
    {
     "data": {
      "image/png": "[encoded data removed]",
      "text/plain": [
       "<Figure size 432x288 with 1 Axes>"
      ]
     },
     "metadata": {},
     "output_type": "display_data"
    }
   ],
   "source": [
    "sns.barplot(x = s.index, y = 'Production', data = s);\n",
    "plt.xticks(rotation = 90);"
   ]
  },
  {
   "cell_type": "markdown",
   "metadata": {},
   "source": [
    "Marginally high production in Years 2011 and 2013 and very low in year 1997"
   ]
  },
  {
   "cell_type": "code",
   "execution_count": 397,
   "metadata": {
    "scrolled": true
   },
   "outputs": [
    {
     "data": {
      "image/png": "[encoded data removed]",
      "text/plain": [
       "<Figure size 432x288 with 1 Axes>"
      ]
     },
     "metadata": {},
     "output_type": "display_data"
    }
   ],
   "source": [
    "sns.barplot(x = 'Crop_Year', y = 'Area', data = df[df.Crop_Year != 2015], estimator = np.sum);\n",
    "plt.xticks(rotation = 90);"
   ]
  },
  {
   "cell_type": "code",
   "execution_count": 76,
   "metadata": {},
   "outputs": [
    {
     "data": {
      "image/png": "[encoded data removed]",
      "text/plain": [
       "<Figure size 432x288 with 1 Axes>"
      ]
     },
     "metadata": {},
     "output_type": "display_data"
    }
   ],
   "source": [
    "sns.barplot(x = 'Crop_Year', y = 'Area', data = df, estimator = np.median);\n",
    "plt.xticks(rotation = 90);"
   ]
  },
  {
   "cell_type": "code",
   "execution_count": 398,
   "metadata": {},
   "outputs": [],
   "source": [
    "efficiency = s.Production/s.Area"
   ]
  },
  {
   "cell_type": "code",
   "execution_count": 399,
   "metadata": {},
   "outputs": [
    {
     "data": {
      "image/png": "[encoded data removed]",
      "text/plain": [
       "<Figure size 432x288 with 1 Axes>"
      ]
     },
     "metadata": {},
     "output_type": "display_data"
    }
   ],
   "source": [
    "sns.barplot(x = efficiency.index, y = efficiency.values);\n",
    "plt.xticks(rotation = 90);\n",
    "plt.ylabel('efficiency (production/area under cultivation)');"
   ]
  },
  {
   "cell_type": "markdown",
   "metadata": {},
   "source": [
    "years to lookout for 1997-1998, 2009-2014"
   ]
  },
  {
   "cell_type": "markdown",
   "metadata": {},
   "source": [
    "the top 5 crops over the years in terms of production "
   ]
  },
  {
   "cell_type": "code",
   "execution_count": 178,
   "metadata": {},
   "outputs": [],
   "source": [
    "t = df.groupby(['Crop_Year','Crop'])"
   ]
  },
  {
   "cell_type": "code",
   "execution_count": 212,
   "metadata": {},
   "outputs": [],
   "source": [
    "s = t.sum()"
   ]
  },
  {
   "cell_type": "code",
   "execution_count": 181,
   "metadata": {},
   "outputs": [],
   "source": [
    "sm = t.mean()"
   ]
  },
  {
   "cell_type": "code",
   "execution_count": 213,
   "metadata": {},
   "outputs": [],
   "source": [
    "s.reset_index(inplace = True)\n",
    "#sm.reset_index(inplace = True)"
   ]
  },
  {
   "cell_type": "code",
   "execution_count": 214,
   "metadata": {},
   "outputs": [],
   "source": [
    "s.sort_values(by = ['Crop_Year','Production'], ascending = [True,False], inplace = True)"
   ]
  },
  {
   "cell_type": "code",
   "execution_count": 184,
   "metadata": {},
   "outputs": [],
   "source": [
    "sm.sort_values(by = ['Crop_Year', 'Production'], ascending = [True, False], inplace = True)"
   ]
  },
  {
   "cell_type": "code",
   "execution_count": 215,
   "metadata": {},
   "outputs": [
    {
     "data": {
      "text/html": [
       "<div>\n",
       "<style scoped>\n",
       "    .dataframe tbody tr th:only-of-type {\n",
       "        vertical-align: middle;\n",
       "    }\n",
       "\n",
       "    .dataframe tbody tr th {\n",
       "        vertical-align: top;\n",
       "    }\n",
       "\n",
       "    .dataframe thead th {\n",
       "        text-align: right;\n",
       "    }\n",
       "</style>\n",
       "<table border=\"1\" class=\"dataframe\">\n",
       "  <thead>\n",
       "    <tr style=\"text-align: right;\">\n",
       "      <th></th>\n",
       "      <th>Crop_Year</th>\n",
       "      <th>Crop</th>\n",
       "      <th>Area</th>\n",
       "      <th>Production</th>\n",
       "    </tr>\n",
       "  </thead>\n",
       "  <tbody>\n",
       "    <tr>\n",
       "      <th>45</th>\n",
       "      <td>1997</td>\n",
       "      <td>Sugarcane</td>\n",
       "      <td>3482848.0</td>\n",
       "      <td>501229055.0</td>\n",
       "    </tr>\n",
       "    <tr>\n",
       "      <th>38</th>\n",
       "      <td>1997</td>\n",
       "      <td>Rice</td>\n",
       "      <td>30706467.0</td>\n",
       "      <td>65848504.0</td>\n",
       "    </tr>\n",
       "    <tr>\n",
       "      <th>53</th>\n",
       "      <td>1997</td>\n",
       "      <td>Wheat</td>\n",
       "      <td>25640826.0</td>\n",
       "      <td>63831633.0</td>\n",
       "    </tr>\n",
       "    <tr>\n",
       "      <th>35</th>\n",
       "      <td>1997</td>\n",
       "      <td>Potato</td>\n",
       "      <td>941622.0</td>\n",
       "      <td>14095119.0</td>\n",
       "    </tr>\n",
       "    <tr>\n",
       "      <th>33</th>\n",
       "      <td>1997</td>\n",
       "      <td>Paddy</td>\n",
       "      <td>7885677.0</td>\n",
       "      <td>12551503.0</td>\n",
       "    </tr>\n",
       "  </tbody>\n",
       "</table>\n",
       "</div>"
      ],
      "text/plain": [
       "    Crop_Year       Crop        Area   Production\n",
       "45       1997  Sugarcane   3482848.0  501229055.0\n",
       "38       1997       Rice  30706467.0   65848504.0\n",
       "53       1997      Wheat  25640826.0   63831633.0\n",
       "35       1997     Potato    941622.0   14095119.0\n",
       "33       1997      Paddy   7885677.0   12551503.0"
      ]
     },
     "execution_count": 215,
     "metadata": {},
     "output_type": "execute_result"
    }
   ],
   "source": [
    "s.head()"
   ]
  },
  {
   "cell_type": "markdown",
   "metadata": {},
   "source": [
    "### Top crops in terms of production"
   ]
  },
  {
   "cell_type": "code",
   "execution_count": 31,
   "metadata": {},
   "outputs": [],
   "source": [
    "top5crops = s.groupby([\"Crop_Year\"]).head(5)"
   ]
  },
  {
   "cell_type": "code",
   "execution_count": 32,
   "metadata": {},
   "outputs": [],
   "source": [
    "tb = pd.pivot_table(top5crops, index = 'Crop_Year', columns = 'Crop', values = 'Production', aggfunc = np.sum)"
   ]
  },
  {
   "cell_type": "code",
   "execution_count": 33,
   "metadata": {},
   "outputs": [
    {
     "data": {
      "text/plain": [
       "Index(['Coconut', 'Cotton(lint)', 'Maize', 'Moong(Green Gram)', 'Paddy',\n",
       "       'Potato', 'Rice', 'Sugarcane', 'Wheat'],\n",
       "      dtype='object', name='Crop')"
      ]
     },
     "execution_count": 33,
     "metadata": {},
     "output_type": "execute_result"
    }
   ],
   "source": [
    "tb.columns"
   ]
  },
  {
   "cell_type": "code",
   "execution_count": 34,
   "metadata": {},
   "outputs": [],
   "source": [
    "tb.drop([1997, 2015], axis = 0, inplace = True)"
   ]
  },
  {
   "cell_type": "code",
   "execution_count": 35,
   "metadata": {},
   "outputs": [],
   "source": [
    "tb.drop([\"Maize\", \"Moong(Green Gram)\",\"Paddy\"], axis = 1, inplace = True)"
   ]
  },
  {
   "cell_type": "code",
   "execution_count": 36,
   "metadata": {
    "collapsed": true
   },
   "outputs": [
    {
     "data": {
      "text/html": [
       "<div>\n",
       "<style scoped>\n",
       "    .dataframe tbody tr th:only-of-type {\n",
       "        vertical-align: middle;\n",
       "    }\n",
       "\n",
       "    .dataframe tbody tr th {\n",
       "        vertical-align: top;\n",
       "    }\n",
       "\n",
       "    .dataframe thead th {\n",
       "        text-align: right;\n",
       "    }\n",
       "</style>\n",
       "<table border=\"1\" class=\"dataframe\">\n",
       "  <thead>\n",
       "    <tr style=\"text-align: right;\">\n",
       "      <th>Crop</th>\n",
       "      <th>Coconut</th>\n",
       "      <th>Cotton(lint)</th>\n",
       "      <th>Potato</th>\n",
       "      <th>Rice</th>\n",
       "      <th>Sugarcane</th>\n",
       "      <th>Wheat</th>\n",
       "    </tr>\n",
       "    <tr>\n",
       "      <th>Crop_Year</th>\n",
       "      <th></th>\n",
       "      <th></th>\n",
       "      <th></th>\n",
       "      <th></th>\n",
       "      <th></th>\n",
       "      <th></th>\n",
       "    </tr>\n",
       "  </thead>\n",
       "  <tbody>\n",
       "    <tr>\n",
       "      <th>1998</th>\n",
       "      <td>5.283860e+09</td>\n",
       "      <td>NaN</td>\n",
       "      <td>20042976.00</td>\n",
       "      <td>7.876122e+07</td>\n",
       "      <td>2.598091e+08</td>\n",
       "      <td>69699079.00</td>\n",
       "    </tr>\n",
       "    <tr>\n",
       "      <th>1999</th>\n",
       "      <td>5.859817e+09</td>\n",
       "      <td>NaN</td>\n",
       "      <td>21777579.00</td>\n",
       "      <td>7.791707e+07</td>\n",
       "      <td>2.940924e+08</td>\n",
       "      <td>75068369.00</td>\n",
       "    </tr>\n",
       "    <tr>\n",
       "      <th>2000</th>\n",
       "      <td>6.880409e+09</td>\n",
       "      <td>NaN</td>\n",
       "      <td>20332883.90</td>\n",
       "      <td>8.309270e+07</td>\n",
       "      <td>2.961173e+08</td>\n",
       "      <td>69487129.90</td>\n",
       "    </tr>\n",
       "    <tr>\n",
       "      <th>2001</th>\n",
       "      <td>6.881287e+09</td>\n",
       "      <td>NaN</td>\n",
       "      <td>22344741.30</td>\n",
       "      <td>9.005787e+07</td>\n",
       "      <td>2.965126e+08</td>\n",
       "      <td>72648945.90</td>\n",
       "    </tr>\n",
       "    <tr>\n",
       "      <th>2002</th>\n",
       "      <td>7.150889e+09</td>\n",
       "      <td>NaN</td>\n",
       "      <td>22214426.06</td>\n",
       "      <td>7.145340e+07</td>\n",
       "      <td>2.870916e+08</td>\n",
       "      <td>65760625.34</td>\n",
       "    </tr>\n",
       "    <tr>\n",
       "      <th>2003</th>\n",
       "      <td>7.355743e+09</td>\n",
       "      <td>NaN</td>\n",
       "      <td>22304309.16</td>\n",
       "      <td>8.783597e+07</td>\n",
       "      <td>2.397903e+08</td>\n",
       "      <td>72780554.81</td>\n",
       "    </tr>\n",
       "    <tr>\n",
       "      <th>2004</th>\n",
       "      <td>7.663984e+09</td>\n",
       "      <td>NaN</td>\n",
       "      <td>21971368.94</td>\n",
       "      <td>8.417252e+07</td>\n",
       "      <td>2.299085e+08</td>\n",
       "      <td>69567075.35</td>\n",
       "    </tr>\n",
       "    <tr>\n",
       "      <th>2005</th>\n",
       "      <td>7.453185e+09</td>\n",
       "      <td>NaN</td>\n",
       "      <td>22600047.10</td>\n",
       "      <td>8.958719e+07</td>\n",
       "      <td>2.857609e+08</td>\n",
       "      <td>67305067.70</td>\n",
       "    </tr>\n",
       "    <tr>\n",
       "      <th>2006</th>\n",
       "      <td>8.092567e+09</td>\n",
       "      <td>20890976.0</td>\n",
       "      <td>NaN</td>\n",
       "      <td>9.167629e+07</td>\n",
       "      <td>2.687416e+08</td>\n",
       "      <td>77294678.30</td>\n",
       "    </tr>\n",
       "    <tr>\n",
       "      <th>2007</th>\n",
       "      <td>6.299914e+09</td>\n",
       "      <td>NaN</td>\n",
       "      <td>26644642.10</td>\n",
       "      <td>9.206481e+07</td>\n",
       "      <td>2.540599e+08</td>\n",
       "      <td>77599127.90</td>\n",
       "    </tr>\n",
       "    <tr>\n",
       "      <th>2008</th>\n",
       "      <td>7.039784e+09</td>\n",
       "      <td>20777198.0</td>\n",
       "      <td>NaN</td>\n",
       "      <td>9.526127e+07</td>\n",
       "      <td>3.411805e+08</td>\n",
       "      <td>81590346.00</td>\n",
       "    </tr>\n",
       "    <tr>\n",
       "      <th>2009</th>\n",
       "      <td>7.041993e+09</td>\n",
       "      <td>NaN</td>\n",
       "      <td>30879180.80</td>\n",
       "      <td>8.735634e+07</td>\n",
       "      <td>2.879257e+08</td>\n",
       "      <td>80194411.40</td>\n",
       "    </tr>\n",
       "    <tr>\n",
       "      <th>2010</th>\n",
       "      <td>5.596200e+09</td>\n",
       "      <td>NaN</td>\n",
       "      <td>31096111.60</td>\n",
       "      <td>9.517621e+07</td>\n",
       "      <td>3.365308e+08</td>\n",
       "      <td>93043112.00</td>\n",
       "    </tr>\n",
       "    <tr>\n",
       "      <th>2011</th>\n",
       "      <td>1.359422e+10</td>\n",
       "      <td>27366253.0</td>\n",
       "      <td>NaN</td>\n",
       "      <td>1.020939e+08</td>\n",
       "      <td>3.453955e+08</td>\n",
       "      <td>91784119.70</td>\n",
       "    </tr>\n",
       "    <tr>\n",
       "      <th>2012</th>\n",
       "      <td>7.494435e+09</td>\n",
       "      <td>NaN</td>\n",
       "      <td>29817475.30</td>\n",
       "      <td>1.003305e+08</td>\n",
       "      <td>3.354994e+08</td>\n",
       "      <td>88022121.40</td>\n",
       "    </tr>\n",
       "    <tr>\n",
       "      <th>2013</th>\n",
       "      <td>1.221919e+10</td>\n",
       "      <td>NaN</td>\n",
       "      <td>23965707.00</td>\n",
       "      <td>1.028728e+08</td>\n",
       "      <td>3.468605e+08</td>\n",
       "      <td>75099453.60</td>\n",
       "    </tr>\n",
       "    <tr>\n",
       "      <th>2014</th>\n",
       "      <td>8.067812e+09</td>\n",
       "      <td>NaN</td>\n",
       "      <td>28700822.70</td>\n",
       "      <td>1.040182e+08</td>\n",
       "      <td>3.285986e+08</td>\n",
       "      <td>42048966.10</td>\n",
       "    </tr>\n",
       "  </tbody>\n",
       "</table>\n",
       "</div>"
      ],
      "text/plain": [
       "Crop            Coconut  Cotton(lint)       Potato          Rice  \\\n",
       "Crop_Year                                                          \n",
       "1998       5.283860e+09           NaN  20042976.00  7.876122e+07   \n",
       "1999       5.859817e+09           NaN  21777579.00  7.791707e+07   \n",
       "2000       6.880409e+09           NaN  20332883.90  8.309270e+07   \n",
       "2001       6.881287e+09           NaN  22344741.30  9.005787e+07   \n",
       "2002       7.150889e+09           NaN  22214426.06  7.145340e+07   \n",
       "2003       7.355743e+09           NaN  22304309.16  8.783597e+07   \n",
       "2004       7.663984e+09           NaN  21971368.94  8.417252e+07   \n",
       "2005       7.453185e+09           NaN  22600047.10  8.958719e+07   \n",
       "2006       8.092567e+09    20890976.0          NaN  9.167629e+07   \n",
       "2007       6.299914e+09           NaN  26644642.10  9.206481e+07   \n",
       "2008       7.039784e+09    20777198.0          NaN  9.526127e+07   \n",
       "2009       7.041993e+09           NaN  30879180.80  8.735634e+07   \n",
       "2010       5.596200e+09           NaN  31096111.60  9.517621e+07   \n",
       "2011       1.359422e+10    27366253.0          NaN  1.020939e+08   \n",
       "2012       7.494435e+09           NaN  29817475.30  1.003305e+08   \n",
       "2013       1.221919e+10           NaN  23965707.00  1.028728e+08   \n",
       "2014       8.067812e+09           NaN  28700822.70  1.040182e+08   \n",
       "\n",
       "Crop          Sugarcane        Wheat  \n",
       "Crop_Year                             \n",
       "1998       2.598091e+08  69699079.00  \n",
       "1999       2.940924e+08  75068369.00  \n",
       "2000       2.961173e+08  69487129.90  \n",
       "2001       2.965126e+08  72648945.90  \n",
       "2002       2.870916e+08  65760625.34  \n",
       "2003       2.397903e+08  72780554.81  \n",
       "2004       2.299085e+08  69567075.35  \n",
       "2005       2.857609e+08  67305067.70  \n",
       "2006       2.687416e+08  77294678.30  \n",
       "2007       2.540599e+08  77599127.90  \n",
       "2008       3.411805e+08  81590346.00  \n",
       "2009       2.879257e+08  80194411.40  \n",
       "2010       3.365308e+08  93043112.00  \n",
       "2011       3.453955e+08  91784119.70  \n",
       "2012       3.354994e+08  88022121.40  \n",
       "2013       3.468605e+08  75099453.60  \n",
       "2014       3.285986e+08  42048966.10  "
      ]
     },
     "execution_count": 36,
     "metadata": {},
     "output_type": "execute_result"
    }
   ],
   "source": [
    "tb"
   ]
  },
  {
   "cell_type": "code",
   "execution_count": 37,
   "metadata": {},
   "outputs": [],
   "source": [
    "tb.dropna(axis = 1, inplace = True)"
   ]
  },
  {
   "cell_type": "code",
   "execution_count": 38,
   "metadata": {
    "collapsed": true
   },
   "outputs": [
    {
     "data": {
      "text/html": [
       "<div>\n",
       "<style scoped>\n",
       "    .dataframe tbody tr th:only-of-type {\n",
       "        vertical-align: middle;\n",
       "    }\n",
       "\n",
       "    .dataframe tbody tr th {\n",
       "        vertical-align: top;\n",
       "    }\n",
       "\n",
       "    .dataframe thead th {\n",
       "        text-align: right;\n",
       "    }\n",
       "</style>\n",
       "<table border=\"1\" class=\"dataframe\">\n",
       "  <thead>\n",
       "    <tr style=\"text-align: right;\">\n",
       "      <th>Crop</th>\n",
       "      <th>Coconut</th>\n",
       "      <th>Rice</th>\n",
       "      <th>Sugarcane</th>\n",
       "      <th>Wheat</th>\n",
       "    </tr>\n",
       "    <tr>\n",
       "      <th>Crop_Year</th>\n",
       "      <th></th>\n",
       "      <th></th>\n",
       "      <th></th>\n",
       "      <th></th>\n",
       "    </tr>\n",
       "  </thead>\n",
       "  <tbody>\n",
       "    <tr>\n",
       "      <th>1998</th>\n",
       "      <td>5.283860e+09</td>\n",
       "      <td>7.876122e+07</td>\n",
       "      <td>2.598091e+08</td>\n",
       "      <td>69699079.00</td>\n",
       "    </tr>\n",
       "    <tr>\n",
       "      <th>1999</th>\n",
       "      <td>5.859817e+09</td>\n",
       "      <td>7.791707e+07</td>\n",
       "      <td>2.940924e+08</td>\n",
       "      <td>75068369.00</td>\n",
       "    </tr>\n",
       "    <tr>\n",
       "      <th>2000</th>\n",
       "      <td>6.880409e+09</td>\n",
       "      <td>8.309270e+07</td>\n",
       "      <td>2.961173e+08</td>\n",
       "      <td>69487129.90</td>\n",
       "    </tr>\n",
       "    <tr>\n",
       "      <th>2001</th>\n",
       "      <td>6.881287e+09</td>\n",
       "      <td>9.005787e+07</td>\n",
       "      <td>2.965126e+08</td>\n",
       "      <td>72648945.90</td>\n",
       "    </tr>\n",
       "    <tr>\n",
       "      <th>2002</th>\n",
       "      <td>7.150889e+09</td>\n",
       "      <td>7.145340e+07</td>\n",
       "      <td>2.870916e+08</td>\n",
       "      <td>65760625.34</td>\n",
       "    </tr>\n",
       "    <tr>\n",
       "      <th>2003</th>\n",
       "      <td>7.355743e+09</td>\n",
       "      <td>8.783597e+07</td>\n",
       "      <td>2.397903e+08</td>\n",
       "      <td>72780554.81</td>\n",
       "    </tr>\n",
       "    <tr>\n",
       "      <th>2004</th>\n",
       "      <td>7.663984e+09</td>\n",
       "      <td>8.417252e+07</td>\n",
       "      <td>2.299085e+08</td>\n",
       "      <td>69567075.35</td>\n",
       "    </tr>\n",
       "    <tr>\n",
       "      <th>2005</th>\n",
       "      <td>7.453185e+09</td>\n",
       "      <td>8.958719e+07</td>\n",
       "      <td>2.857609e+08</td>\n",
       "      <td>67305067.70</td>\n",
       "    </tr>\n",
       "    <tr>\n",
       "      <th>2006</th>\n",
       "      <td>8.092567e+09</td>\n",
       "      <td>9.167629e+07</td>\n",
       "      <td>2.687416e+08</td>\n",
       "      <td>77294678.30</td>\n",
       "    </tr>\n",
       "    <tr>\n",
       "      <th>2007</th>\n",
       "      <td>6.299914e+09</td>\n",
       "      <td>9.206481e+07</td>\n",
       "      <td>2.540599e+08</td>\n",
       "      <td>77599127.90</td>\n",
       "    </tr>\n",
       "    <tr>\n",
       "      <th>2008</th>\n",
       "      <td>7.039784e+09</td>\n",
       "      <td>9.526127e+07</td>\n",
       "      <td>3.411805e+08</td>\n",
       "      <td>81590346.00</td>\n",
       "    </tr>\n",
       "    <tr>\n",
       "      <th>2009</th>\n",
       "      <td>7.041993e+09</td>\n",
       "      <td>8.735634e+07</td>\n",
       "      <td>2.879257e+08</td>\n",
       "      <td>80194411.40</td>\n",
       "    </tr>\n",
       "    <tr>\n",
       "      <th>2010</th>\n",
       "      <td>5.596200e+09</td>\n",
       "      <td>9.517621e+07</td>\n",
       "      <td>3.365308e+08</td>\n",
       "      <td>93043112.00</td>\n",
       "    </tr>\n",
       "    <tr>\n",
       "      <th>2011</th>\n",
       "      <td>1.359422e+10</td>\n",
       "      <td>1.020939e+08</td>\n",
       "      <td>3.453955e+08</td>\n",
       "      <td>91784119.70</td>\n",
       "    </tr>\n",
       "    <tr>\n",
       "      <th>2012</th>\n",
       "      <td>7.494435e+09</td>\n",
       "      <td>1.003305e+08</td>\n",
       "      <td>3.354994e+08</td>\n",
       "      <td>88022121.40</td>\n",
       "    </tr>\n",
       "    <tr>\n",
       "      <th>2013</th>\n",
       "      <td>1.221919e+10</td>\n",
       "      <td>1.028728e+08</td>\n",
       "      <td>3.468605e+08</td>\n",
       "      <td>75099453.60</td>\n",
       "    </tr>\n",
       "    <tr>\n",
       "      <th>2014</th>\n",
       "      <td>8.067812e+09</td>\n",
       "      <td>1.040182e+08</td>\n",
       "      <td>3.285986e+08</td>\n",
       "      <td>42048966.10</td>\n",
       "    </tr>\n",
       "  </tbody>\n",
       "</table>\n",
       "</div>"
      ],
      "text/plain": [
       "Crop            Coconut          Rice     Sugarcane        Wheat\n",
       "Crop_Year                                                       \n",
       "1998       5.283860e+09  7.876122e+07  2.598091e+08  69699079.00\n",
       "1999       5.859817e+09  7.791707e+07  2.940924e+08  75068369.00\n",
       "2000       6.880409e+09  8.309270e+07  2.961173e+08  69487129.90\n",
       "2001       6.881287e+09  9.005787e+07  2.965126e+08  72648945.90\n",
       "2002       7.150889e+09  7.145340e+07  2.870916e+08  65760625.34\n",
       "2003       7.355743e+09  8.783597e+07  2.397903e+08  72780554.81\n",
       "2004       7.663984e+09  8.417252e+07  2.299085e+08  69567075.35\n",
       "2005       7.453185e+09  8.958719e+07  2.857609e+08  67305067.70\n",
       "2006       8.092567e+09  9.167629e+07  2.687416e+08  77294678.30\n",
       "2007       6.299914e+09  9.206481e+07  2.540599e+08  77599127.90\n",
       "2008       7.039784e+09  9.526127e+07  3.411805e+08  81590346.00\n",
       "2009       7.041993e+09  8.735634e+07  2.879257e+08  80194411.40\n",
       "2010       5.596200e+09  9.517621e+07  3.365308e+08  93043112.00\n",
       "2011       1.359422e+10  1.020939e+08  3.453955e+08  91784119.70\n",
       "2012       7.494435e+09  1.003305e+08  3.354994e+08  88022121.40\n",
       "2013       1.221919e+10  1.028728e+08  3.468605e+08  75099453.60\n",
       "2014       8.067812e+09  1.040182e+08  3.285986e+08  42048966.10"
      ]
     },
     "execution_count": 38,
     "metadata": {},
     "output_type": "execute_result"
    }
   ],
   "source": [
    "tb"
   ]
  },
  {
   "cell_type": "code",
   "execution_count": 421,
   "metadata": {},
   "outputs": [],
   "source": [
    "temp = tb.loc[2000,:]\n",
    "temp = temp.T"
   ]
  },
  {
   "cell_type": "code",
   "execution_count": 425,
   "metadata": {},
   "outputs": [
    {
     "data": {
      "image/png": "[encoded data removed]",
      "text/plain": [
       "<Figure size 432x288 with 1 Axes>"
      ]
     },
     "metadata": {},
     "output_type": "display_data"
    }
   ],
   "source": [
    "sns.barplot(x = temp.index, y = temp.values);"
   ]
  },
  {
   "cell_type": "code",
   "execution_count": 426,
   "metadata": {},
   "outputs": [
    {
     "data": {
      "image/png": "[encoded data removed]",
      "text/plain": [
       "<Figure size 432x288 with 1 Axes>"
      ]
     },
     "metadata": {},
     "output_type": "display_data"
    }
   ],
   "source": [
    "fig = plt.gcf()\n",
    "crops = tb.columns\n",
    "for crop in crops:\n",
    "    sns.lineplot(x = tb.index, y = crop, data = tb);\n",
    "plt.legend(crops);"
   ]
  },
  {
   "cell_type": "code",
   "execution_count": 428,
   "metadata": {},
   "outputs": [
    {
     "data": {
      "image/png": "[encoded data removed]",
      "text/plain": [
       "<Figure size 432x288 with 1 Axes>"
      ]
     },
     "metadata": {},
     "output_type": "display_data"
    }
   ],
   "source": [
    "fig = plt.gcf()\n",
    "crops = [\"Rice\", \"Sugarcane\", \"Wheat\"]\n",
    "for crop in crops:\n",
    "    sns.lineplot(x = tb.index, y = crop, data = tb);\n",
    "plt.legend(crops);"
   ]
  },
  {
   "cell_type": "markdown",
   "metadata": {},
   "source": [
    "### coconut sugarcane production"
   ]
  },
  {
   "cell_type": "code",
   "execution_count": 78,
   "metadata": {},
   "outputs": [],
   "source": [
    "coco_sugar_prod = df[(df.Crop == 'Coconut') | (df.Crop == 'Sugarcane')]"
   ]
  },
  {
   "cell_type": "code",
   "execution_count": 79,
   "metadata": {},
   "outputs": [
    {
     "data": {
      "text/plain": [
       "array(['Coconut', 'Sugarcane'], dtype=object)"
      ]
     },
     "execution_count": 79,
     "metadata": {},
     "output_type": "execute_result"
    }
   ],
   "source": [
    "coco_sugar_prod.Crop.unique()"
   ]
  },
  {
   "cell_type": "code",
   "execution_count": 80,
   "metadata": {},
   "outputs": [
    {
     "data": {
      "text/html": [
       "<div>\n",
       "<style scoped>\n",
       "    .dataframe tbody tr th:only-of-type {\n",
       "        vertical-align: middle;\n",
       "    }\n",
       "\n",
       "    .dataframe tbody tr th {\n",
       "        vertical-align: top;\n",
       "    }\n",
       "\n",
       "    .dataframe thead th {\n",
       "        text-align: right;\n",
       "    }\n",
       "</style>\n",
       "<table border=\"1\" class=\"dataframe\">\n",
       "  <thead>\n",
       "    <tr style=\"text-align: right;\">\n",
       "      <th></th>\n",
       "      <th>State_Name</th>\n",
       "      <th>District_Name</th>\n",
       "      <th>Crop_Year</th>\n",
       "      <th>Season</th>\n",
       "      <th>Crop</th>\n",
       "      <th>Area</th>\n",
       "      <th>Production</th>\n",
       "    </tr>\n",
       "  </thead>\n",
       "  <tbody>\n",
       "    <tr>\n",
       "      <th>5</th>\n",
       "      <td>Andaman and Nicobar Islands</td>\n",
       "      <td>NICOBARS</td>\n",
       "      <td>2000</td>\n",
       "      <td>Whole Year</td>\n",
       "      <td>Coconut</td>\n",
       "      <td>18168.0</td>\n",
       "      <td>65100000.0</td>\n",
       "    </tr>\n",
       "    <tr>\n",
       "      <th>7</th>\n",
       "      <td>Andaman and Nicobar Islands</td>\n",
       "      <td>NICOBARS</td>\n",
       "      <td>2000</td>\n",
       "      <td>Whole Year</td>\n",
       "      <td>Sugarcane</td>\n",
       "      <td>1.0</td>\n",
       "      <td>2.0</td>\n",
       "    </tr>\n",
       "    <tr>\n",
       "      <th>14</th>\n",
       "      <td>Andaman and Nicobar Islands</td>\n",
       "      <td>NICOBARS</td>\n",
       "      <td>2001</td>\n",
       "      <td>Whole Year</td>\n",
       "      <td>Coconut</td>\n",
       "      <td>18190.0</td>\n",
       "      <td>64430000.0</td>\n",
       "    </tr>\n",
       "    <tr>\n",
       "      <th>16</th>\n",
       "      <td>Andaman and Nicobar Islands</td>\n",
       "      <td>NICOBARS</td>\n",
       "      <td>2001</td>\n",
       "      <td>Whole Year</td>\n",
       "      <td>Sugarcane</td>\n",
       "      <td>1.0</td>\n",
       "      <td>1.0</td>\n",
       "    </tr>\n",
       "    <tr>\n",
       "      <th>23</th>\n",
       "      <td>Andaman and Nicobar Islands</td>\n",
       "      <td>NICOBARS</td>\n",
       "      <td>2002</td>\n",
       "      <td>Whole Year</td>\n",
       "      <td>Coconut</td>\n",
       "      <td>18240.0</td>\n",
       "      <td>67490000.0</td>\n",
       "    </tr>\n",
       "  </tbody>\n",
       "</table>\n",
       "</div>"
      ],
      "text/plain": [
       "                     State_Name District_Name  Crop_Year      Season  \\\n",
       "5   Andaman and Nicobar Islands      NICOBARS       2000  Whole Year   \n",
       "7   Andaman and Nicobar Islands      NICOBARS       2000  Whole Year   \n",
       "14  Andaman and Nicobar Islands      NICOBARS       2001  Whole Year   \n",
       "16  Andaman and Nicobar Islands      NICOBARS       2001  Whole Year   \n",
       "23  Andaman and Nicobar Islands      NICOBARS       2002  Whole Year   \n",
       "\n",
       "         Crop     Area  Production  \n",
       "5     Coconut  18168.0  65100000.0  \n",
       "7   Sugarcane      1.0         2.0  \n",
       "14    Coconut  18190.0  64430000.0  \n",
       "16  Sugarcane      1.0         1.0  \n",
       "23    Coconut  18240.0  67490000.0  "
      ]
     },
     "execution_count": 80,
     "metadata": {},
     "output_type": "execute_result"
    }
   ],
   "source": [
    "coco_sugar_prod.head()"
   ]
  },
  {
   "cell_type": "code",
   "execution_count": 101,
   "metadata": {},
   "outputs": [],
   "source": [
    "t = coco_sugar_prod.groupby(['Crop_Year','Crop']).sum()\n",
    "t.reset_index(inplace = True)"
   ]
  },
  {
   "cell_type": "code",
   "execution_count": 91,
   "metadata": {},
   "outputs": [
    {
     "data": {
      "text/html": [
       "<div>\n",
       "<style scoped>\n",
       "    .dataframe tbody tr th:only-of-type {\n",
       "        vertical-align: middle;\n",
       "    }\n",
       "\n",
       "    .dataframe tbody tr th {\n",
       "        vertical-align: top;\n",
       "    }\n",
       "\n",
       "    .dataframe thead th {\n",
       "        text-align: right;\n",
       "    }\n",
       "</style>\n",
       "<table border=\"1\" class=\"dataframe\">\n",
       "  <thead>\n",
       "    <tr style=\"text-align: right;\">\n",
       "      <th></th>\n",
       "      <th>Crop_Year</th>\n",
       "      <th>Crop</th>\n",
       "      <th>Area</th>\n",
       "      <th>Production</th>\n",
       "    </tr>\n",
       "  </thead>\n",
       "  <tbody>\n",
       "    <tr>\n",
       "      <th>36</th>\n",
       "      <td>2015</td>\n",
       "      <td>Sugarcane</td>\n",
       "      <td>8962.00</td>\n",
       "      <td>577157.2</td>\n",
       "    </tr>\n",
       "    <tr>\n",
       "      <th>31</th>\n",
       "      <td>2012</td>\n",
       "      <td>Sugarcane</td>\n",
       "      <td>4926975.00</td>\n",
       "      <td>335499448.9</td>\n",
       "    </tr>\n",
       "    <tr>\n",
       "      <th>21</th>\n",
       "      <td>2007</td>\n",
       "      <td>Sugarcane</td>\n",
       "      <td>3857409.83</td>\n",
       "      <td>254059919.7</td>\n",
       "    </tr>\n",
       "  </tbody>\n",
       "</table>\n",
       "</div>"
      ],
      "text/plain": [
       "    Crop_Year       Crop        Area   Production\n",
       "36       2015  Sugarcane     8962.00     577157.2\n",
       "31       2012  Sugarcane  4926975.00  335499448.9\n",
       "21       2007  Sugarcane  3857409.83  254059919.7"
      ]
     },
     "execution_count": 91,
     "metadata": {},
     "output_type": "execute_result"
    }
   ],
   "source": [
    "t.sample(3)"
   ]
  },
  {
   "cell_type": "code",
   "execution_count": 102,
   "metadata": {},
   "outputs": [
    {
     "data": {
      "image/png": "[encoded data removed]",
      "text/plain": [
       "<Figure size 432x288 with 1 Axes>"
      ]
     },
     "metadata": {},
     "output_type": "display_data"
    }
   ],
   "source": [
    "sns.scatterplot(x = 'Area', y = 'Production', data = t, hue = 'Crop');"
   ]
  },
  {
   "cell_type": "code",
   "execution_count": 99,
   "metadata": {},
   "outputs": [
    {
     "data": {
      "image/png": "[encoded data removed]",
      "text/plain": [
       "<Figure size 432x288 with 2 Axes>"
      ]
     },
     "metadata": {},
     "output_type": "display_data"
    }
   ],
   "source": [
    "fig, ax = plt.subplots(2, sharex = True)\n",
    "sns.lineplot(x = 'Crop_Year', y = 'Production', hue = 'Crop', data = t, ax = ax[0]);\n",
    "sns.lineplot(x = 'Crop_Year', y = 'Area', hue = 'Crop', data = t, ax = ax[1]);"
   ]
  },
  {
   "cell_type": "code",
   "execution_count": null,
   "metadata": {},
   "outputs": [],
   "source": []
  },
  {
   "cell_type": "code",
   "execution_count": 81,
   "metadata": {},
   "outputs": [],
   "source": [
    "c = pd.pivot_table(coco_sugar_prod, index = 'Crop_Year', columns = 'Crop', values = 'Production', aggfunc = np.sum)"
   ]
  },
  {
   "cell_type": "code",
   "execution_count": 43,
   "metadata": {},
   "outputs": [
    {
     "data": {
      "text/html": [
       "<div>\n",
       "<style scoped>\n",
       "    .dataframe tbody tr th:only-of-type {\n",
       "        vertical-align: middle;\n",
       "    }\n",
       "\n",
       "    .dataframe tbody tr th {\n",
       "        vertical-align: top;\n",
       "    }\n",
       "\n",
       "    .dataframe thead th {\n",
       "        text-align: right;\n",
       "    }\n",
       "</style>\n",
       "<table border=\"1\" class=\"dataframe\">\n",
       "  <thead>\n",
       "    <tr style=\"text-align: right;\">\n",
       "      <th>Crop</th>\n",
       "      <th>Coconut</th>\n",
       "      <th>Sugarcane</th>\n",
       "    </tr>\n",
       "    <tr>\n",
       "      <th>Crop_Year</th>\n",
       "      <th></th>\n",
       "      <th></th>\n",
       "    </tr>\n",
       "  </thead>\n",
       "  <tbody>\n",
       "    <tr>\n",
       "      <th>1997</th>\n",
       "      <td>6.344142e+06</td>\n",
       "      <td>501229055.0</td>\n",
       "    </tr>\n",
       "    <tr>\n",
       "      <th>1998</th>\n",
       "      <td>5.283860e+09</td>\n",
       "      <td>259809110.0</td>\n",
       "    </tr>\n",
       "    <tr>\n",
       "      <th>1999</th>\n",
       "      <td>5.859817e+09</td>\n",
       "      <td>294092445.8</td>\n",
       "    </tr>\n",
       "    <tr>\n",
       "      <th>2000</th>\n",
       "      <td>6.880409e+09</td>\n",
       "      <td>296117297.3</td>\n",
       "    </tr>\n",
       "    <tr>\n",
       "      <th>2001</th>\n",
       "      <td>6.881287e+09</td>\n",
       "      <td>296512607.1</td>\n",
       "    </tr>\n",
       "  </tbody>\n",
       "</table>\n",
       "</div>"
      ],
      "text/plain": [
       "Crop            Coconut    Sugarcane\n",
       "Crop_Year                           \n",
       "1997       6.344142e+06  501229055.0\n",
       "1998       5.283860e+09  259809110.0\n",
       "1999       5.859817e+09  294092445.8\n",
       "2000       6.880409e+09  296117297.3\n",
       "2001       6.881287e+09  296512607.1"
      ]
     },
     "execution_count": 43,
     "metadata": {},
     "output_type": "execute_result"
    }
   ],
   "source": [
    "c.head()"
   ]
  },
  {
   "cell_type": "code",
   "execution_count": 44,
   "metadata": {},
   "outputs": [],
   "source": [
    "c.drop([2015], inplace = True)"
   ]
  },
  {
   "cell_type": "code",
   "execution_count": 45,
   "metadata": {},
   "outputs": [
    {
     "data": {
      "text/plain": [
       "(18, 2)"
      ]
     },
     "execution_count": 45,
     "metadata": {},
     "output_type": "execute_result"
    }
   ],
   "source": [
    "c.shape"
   ]
  },
  {
   "cell_type": "code",
   "execution_count": 82,
   "metadata": {},
   "outputs": [
    {
     "data": {
      "image/png": "[encoded data removed]",
      "text/plain": [
       "<Figure size 432x288 with 1 Axes>"
      ]
     },
     "metadata": {},
     "output_type": "display_data"
    }
   ],
   "source": [
    "sns.barplot(x = c.index, y = c.sum(axis = 1));\n",
    "plt.xticks(rotation = 90);\n",
    "plt.title('Total sugarcane and coconut production over years');"
   ]
  },
  {
   "cell_type": "code",
   "execution_count": 107,
   "metadata": {},
   "outputs": [
    {
     "data": {
      "image/png": "[encoded data removed]",
      "text/plain": [
       "<Figure size 432x288 with 1 Axes>"
      ]
     },
     "metadata": {},
     "output_type": "display_data"
    }
   ],
   "source": [
    "sns.barplot(x = c.index, y = 'Coconut', data = c, estimator = np.sum);\n",
    "plt.xticks(rotation = 90);"
   ]
  },
  {
   "cell_type": "code",
   "execution_count": 112,
   "metadata": {},
   "outputs": [],
   "source": [
    "temp = s.groupby(\"Crop_Year\").sum()\n",
    "temp.drop([2015], axis = 0, inplace = True)\n",
    "rel = c.Sugarcane / (temp.Production - c.Coconut)"
   ]
  },
  {
   "cell_type": "code",
   "execution_count": 113,
   "metadata": {},
   "outputs": [
    {
     "data": {
      "text/plain": [
       "Crop_Year\n",
       "1997    0.666184\n",
       "1998    0.485381\n",
       "1999    0.511634\n",
       "2000    0.520178\n",
       "2001    0.507545\n",
       "2002    0.525787\n",
       "2003    0.426528\n",
       "2004    0.437545\n",
       "2005    0.483891\n",
       "2006    0.456022\n",
       "2007    0.438413\n",
       "2008    0.503808\n",
       "2009    0.465684\n",
       "2010    0.473068\n",
       "2011    0.483305\n",
       "2012    0.495869\n",
       "2013    0.506833\n",
       "2014    0.553858\n",
       "2015         NaN\n",
       "dtype: float64"
      ]
     },
     "execution_count": 113,
     "metadata": {},
     "output_type": "execute_result"
    }
   ],
   "source": [
    "rel"
   ]
  },
  {
   "cell_type": "code",
   "execution_count": 114,
   "metadata": {},
   "outputs": [],
   "source": [
    "rel_other = 1 - rel"
   ]
  },
  {
   "cell_type": "code",
   "execution_count": 115,
   "metadata": {},
   "outputs": [
    {
     "data": {
      "image/png": "[encoded data removed]",
      "text/plain": [
       "<Figure size 576x432 with 1 Axes>"
      ]
     },
     "metadata": {},
     "output_type": "display_data"
    }
   ],
   "source": [
    "fig = plt.gcf()\n",
    "fig.set_size_inches(8,6)\n",
    "plt.bar(rel.index, height = rel_other);\n",
    "plt.bar(rel.index, height = rel, bottom = rel_other);\n",
    "plt.xticks(rotation = 90);\n",
    "plt.title('Contribution of Sugarcane production in total production(excluding coconut)');"
   ]
  },
  {
   "cell_type": "code",
   "execution_count": 455,
   "metadata": {},
   "outputs": [
    {
     "data": {
      "image/png": "[encoded data removed]",
      "text/plain": [
       "<Figure size 576x432 with 1 Axes>"
      ]
     },
     "metadata": {},
     "output_type": "display_data"
    }
   ],
   "source": [
    "fig = plt.gcf()\n",
    "fig.set_size_inches(8,6)\n",
    "plt.bar(c.index, height = rel_other, color = 'blue');\n",
    "plt.bar(c.index, height = c.Coconut / temp.Production, bottom = rel_other, color = 'orange');\n",
    "plt.bar(c.index, height = c.Sugarcane / temp.Production, bottom = c.Coconut/temp.Production + rel_other, color = 'green');\n",
    "plt.xticks(rotation = 90);\n",
    "plt.legend(['Rel_other','Rel_Coconut', 'Rel_Sugarcane']);\n",
    "#plt.title('Contribution of Coconut+Sugarcane production in total production');"
   ]
  },
  {
   "cell_type": "markdown",
   "metadata": {},
   "source": [
    "### excluding coconut and sugarcane production"
   ]
  },
  {
   "cell_type": "code",
   "execution_count": 49,
   "metadata": {},
   "outputs": [],
   "source": [
    "d = s[(s.Crop != 'Coconut') & (s.Crop != 'Sugarcane')]"
   ]
  },
  {
   "cell_type": "code",
   "execution_count": 50,
   "metadata": {},
   "outputs": [
    {
     "data": {
      "text/plain": [
       "(1101, 4)"
      ]
     },
     "execution_count": 50,
     "metadata": {},
     "output_type": "execute_result"
    }
   ],
   "source": [
    "d = d[d.Crop_Year != 2015]\n",
    "d.shape"
   ]
  },
  {
   "cell_type": "code",
   "execution_count": 51,
   "metadata": {},
   "outputs": [],
   "source": [
    "d.sort_values(['Crop_Year','Production'], ascending = [True, False], inplace = True)"
   ]
  },
  {
   "cell_type": "code",
   "execution_count": 52,
   "metadata": {},
   "outputs": [
    {
     "data": {
      "text/html": [
       "<div>\n",
       "<style scoped>\n",
       "    .dataframe tbody tr th:only-of-type {\n",
       "        vertical-align: middle;\n",
       "    }\n",
       "\n",
       "    .dataframe tbody tr th {\n",
       "        vertical-align: top;\n",
       "    }\n",
       "\n",
       "    .dataframe thead th {\n",
       "        text-align: right;\n",
       "    }\n",
       "</style>\n",
       "<table border=\"1\" class=\"dataframe\">\n",
       "  <thead>\n",
       "    <tr style=\"text-align: right;\">\n",
       "      <th></th>\n",
       "      <th>Crop_Year</th>\n",
       "      <th>Crop</th>\n",
       "      <th>Area</th>\n",
       "      <th>Production</th>\n",
       "    </tr>\n",
       "  </thead>\n",
       "  <tbody>\n",
       "    <tr>\n",
       "      <th>38</th>\n",
       "      <td>1997</td>\n",
       "      <td>Rice</td>\n",
       "      <td>30706467.0</td>\n",
       "      <td>65848504.0</td>\n",
       "    </tr>\n",
       "    <tr>\n",
       "      <th>53</th>\n",
       "      <td>1997</td>\n",
       "      <td>Wheat</td>\n",
       "      <td>25640826.0</td>\n",
       "      <td>63831633.0</td>\n",
       "    </tr>\n",
       "    <tr>\n",
       "      <th>35</th>\n",
       "      <td>1997</td>\n",
       "      <td>Potato</td>\n",
       "      <td>941622.0</td>\n",
       "      <td>14095119.0</td>\n",
       "    </tr>\n",
       "    <tr>\n",
       "      <th>33</th>\n",
       "      <td>1997</td>\n",
       "      <td>Paddy</td>\n",
       "      <td>7885677.0</td>\n",
       "      <td>12551503.0</td>\n",
       "    </tr>\n",
       "    <tr>\n",
       "      <th>11</th>\n",
       "      <td>1997</td>\n",
       "      <td>Cotton(lint)</td>\n",
       "      <td>5230253.0</td>\n",
       "      <td>10443524.0</td>\n",
       "    </tr>\n",
       "  </tbody>\n",
       "</table>\n",
       "</div>"
      ],
      "text/plain": [
       "    Crop_Year          Crop        Area  Production\n",
       "38       1997          Rice  30706467.0  65848504.0\n",
       "53       1997         Wheat  25640826.0  63831633.0\n",
       "35       1997        Potato    941622.0  14095119.0\n",
       "33       1997         Paddy   7885677.0  12551503.0\n",
       "11       1997  Cotton(lint)   5230253.0  10443524.0"
      ]
     },
     "execution_count": 52,
     "metadata": {},
     "output_type": "execute_result"
    }
   ],
   "source": [
    "d.head()"
   ]
  },
  {
   "cell_type": "code",
   "execution_count": 53,
   "metadata": {},
   "outputs": [],
   "source": [
    "top5crops = d.groupby(['Crop_Year']).head()"
   ]
  },
  {
   "cell_type": "code",
   "execution_count": 461,
   "metadata": {},
   "outputs": [
    {
     "data": {
      "text/html": [
       "<div>\n",
       "<style scoped>\n",
       "    .dataframe tbody tr th:only-of-type {\n",
       "        vertical-align: middle;\n",
       "    }\n",
       "\n",
       "    .dataframe tbody tr th {\n",
       "        vertical-align: top;\n",
       "    }\n",
       "\n",
       "    .dataframe thead th {\n",
       "        text-align: right;\n",
       "    }\n",
       "</style>\n",
       "<table border=\"1\" class=\"dataframe\">\n",
       "  <thead>\n",
       "    <tr style=\"text-align: right;\">\n",
       "      <th></th>\n",
       "      <th>Crop_Year</th>\n",
       "      <th>Crop</th>\n",
       "      <th>Area</th>\n",
       "      <th>Production</th>\n",
       "    </tr>\n",
       "  </thead>\n",
       "  <tbody>\n",
       "    <tr>\n",
       "      <th>38</th>\n",
       "      <td>1997</td>\n",
       "      <td>Rice</td>\n",
       "      <td>30706467.0</td>\n",
       "      <td>65848504.0</td>\n",
       "    </tr>\n",
       "    <tr>\n",
       "      <th>53</th>\n",
       "      <td>1997</td>\n",
       "      <td>Wheat</td>\n",
       "      <td>25640826.0</td>\n",
       "      <td>63831633.0</td>\n",
       "    </tr>\n",
       "    <tr>\n",
       "      <th>35</th>\n",
       "      <td>1997</td>\n",
       "      <td>Potato</td>\n",
       "      <td>941622.0</td>\n",
       "      <td>14095119.0</td>\n",
       "    </tr>\n",
       "    <tr>\n",
       "      <th>33</th>\n",
       "      <td>1997</td>\n",
       "      <td>Paddy</td>\n",
       "      <td>7885677.0</td>\n",
       "      <td>12551503.0</td>\n",
       "    </tr>\n",
       "    <tr>\n",
       "      <th>11</th>\n",
       "      <td>1997</td>\n",
       "      <td>Cotton(lint)</td>\n",
       "      <td>5230253.0</td>\n",
       "      <td>10443524.0</td>\n",
       "    </tr>\n",
       "  </tbody>\n",
       "</table>\n",
       "</div>"
      ],
      "text/plain": [
       "    Crop_Year          Crop        Area  Production\n",
       "38       1997          Rice  30706467.0  65848504.0\n",
       "53       1997         Wheat  25640826.0  63831633.0\n",
       "35       1997        Potato    941622.0  14095119.0\n",
       "33       1997         Paddy   7885677.0  12551503.0\n",
       "11       1997  Cotton(lint)   5230253.0  10443524.0"
      ]
     },
     "execution_count": 461,
     "metadata": {},
     "output_type": "execute_result"
    }
   ],
   "source": [
    "top5crops.head()"
   ]
  },
  {
   "cell_type": "code",
   "execution_count": 54,
   "metadata": {},
   "outputs": [],
   "source": [
    "tb = pd.pivot_table(data = top5crops, index = 'Crop_Year', columns = 'Crop', values = 'Production', aggfunc = np.sum)"
   ]
  },
  {
   "cell_type": "code",
   "execution_count": 55,
   "metadata": {},
   "outputs": [],
   "source": [
    "tb.drop([1997], axis = 0, inplace = True)"
   ]
  },
  {
   "cell_type": "code",
   "execution_count": 56,
   "metadata": {},
   "outputs": [],
   "source": [
    "tb.drop([\"Jute\", \"Paddy\"], axis = 1, inplace = True)"
   ]
  },
  {
   "cell_type": "code",
   "execution_count": 57,
   "metadata": {
    "collapsed": true
   },
   "outputs": [
    {
     "data": {
      "text/html": [
       "<div>\n",
       "<style scoped>\n",
       "    .dataframe tbody tr th:only-of-type {\n",
       "        vertical-align: middle;\n",
       "    }\n",
       "\n",
       "    .dataframe tbody tr th {\n",
       "        vertical-align: top;\n",
       "    }\n",
       "\n",
       "    .dataframe thead th {\n",
       "        text-align: right;\n",
       "    }\n",
       "</style>\n",
       "<table border=\"1\" class=\"dataframe\">\n",
       "  <thead>\n",
       "    <tr style=\"text-align: right;\">\n",
       "      <th>Crop</th>\n",
       "      <th>Cotton(lint)</th>\n",
       "      <th>Maize</th>\n",
       "      <th>Potato</th>\n",
       "      <th>Rice</th>\n",
       "      <th>Wheat</th>\n",
       "    </tr>\n",
       "    <tr>\n",
       "      <th>Crop_Year</th>\n",
       "      <th></th>\n",
       "      <th></th>\n",
       "      <th></th>\n",
       "      <th></th>\n",
       "      <th></th>\n",
       "    </tr>\n",
       "  </thead>\n",
       "  <tbody>\n",
       "    <tr>\n",
       "      <th>1998</th>\n",
       "      <td>11167120.0</td>\n",
       "      <td>10038590.00</td>\n",
       "      <td>20042976.00</td>\n",
       "      <td>7.876122e+07</td>\n",
       "      <td>69699079.00</td>\n",
       "    </tr>\n",
       "    <tr>\n",
       "      <th>1999</th>\n",
       "      <td>10641844.0</td>\n",
       "      <td>11245483.00</td>\n",
       "      <td>21777579.00</td>\n",
       "      <td>7.791707e+07</td>\n",
       "      <td>75068369.00</td>\n",
       "    </tr>\n",
       "    <tr>\n",
       "      <th>2000</th>\n",
       "      <td>NaN</td>\n",
       "      <td>11977311.20</td>\n",
       "      <td>20332883.90</td>\n",
       "      <td>8.309270e+07</td>\n",
       "      <td>69487129.90</td>\n",
       "    </tr>\n",
       "    <tr>\n",
       "      <th>2001</th>\n",
       "      <td>NaN</td>\n",
       "      <td>12669242.50</td>\n",
       "      <td>22344741.30</td>\n",
       "      <td>9.005787e+07</td>\n",
       "      <td>72648945.90</td>\n",
       "    </tr>\n",
       "    <tr>\n",
       "      <th>2002</th>\n",
       "      <td>NaN</td>\n",
       "      <td>11021981.25</td>\n",
       "      <td>22214426.06</td>\n",
       "      <td>7.145340e+07</td>\n",
       "      <td>65760625.34</td>\n",
       "    </tr>\n",
       "    <tr>\n",
       "      <th>2003</th>\n",
       "      <td>13623687.0</td>\n",
       "      <td>14638847.57</td>\n",
       "      <td>22304309.16</td>\n",
       "      <td>8.783597e+07</td>\n",
       "      <td>72780554.81</td>\n",
       "    </tr>\n",
       "    <tr>\n",
       "      <th>2004</th>\n",
       "      <td>16974350.0</td>\n",
       "      <td>13823196.47</td>\n",
       "      <td>21971368.94</td>\n",
       "      <td>8.417252e+07</td>\n",
       "      <td>69567075.35</td>\n",
       "    </tr>\n",
       "    <tr>\n",
       "      <th>2005</th>\n",
       "      <td>18388534.5</td>\n",
       "      <td>13775161.56</td>\n",
       "      <td>22600047.10</td>\n",
       "      <td>8.958719e+07</td>\n",
       "      <td>67305067.70</td>\n",
       "    </tr>\n",
       "    <tr>\n",
       "      <th>2006</th>\n",
       "      <td>20890976.0</td>\n",
       "      <td>14245663.50</td>\n",
       "      <td>19565118.70</td>\n",
       "      <td>9.167629e+07</td>\n",
       "      <td>77294678.30</td>\n",
       "    </tr>\n",
       "    <tr>\n",
       "      <th>2007</th>\n",
       "      <td>17294926.0</td>\n",
       "      <td>17585721.60</td>\n",
       "      <td>26644642.10</td>\n",
       "      <td>9.206481e+07</td>\n",
       "      <td>77599127.90</td>\n",
       "    </tr>\n",
       "    <tr>\n",
       "      <th>2008</th>\n",
       "      <td>20777198.0</td>\n",
       "      <td>18331296.80</td>\n",
       "      <td>19577399.50</td>\n",
       "      <td>9.526127e+07</td>\n",
       "      <td>81590346.00</td>\n",
       "    </tr>\n",
       "    <tr>\n",
       "      <th>2009</th>\n",
       "      <td>20898065.0</td>\n",
       "      <td>15260108.00</td>\n",
       "      <td>30879180.80</td>\n",
       "      <td>8.735634e+07</td>\n",
       "      <td>80194411.40</td>\n",
       "    </tr>\n",
       "    <tr>\n",
       "      <th>2010</th>\n",
       "      <td>27317346.0</td>\n",
       "      <td>22062416.22</td>\n",
       "      <td>31096111.60</td>\n",
       "      <td>9.517621e+07</td>\n",
       "      <td>93043112.00</td>\n",
       "    </tr>\n",
       "    <tr>\n",
       "      <th>2011</th>\n",
       "      <td>27366253.0</td>\n",
       "      <td>19307949.40</td>\n",
       "      <td>26839202.10</td>\n",
       "      <td>1.020939e+08</td>\n",
       "      <td>91784119.70</td>\n",
       "    </tr>\n",
       "    <tr>\n",
       "      <th>2012</th>\n",
       "      <td>19767509.0</td>\n",
       "      <td>17253317.50</td>\n",
       "      <td>29817475.30</td>\n",
       "      <td>1.003305e+08</td>\n",
       "      <td>88022121.40</td>\n",
       "    </tr>\n",
       "    <tr>\n",
       "      <th>2013</th>\n",
       "      <td>20314588.0</td>\n",
       "      <td>23348084.00</td>\n",
       "      <td>23965707.00</td>\n",
       "      <td>1.028728e+08</td>\n",
       "      <td>75099453.60</td>\n",
       "    </tr>\n",
       "    <tr>\n",
       "      <th>2014</th>\n",
       "      <td>13581633.0</td>\n",
       "      <td>16781092.10</td>\n",
       "      <td>28700822.70</td>\n",
       "      <td>1.040182e+08</td>\n",
       "      <td>42048966.10</td>\n",
       "    </tr>\n",
       "  </tbody>\n",
       "</table>\n",
       "</div>"
      ],
      "text/plain": [
       "Crop       Cotton(lint)        Maize       Potato          Rice        Wheat\n",
       "Crop_Year                                                                   \n",
       "1998         11167120.0  10038590.00  20042976.00  7.876122e+07  69699079.00\n",
       "1999         10641844.0  11245483.00  21777579.00  7.791707e+07  75068369.00\n",
       "2000                NaN  11977311.20  20332883.90  8.309270e+07  69487129.90\n",
       "2001                NaN  12669242.50  22344741.30  9.005787e+07  72648945.90\n",
       "2002                NaN  11021981.25  22214426.06  7.145340e+07  65760625.34\n",
       "2003         13623687.0  14638847.57  22304309.16  8.783597e+07  72780554.81\n",
       "2004         16974350.0  13823196.47  21971368.94  8.417252e+07  69567075.35\n",
       "2005         18388534.5  13775161.56  22600047.10  8.958719e+07  67305067.70\n",
       "2006         20890976.0  14245663.50  19565118.70  9.167629e+07  77294678.30\n",
       "2007         17294926.0  17585721.60  26644642.10  9.206481e+07  77599127.90\n",
       "2008         20777198.0  18331296.80  19577399.50  9.526127e+07  81590346.00\n",
       "2009         20898065.0  15260108.00  30879180.80  8.735634e+07  80194411.40\n",
       "2010         27317346.0  22062416.22  31096111.60  9.517621e+07  93043112.00\n",
       "2011         27366253.0  19307949.40  26839202.10  1.020939e+08  91784119.70\n",
       "2012         19767509.0  17253317.50  29817475.30  1.003305e+08  88022121.40\n",
       "2013         20314588.0  23348084.00  23965707.00  1.028728e+08  75099453.60\n",
       "2014         13581633.0  16781092.10  28700822.70  1.040182e+08  42048966.10"
      ]
     },
     "execution_count": 57,
     "metadata": {},
     "output_type": "execute_result"
    }
   ],
   "source": [
    "tb"
   ]
  },
  {
   "cell_type": "markdown",
   "metadata": {},
   "source": [
    "cotton has been among the top crops except for years [2000, 2001, 2002]"
   ]
  },
  {
   "cell_type": "code",
   "execution_count": 59,
   "metadata": {},
   "outputs": [],
   "source": [
    "t = s[s.Crop == 'Cotton(lint)']\n",
    "t = t.groupby(['Crop_Year']).sum()"
   ]
  },
  {
   "cell_type": "code",
   "execution_count": 67,
   "metadata": {},
   "outputs": [],
   "source": [
    "tb.loc[2000:2002, ['Cotton(lint)']] = t.loc[2000:2002, ['Production']].values"
   ]
  },
  {
   "cell_type": "code",
   "execution_count": 68,
   "metadata": {
    "collapsed": true
   },
   "outputs": [
    {
     "data": {
      "text/html": [
       "<div>\n",
       "<style scoped>\n",
       "    .dataframe tbody tr th:only-of-type {\n",
       "        vertical-align: middle;\n",
       "    }\n",
       "\n",
       "    .dataframe tbody tr th {\n",
       "        vertical-align: top;\n",
       "    }\n",
       "\n",
       "    .dataframe thead th {\n",
       "        text-align: right;\n",
       "    }\n",
       "</style>\n",
       "<table border=\"1\" class=\"dataframe\">\n",
       "  <thead>\n",
       "    <tr style=\"text-align: right;\">\n",
       "      <th>Crop</th>\n",
       "      <th>Cotton(lint)</th>\n",
       "      <th>Maize</th>\n",
       "      <th>Potato</th>\n",
       "      <th>Rice</th>\n",
       "      <th>Wheat</th>\n",
       "    </tr>\n",
       "    <tr>\n",
       "      <th>Crop_Year</th>\n",
       "      <th></th>\n",
       "      <th></th>\n",
       "      <th></th>\n",
       "      <th></th>\n",
       "      <th></th>\n",
       "    </tr>\n",
       "  </thead>\n",
       "  <tbody>\n",
       "    <tr>\n",
       "      <th>1998</th>\n",
       "      <td>11167120.0</td>\n",
       "      <td>10038590.00</td>\n",
       "      <td>20042976.00</td>\n",
       "      <td>7.876122e+07</td>\n",
       "      <td>69699079.00</td>\n",
       "    </tr>\n",
       "    <tr>\n",
       "      <th>1999</th>\n",
       "      <td>10641844.0</td>\n",
       "      <td>11245483.00</td>\n",
       "      <td>21777579.00</td>\n",
       "      <td>7.791707e+07</td>\n",
       "      <td>75068369.00</td>\n",
       "    </tr>\n",
       "    <tr>\n",
       "      <th>2000</th>\n",
       "      <td>9154973.0</td>\n",
       "      <td>11977311.20</td>\n",
       "      <td>20332883.90</td>\n",
       "      <td>8.309270e+07</td>\n",
       "      <td>69487129.90</td>\n",
       "    </tr>\n",
       "    <tr>\n",
       "      <th>2001</th>\n",
       "      <td>9835595.0</td>\n",
       "      <td>12669242.50</td>\n",
       "      <td>22344741.30</td>\n",
       "      <td>9.005787e+07</td>\n",
       "      <td>72648945.90</td>\n",
       "    </tr>\n",
       "    <tr>\n",
       "      <th>2002</th>\n",
       "      <td>8561894.2</td>\n",
       "      <td>11021981.25</td>\n",
       "      <td>22214426.06</td>\n",
       "      <td>7.145340e+07</td>\n",
       "      <td>65760625.34</td>\n",
       "    </tr>\n",
       "    <tr>\n",
       "      <th>2003</th>\n",
       "      <td>13623687.0</td>\n",
       "      <td>14638847.57</td>\n",
       "      <td>22304309.16</td>\n",
       "      <td>8.783597e+07</td>\n",
       "      <td>72780554.81</td>\n",
       "    </tr>\n",
       "    <tr>\n",
       "      <th>2004</th>\n",
       "      <td>16974350.0</td>\n",
       "      <td>13823196.47</td>\n",
       "      <td>21971368.94</td>\n",
       "      <td>8.417252e+07</td>\n",
       "      <td>69567075.35</td>\n",
       "    </tr>\n",
       "    <tr>\n",
       "      <th>2005</th>\n",
       "      <td>18388534.5</td>\n",
       "      <td>13775161.56</td>\n",
       "      <td>22600047.10</td>\n",
       "      <td>8.958719e+07</td>\n",
       "      <td>67305067.70</td>\n",
       "    </tr>\n",
       "    <tr>\n",
       "      <th>2006</th>\n",
       "      <td>20890976.0</td>\n",
       "      <td>14245663.50</td>\n",
       "      <td>19565118.70</td>\n",
       "      <td>9.167629e+07</td>\n",
       "      <td>77294678.30</td>\n",
       "    </tr>\n",
       "    <tr>\n",
       "      <th>2007</th>\n",
       "      <td>17294926.0</td>\n",
       "      <td>17585721.60</td>\n",
       "      <td>26644642.10</td>\n",
       "      <td>9.206481e+07</td>\n",
       "      <td>77599127.90</td>\n",
       "    </tr>\n",
       "    <tr>\n",
       "      <th>2008</th>\n",
       "      <td>20777198.0</td>\n",
       "      <td>18331296.80</td>\n",
       "      <td>19577399.50</td>\n",
       "      <td>9.526127e+07</td>\n",
       "      <td>81590346.00</td>\n",
       "    </tr>\n",
       "    <tr>\n",
       "      <th>2009</th>\n",
       "      <td>20898065.0</td>\n",
       "      <td>15260108.00</td>\n",
       "      <td>30879180.80</td>\n",
       "      <td>8.735634e+07</td>\n",
       "      <td>80194411.40</td>\n",
       "    </tr>\n",
       "    <tr>\n",
       "      <th>2010</th>\n",
       "      <td>27317346.0</td>\n",
       "      <td>22062416.22</td>\n",
       "      <td>31096111.60</td>\n",
       "      <td>9.517621e+07</td>\n",
       "      <td>93043112.00</td>\n",
       "    </tr>\n",
       "    <tr>\n",
       "      <th>2011</th>\n",
       "      <td>27366253.0</td>\n",
       "      <td>19307949.40</td>\n",
       "      <td>26839202.10</td>\n",
       "      <td>1.020939e+08</td>\n",
       "      <td>91784119.70</td>\n",
       "    </tr>\n",
       "    <tr>\n",
       "      <th>2012</th>\n",
       "      <td>19767509.0</td>\n",
       "      <td>17253317.50</td>\n",
       "      <td>29817475.30</td>\n",
       "      <td>1.003305e+08</td>\n",
       "      <td>88022121.40</td>\n",
       "    </tr>\n",
       "    <tr>\n",
       "      <th>2013</th>\n",
       "      <td>20314588.0</td>\n",
       "      <td>23348084.00</td>\n",
       "      <td>23965707.00</td>\n",
       "      <td>1.028728e+08</td>\n",
       "      <td>75099453.60</td>\n",
       "    </tr>\n",
       "    <tr>\n",
       "      <th>2014</th>\n",
       "      <td>13581633.0</td>\n",
       "      <td>16781092.10</td>\n",
       "      <td>28700822.70</td>\n",
       "      <td>1.040182e+08</td>\n",
       "      <td>42048966.10</td>\n",
       "    </tr>\n",
       "  </tbody>\n",
       "</table>\n",
       "</div>"
      ],
      "text/plain": [
       "Crop       Cotton(lint)        Maize       Potato          Rice        Wheat\n",
       "Crop_Year                                                                   \n",
       "1998         11167120.0  10038590.00  20042976.00  7.876122e+07  69699079.00\n",
       "1999         10641844.0  11245483.00  21777579.00  7.791707e+07  75068369.00\n",
       "2000          9154973.0  11977311.20  20332883.90  8.309270e+07  69487129.90\n",
       "2001          9835595.0  12669242.50  22344741.30  9.005787e+07  72648945.90\n",
       "2002          8561894.2  11021981.25  22214426.06  7.145340e+07  65760625.34\n",
       "2003         13623687.0  14638847.57  22304309.16  8.783597e+07  72780554.81\n",
       "2004         16974350.0  13823196.47  21971368.94  8.417252e+07  69567075.35\n",
       "2005         18388534.5  13775161.56  22600047.10  8.958719e+07  67305067.70\n",
       "2006         20890976.0  14245663.50  19565118.70  9.167629e+07  77294678.30\n",
       "2007         17294926.0  17585721.60  26644642.10  9.206481e+07  77599127.90\n",
       "2008         20777198.0  18331296.80  19577399.50  9.526127e+07  81590346.00\n",
       "2009         20898065.0  15260108.00  30879180.80  8.735634e+07  80194411.40\n",
       "2010         27317346.0  22062416.22  31096111.60  9.517621e+07  93043112.00\n",
       "2011         27366253.0  19307949.40  26839202.10  1.020939e+08  91784119.70\n",
       "2012         19767509.0  17253317.50  29817475.30  1.003305e+08  88022121.40\n",
       "2013         20314588.0  23348084.00  23965707.00  1.028728e+08  75099453.60\n",
       "2014         13581633.0  16781092.10  28700822.70  1.040182e+08  42048966.10"
      ]
     },
     "execution_count": 68,
     "metadata": {},
     "output_type": "execute_result"
    }
   ],
   "source": [
    "tb"
   ]
  },
  {
   "cell_type": "code",
   "execution_count": 116,
   "metadata": {},
   "outputs": [
    {
     "data": {
      "image/png": "[encoded data removed]",
      "text/plain": [
       "<Figure size 432x288 with 1 Axes>"
      ]
     },
     "metadata": {},
     "output_type": "display_data"
    }
   ],
   "source": [
    "crops = tb.columns\n",
    "fig = plt.gcf()\n",
    "for crop in crops:\n",
    "    sns.lineplot(x = tb.index, y = crop, data = tb);\n",
    "plt.legend(crops);\n",
    "plt.ylabel('Production (in tonnes)');"
   ]
  },
  {
   "cell_type": "markdown",
   "metadata": {},
   "source": [
    "### efficiency of top crops across years"
   ]
  },
  {
   "cell_type": "code",
   "execution_count": 119,
   "metadata": {},
   "outputs": [
    {
     "data": {
      "text/plain": [
       "(1154, 4)"
      ]
     },
     "execution_count": 119,
     "metadata": {},
     "output_type": "execute_result"
    }
   ],
   "source": [
    "s.shape"
   ]
  },
  {
   "cell_type": "code",
   "execution_count": 194,
   "metadata": {},
   "outputs": [],
   "source": [
    "s = s.groupby('Crop').rolling(4).mean()"
   ]
  },
  {
   "cell_type": "code",
   "execution_count": 196,
   "metadata": {},
   "outputs": [],
   "source": [
    "s.reset_index(inplace = True)"
   ]
  },
  {
   "cell_type": "code",
   "execution_count": 198,
   "metadata": {},
   "outputs": [],
   "source": [
    "s.dropna(inplace = True)"
   ]
  },
  {
   "cell_type": "code",
   "execution_count": 199,
   "metadata": {},
   "outputs": [
    {
     "data": {
      "text/html": [
       "<div>\n",
       "<style scoped>\n",
       "    .dataframe tbody tr th:only-of-type {\n",
       "        vertical-align: middle;\n",
       "    }\n",
       "\n",
       "    .dataframe tbody tr th {\n",
       "        vertical-align: top;\n",
       "    }\n",
       "\n",
       "    .dataframe thead th {\n",
       "        text-align: right;\n",
       "    }\n",
       "</style>\n",
       "<table border=\"1\" class=\"dataframe\">\n",
       "  <thead>\n",
       "    <tr style=\"text-align: right;\">\n",
       "      <th></th>\n",
       "      <th>Crop</th>\n",
       "      <th>level_1</th>\n",
       "      <th>Crop_Year</th>\n",
       "      <th>Area</th>\n",
       "      <th>Production</th>\n",
       "    </tr>\n",
       "  </thead>\n",
       "  <tbody>\n",
       "    <tr>\n",
       "      <th>6</th>\n",
       "      <td>Arecanut</td>\n",
       "      <td>167</td>\n",
       "      <td>1998.5</td>\n",
       "      <td>250208.7500</td>\n",
       "      <td>405244.5000</td>\n",
       "    </tr>\n",
       "    <tr>\n",
       "      <th>7</th>\n",
       "      <td>Arecanut</td>\n",
       "      <td>226</td>\n",
       "      <td>1999.5</td>\n",
       "      <td>266930.2500</td>\n",
       "      <td>421602.0000</td>\n",
       "    </tr>\n",
       "    <tr>\n",
       "      <th>8</th>\n",
       "      <td>Arecanut</td>\n",
       "      <td>287</td>\n",
       "      <td>2000.5</td>\n",
       "      <td>247145.2500</td>\n",
       "      <td>268052.2500</td>\n",
       "    </tr>\n",
       "    <tr>\n",
       "      <th>9</th>\n",
       "      <td>Arecanut</td>\n",
       "      <td>390</td>\n",
       "      <td>2001.5</td>\n",
       "      <td>291585.5000</td>\n",
       "      <td>331178.2500</td>\n",
       "    </tr>\n",
       "    <tr>\n",
       "      <th>10</th>\n",
       "      <td>Arecanut</td>\n",
       "      <td>490</td>\n",
       "      <td>2002.5</td>\n",
       "      <td>286020.0925</td>\n",
       "      <td>328031.5125</td>\n",
       "    </tr>\n",
       "    <tr>\n",
       "      <th>...</th>\n",
       "      <td>...</td>\n",
       "      <td>...</td>\n",
       "      <td>...</td>\n",
       "      <td>...</td>\n",
       "      <td>...</td>\n",
       "    </tr>\n",
       "    <tr>\n",
       "      <th>1149</th>\n",
       "      <td>other oilseeds</td>\n",
       "      <td>859</td>\n",
       "      <td>2008.5</td>\n",
       "      <td>388532.5000</td>\n",
       "      <td>153797.7250</td>\n",
       "    </tr>\n",
       "    <tr>\n",
       "      <th>1150</th>\n",
       "      <td>other oilseeds</td>\n",
       "      <td>920</td>\n",
       "      <td>2009.5</td>\n",
       "      <td>408936.5000</td>\n",
       "      <td>424454.1750</td>\n",
       "    </tr>\n",
       "    <tr>\n",
       "      <th>1151</th>\n",
       "      <td>other oilseeds</td>\n",
       "      <td>988</td>\n",
       "      <td>2010.5</td>\n",
       "      <td>382603.0000</td>\n",
       "      <td>414560.2500</td>\n",
       "    </tr>\n",
       "    <tr>\n",
       "      <th>1152</th>\n",
       "      <td>other oilseeds</td>\n",
       "      <td>1064</td>\n",
       "      <td>2011.5</td>\n",
       "      <td>384573.7500</td>\n",
       "      <td>732102.2500</td>\n",
       "    </tr>\n",
       "    <tr>\n",
       "      <th>1153</th>\n",
       "      <td>other oilseeds</td>\n",
       "      <td>1136</td>\n",
       "      <td>2012.5</td>\n",
       "      <td>75781.5000</td>\n",
       "      <td>951123.7500</td>\n",
       "    </tr>\n",
       "  </tbody>\n",
       "</table>\n",
       "<p>846 rows × 5 columns</p>\n",
       "</div>"
      ],
      "text/plain": [
       "                Crop  level_1  Crop_Year         Area   Production\n",
       "6           Arecanut      167     1998.5  250208.7500  405244.5000\n",
       "7           Arecanut      226     1999.5  266930.2500  421602.0000\n",
       "8           Arecanut      287     2000.5  247145.2500  268052.2500\n",
       "9           Arecanut      390     2001.5  291585.5000  331178.2500\n",
       "10          Arecanut      490     2002.5  286020.0925  328031.5125\n",
       "...              ...      ...        ...          ...          ...\n",
       "1149  other oilseeds      859     2008.5  388532.5000  153797.7250\n",
       "1150  other oilseeds      920     2009.5  408936.5000  424454.1750\n",
       "1151  other oilseeds      988     2010.5  382603.0000  414560.2500\n",
       "1152  other oilseeds     1064     2011.5  384573.7500  732102.2500\n",
       "1153  other oilseeds     1136     2012.5   75781.5000  951123.7500\n",
       "\n",
       "[846 rows x 5 columns]"
      ]
     },
     "execution_count": 199,
     "metadata": {},
     "output_type": "execute_result"
    }
   ],
   "source": [
    "s"
   ]
  },
  {
   "cell_type": "code",
   "execution_count": 156,
   "metadata": {},
   "outputs": [],
   "source": [
    "crops1 = ['Coconut'] \n",
    "crops2 = ['Potato','Sugarcane']\n",
    "crops3 = ['Cotton(lint)','Maize','Rice','Wheat']"
   ]
  },
  {
   "cell_type": "code",
   "execution_count": 204,
   "metadata": {},
   "outputs": [],
   "source": [
    "st = s[s.Crop.isin(crops2)]"
   ]
  },
  {
   "cell_type": "code",
   "execution_count": null,
   "metadata": {},
   "outputs": [],
   "source": []
  },
  {
   "cell_type": "code",
   "execution_count": 205,
   "metadata": {},
   "outputs": [
    {
     "name": "stderr",
     "output_type": "stream",
     "text": [
      "/usr/anaconda/lib/python3.7/site-packages/ipykernel_launcher.py:1: SettingWithCopyWarning: \n",
      "A value is trying to be set on a copy of a slice from a DataFrame.\n",
      "Try using .loc[row_indexer,col_indexer] = value instead\n",
      "\n",
      "See the caveats in the documentation: https://pandas.pydata.org/pandas-docs/stable/user_guide/indexing.html#returning-a-view-versus-a-copy\n",
      "  \"\"\"Entry point for launching an IPython kernel.\n"
     ]
    }
   ],
   "source": [
    "st['eff'] = st.Production / st.Area"
   ]
  },
  {
   "cell_type": "code",
   "execution_count": null,
   "metadata": {},
   "outputs": [],
   "source": []
  },
  {
   "cell_type": "code",
   "execution_count": 206,
   "metadata": {},
   "outputs": [
    {
     "data": {
      "image/png": "[encoded data removed]",
      "text/plain": [
       "<Figure size 432x288 with 1 Axes>"
      ]
     },
     "metadata": {},
     "output_type": "display_data"
    }
   ],
   "source": [
    "sns.lineplot(x = 'Crop_Year', y = 'eff', data = st[st.Crop_Year != 2015], hue = 'Crop');"
   ]
  },
  {
   "cell_type": "markdown",
   "metadata": {},
   "source": [
    "### Low producing crops"
   ]
  },
  {
   "cell_type": "code",
   "execution_count": 221,
   "metadata": {},
   "outputs": [],
   "source": [
    "lowprod5 = s.groupby([\"Crop_Year\"]).tail(10)"
   ]
  },
  {
   "cell_type": "code",
   "execution_count": 222,
   "metadata": {},
   "outputs": [
    {
     "data": {
      "text/plain": [
       "array(['Moth', 'Korra', 'Coriander', 'Samai', 'Sannhamp', 'Niger seed',\n",
       "       'Safflower', 'Cardamom', 'Varagu', 'Kapas', 'Khesari', 'Blackgram',\n",
       "       'other oilseeds', 'Black pepper', 'Jute & mesta',\n",
       "       'Other Cereals & Millets', 'Cond-spcs other', 'Tea',\n",
       "       'other misc. pulses', 'Coffee', 'Pear', 'Peas  (vegetable)',\n",
       "       'Plums', 'Pome Granet', 'Pump Kin', 'Ribed Guard', 'Snak Guard',\n",
       "       'Water Melon', 'Yam', 'other fibres', 'Cashewnut',\n",
       "       'Other  Rabi pulses', 'Linseed', 'Peas & beans (Pulses)',\n",
       "       'Other Kharif pulses', 'Cowpea(Lobia)', 'Ginger', 'Mango',\n",
       "       'Brinjal', 'Cabbage', 'Drum Stick', 'Grapes', 'Ricebean (nagadal)',\n",
       "       'Bean', 'Lentil', 'Perilla', 'Jobster', 'Urad', 'Horse-gram',\n",
       "       'Rapeseed &Mustard', 'Sesamum', 'Soyabean', 'Small millets',\n",
       "       'Jute', 'Wheat', 'Barley'], dtype=object)"
      ]
     },
     "execution_count": 222,
     "metadata": {},
     "output_type": "execute_result"
    }
   ],
   "source": [
    "lowprod5.Crop.unique()"
   ]
  },
  {
   "cell_type": "code",
   "execution_count": 223,
   "metadata": {},
   "outputs": [],
   "source": [
    "tb = pd.pivot_table(lowprod5, index = 'Crop_Year', values = 'Production', columns = 'Crop')"
   ]
  },
  {
   "cell_type": "code",
   "execution_count": 224,
   "metadata": {
    "collapsed": true
   },
   "outputs": [
    {
     "data": {
      "text/plain": [
       "Crop\n",
       "Barley                     18\n",
       "Bean                       17\n",
       "Black pepper               10\n",
       "Blackgram                  13\n",
       "Brinjal                    18\n",
       "Cabbage                    17\n",
       "Cardamom                    4\n",
       "Cashewnut                  16\n",
       "Coffee                     18\n",
       "Cond-spcs other            18\n",
       "Coriander                  17\n",
       "Cowpea(Lobia)              15\n",
       "Drum Stick                 16\n",
       "Ginger                     18\n",
       "Grapes                     16\n",
       "Horse-gram                 18\n",
       "Jobster                    18\n",
       "Jute                       18\n",
       "Jute & mesta               16\n",
       "Kapas                      16\n",
       "Khesari                    18\n",
       "Korra                      14\n",
       "Lentil                     17\n",
       "Linseed                    12\n",
       "Mango                      17\n",
       "Moth                       11\n",
       "Niger seed                  9\n",
       "Other  Rabi pulses         14\n",
       "Other Cereals & Millets     9\n",
       "Other Kharif pulses        17\n",
       "Pear                       17\n",
       "Peas  (vegetable)          17\n",
       "Peas & beans (Pulses)      16\n",
       "Perilla                    18\n",
       "Plums                      17\n",
       "Pome Granet                16\n",
       "Pump Kin                   17\n",
       "Rapeseed &Mustard          18\n",
       "Ribed Guard                17\n",
       "Ricebean (nagadal)         18\n",
       "Safflower                  16\n",
       "Samai                      14\n",
       "Sannhamp                    4\n",
       "Sesamum                    18\n",
       "Small millets              18\n",
       "Snak Guard                 17\n",
       "Soyabean                   18\n",
       "Tea                        15\n",
       "Urad                       18\n",
       "Varagu                     14\n",
       "Water Melon                17\n",
       "Wheat                      18\n",
       "Yam                        17\n",
       "other fibres               17\n",
       "other misc. pulses         18\n",
       "other oilseeds              9\n",
       "dtype: int64"
      ]
     },
     "execution_count": 224,
     "metadata": {},
     "output_type": "execute_result"
    }
   ],
   "source": [
    "tb.isna().sum()"
   ]
  },
  {
   "cell_type": "markdown",
   "metadata": {},
   "source": [
    "## Category of crops"
   ]
  },
  {
   "cell_type": "code",
   "execution_count": 14,
   "metadata": {},
   "outputs": [
    {
     "data": {
      "text/plain": [
       "array(['Arecanut', 'Other Kharif pulses', 'Rice', 'Banana', 'Cashewnut',\n",
       "       'Coconut', 'Dry ginger', 'Sugarcane', 'Sweet potato', 'Tapioca',\n",
       "       'Black pepper', 'Dry chillies', 'other oilseeds', 'Turmeric',\n",
       "       'Maize', 'Moong(Green Gram)', 'Urad', 'Arhar/Tur', 'Groundnut',\n",
       "       'Sunflower', 'Bajra', 'Castor seed', 'Cotton(lint)', 'Horse-gram',\n",
       "       'Jowar', 'Korra', 'Ragi', 'Tobacco', 'Gram', 'Wheat', 'Masoor',\n",
       "       'Sesamum', 'Linseed', 'Safflower', 'Onion', 'other misc. pulses',\n",
       "       'Samai', 'Small millets', 'Coriander', 'Potato',\n",
       "       'Other  Rabi pulses', 'Soyabean', 'Beans & Mutter(Vegetable)',\n",
       "       'Bhindi', 'Brinjal', 'Citrus Fruit', 'Cucumber', 'Grapes', 'Mango',\n",
       "       'Orange', 'other fibres', 'Other Fresh Fruits', 'Other Vegetables',\n",
       "       'Papaya', 'Pome Fruit', 'Tomato', 'Mesta', 'Cowpea(Lobia)',\n",
       "       'Lemon', 'Pome Granet', 'Sapota', 'Cabbage', 'Rapeseed &Mustard',\n",
       "       'Peas  (vegetable)', 'Niger seed', 'Bottle Gourd', 'Varagu',\n",
       "       'Garlic', 'Ginger', 'Jute', 'Peas & beans (Pulses)', 'Blackgram',\n",
       "       'Paddy', 'Pineapple', 'Barley', 'Sannhamp', 'Khesari', 'Guar seed',\n",
       "       'Moth', 'Other Cereals & Millets', 'Cond-spcs other', 'Turnip',\n",
       "       'Carrot', 'Redish', 'Arcanut (Processed)', 'Atcanut (Raw)',\n",
       "       'Cashewnut Processed', 'Cashewnut Raw', 'Cardamom', 'Rubber',\n",
       "       'Bitter Gourd', 'Drum Stick', 'Jack Fruit', 'Snak Guard', 'Tea',\n",
       "       'Coffee', 'Cauliflower', 'Other Citrus Fruit', 'Water Melon',\n",
       "       'Kapas', 'Colocosia', 'Lentil', 'Bean', 'Jobster', 'Perilla',\n",
       "       'Rajmash Kholar', 'Ricebean (nagadal)', 'Ash Gourd', 'Beet Root',\n",
       "       'Lab-Lab', 'Ribed Guard', 'Yam', 'Pump Kin', 'Apple', 'Peach',\n",
       "       'Pear', 'Plums', 'Litchi', 'Ber', 'Other Dry Fruit',\n",
       "       'Jute & mesta'], dtype=object)"
      ]
     },
     "execution_count": 14,
     "metadata": {},
     "output_type": "execute_result"
    }
   ],
   "source": [
    "df.Crop.unique()"
   ]
  },
  {
   "cell_type": "code",
   "execution_count": 15,
   "metadata": {},
   "outputs": [],
   "source": [
    "spices = ['Dry ginger','Black pepper','Dry chillies','Turmeric','Coriander','Garlic','Ginger','Khesari','Cardamom']\n",
    "vegetables = ['Sweet potato','Tapioca','Onion','Potato','Beans & Mutter(Vegetable)','Bhindi','Brinjal','Cucumber',\n",
    "             'Cabbage','Peas  (Vegetable)']\n",
    "fruits = ['Banana','Citrus Fruit','Grapes','Mango','Orange','Papaya','Pome fruit','Lemon','Pome Granet','Tomato']\n",
    "pulses = ['Moong(Green Gram)', 'Urad','Arhar/Tur','Horse-gram','Gram','Masoor']\n",
    "cereals = ['Rice','Maize','Bajra','Jowar','Wheat','Small millets','Ragi','Korra','Samai']\n",
    "oilseeds = ['Coconut','Groundnut','Sunflower','Castor seed',]\n",
    "cash_crops = ['Arecanut','Cashewnut','Sugarcane','Cotton(lint)','Tobacco',]"
   ]
  },
  {
   "cell_type": "code",
   "execution_count": 16,
   "metadata": {},
   "outputs": [],
   "source": [
    "t = df[df.Crop.isin(spices)]"
   ]
  },
  {
   "cell_type": "code",
   "execution_count": 17,
   "metadata": {},
   "outputs": [
    {
     "data": {
      "text/plain": [
       "(22967, 7)"
      ]
     },
     "execution_count": 17,
     "metadata": {},
     "output_type": "execute_result"
    }
   ],
   "source": [
    "t.shape"
   ]
  },
  {
   "cell_type": "code",
   "execution_count": 18,
   "metadata": {},
   "outputs": [
    {
     "data": {
      "text/plain": [
       "array(['Dry ginger', 'Black pepper', 'Dry chillies', 'Turmeric',\n",
       "       'Coriander', 'Garlic', 'Ginger', 'Khesari', 'Cardamom'],\n",
       "      dtype=object)"
      ]
     },
     "execution_count": 18,
     "metadata": {},
     "output_type": "execute_result"
    }
   ],
   "source": [
    "t.Crop.unique()"
   ]
  },
  {
   "cell_type": "code",
   "execution_count": 19,
   "metadata": {},
   "outputs": [],
   "source": [
    "s = t.groupby('Crop_Year').sum()"
   ]
  },
  {
   "cell_type": "code",
   "execution_count": null,
   "metadata": {},
   "outputs": [],
   "source": []
  },
  {
   "cell_type": "code",
   "execution_count": 232,
   "metadata": {},
   "outputs": [
    {
     "data": {
      "image/png": "[encoded data removed]",
      "text/plain": [
       "<Figure size 432x288 with 1 Axes>"
      ]
     },
     "metadata": {},
     "output_type": "display_data"
    }
   ],
   "source": [
    "sns.scatterplot(x = 'Area', y = 'Production', data = s);\n",
    "plt.xticks(rotation = 90);"
   ]
  },
  {
   "cell_type": "code",
   "execution_count": 238,
   "metadata": {},
   "outputs": [
    {
     "data": {
      "image/png": "[encoded data removed]",
      "text/plain": [
       "<Figure size 432x288 with 1 Axes>"
      ]
     },
     "metadata": {},
     "output_type": "display_data"
    }
   ],
   "source": [
    "sns.lineplot(s.index, y = 'Production', data= s);\n",
    "sns.lineplot(s.index, y = 'Area', data = s);\n",
    "plt.ylabel('');\n",
    "plt.legend(['Production','Area']);"
   ]
  },
  {
   "cell_type": "code",
   "execution_count": 25,
   "metadata": {},
   "outputs": [],
   "source": [
    "states = df.State_Name.unique()\n",
    "states_spice = t.State_Name.unique()"
   ]
  },
  {
   "cell_type": "code",
   "execution_count": 26,
   "metadata": {},
   "outputs": [
    {
     "name": "stdout",
     "output_type": "stream",
     "text": [
      "Chandigarh\n",
      "Jharkhand\n",
      "Maharashtra\n",
      "Mizoram\n",
      "Punjab\n",
      "Sikkim\n",
      "Tripura\n"
     ]
    }
   ],
   "source": [
    "for state in states:\n",
    "    if state not in states_spice:\n",
    "        print(state)"
   ]
  },
  {
   "cell_type": "code",
   "execution_count": 59,
   "metadata": {},
   "outputs": [],
   "source": [
    "s = t.groupby(['Crop','Crop_Year']).sum()"
   ]
  },
  {
   "cell_type": "code",
   "execution_count": null,
   "metadata": {},
   "outputs": [],
   "source": []
  },
  {
   "cell_type": "code",
   "execution_count": 60,
   "metadata": {},
   "outputs": [],
   "source": [
    "s.reset_index(inplace = True)"
   ]
  },
  {
   "cell_type": "code",
   "execution_count": 35,
   "metadata": {},
   "outputs": [],
   "source": [
    "s = s.groupby('Crop').rolling(4).mean()"
   ]
  },
  {
   "cell_type": "code",
   "execution_count": 37,
   "metadata": {},
   "outputs": [],
   "source": [
    "s.reset_index(inplace = True)"
   ]
  },
  {
   "cell_type": "code",
   "execution_count": 38,
   "metadata": {},
   "outputs": [],
   "source": [
    "s.dropna(inplace = True)"
   ]
  },
  {
   "cell_type": "code",
   "execution_count": 39,
   "metadata": {},
   "outputs": [
    {
     "data": {
      "text/html": [
       "<div>\n",
       "<style scoped>\n",
       "    .dataframe tbody tr th:only-of-type {\n",
       "        vertical-align: middle;\n",
       "    }\n",
       "\n",
       "    .dataframe tbody tr th {\n",
       "        vertical-align: top;\n",
       "    }\n",
       "\n",
       "    .dataframe thead th {\n",
       "        text-align: right;\n",
       "    }\n",
       "</style>\n",
       "<table border=\"1\" class=\"dataframe\">\n",
       "  <thead>\n",
       "    <tr style=\"text-align: right;\">\n",
       "      <th></th>\n",
       "      <th>Crop</th>\n",
       "      <th>level_1</th>\n",
       "      <th>Crop_Year</th>\n",
       "      <th>Area</th>\n",
       "      <th>Production</th>\n",
       "    </tr>\n",
       "  </thead>\n",
       "  <tbody>\n",
       "    <tr>\n",
       "      <th>3</th>\n",
       "      <td>Black pepper</td>\n",
       "      <td>3</td>\n",
       "      <td>1998.5</td>\n",
       "      <td>196796.7500</td>\n",
       "      <td>69809.5000</td>\n",
       "    </tr>\n",
       "    <tr>\n",
       "      <th>4</th>\n",
       "      <td>Black pepper</td>\n",
       "      <td>4</td>\n",
       "      <td>1999.5</td>\n",
       "      <td>204932.0000</td>\n",
       "      <td>75617.5000</td>\n",
       "    </tr>\n",
       "    <tr>\n",
       "      <th>5</th>\n",
       "      <td>Black pepper</td>\n",
       "      <td>5</td>\n",
       "      <td>2000.5</td>\n",
       "      <td>212473.7500</td>\n",
       "      <td>78437.7500</td>\n",
       "    </tr>\n",
       "    <tr>\n",
       "      <th>6</th>\n",
       "      <td>Black pepper</td>\n",
       "      <td>6</td>\n",
       "      <td>2001.5</td>\n",
       "      <td>219043.6250</td>\n",
       "      <td>85926.0575</td>\n",
       "    </tr>\n",
       "    <tr>\n",
       "      <th>7</th>\n",
       "      <td>Black pepper</td>\n",
       "      <td>7</td>\n",
       "      <td>2002.5</td>\n",
       "      <td>229326.3750</td>\n",
       "      <td>92008.3625</td>\n",
       "    </tr>\n",
       "    <tr>\n",
       "      <th>...</th>\n",
       "      <td>...</td>\n",
       "      <td>...</td>\n",
       "      <td>...</td>\n",
       "      <td>...</td>\n",
       "      <td>...</td>\n",
       "    </tr>\n",
       "    <tr>\n",
       "      <th>144</th>\n",
       "      <td>Turmeric</td>\n",
       "      <td>144</td>\n",
       "      <td>2008.5</td>\n",
       "      <td>115395.1950</td>\n",
       "      <td>562997.6725</td>\n",
       "    </tr>\n",
       "    <tr>\n",
       "      <th>145</th>\n",
       "      <td>Turmeric</td>\n",
       "      <td>145</td>\n",
       "      <td>2009.5</td>\n",
       "      <td>145664.3075</td>\n",
       "      <td>748443.7325</td>\n",
       "    </tr>\n",
       "    <tr>\n",
       "      <th>146</th>\n",
       "      <td>Turmeric</td>\n",
       "      <td>146</td>\n",
       "      <td>2010.5</td>\n",
       "      <td>125642.3075</td>\n",
       "      <td>643033.4825</td>\n",
       "    </tr>\n",
       "    <tr>\n",
       "      <th>147</th>\n",
       "      <td>Turmeric</td>\n",
       "      <td>147</td>\n",
       "      <td>2011.5</td>\n",
       "      <td>127892.3075</td>\n",
       "      <td>639832.4075</td>\n",
       "    </tr>\n",
       "    <tr>\n",
       "      <th>148</th>\n",
       "      <td>Turmeric</td>\n",
       "      <td>148</td>\n",
       "      <td>2012.5</td>\n",
       "      <td>125996.8625</td>\n",
       "      <td>618012.4100</td>\n",
       "    </tr>\n",
       "  </tbody>\n",
       "</table>\n",
       "<p>122 rows × 5 columns</p>\n",
       "</div>"
      ],
      "text/plain": [
       "             Crop  level_1  Crop_Year         Area   Production\n",
       "3    Black pepper        3     1998.5  196796.7500   69809.5000\n",
       "4    Black pepper        4     1999.5  204932.0000   75617.5000\n",
       "5    Black pepper        5     2000.5  212473.7500   78437.7500\n",
       "6    Black pepper        6     2001.5  219043.6250   85926.0575\n",
       "7    Black pepper        7     2002.5  229326.3750   92008.3625\n",
       "..            ...      ...        ...          ...          ...\n",
       "144      Turmeric      144     2008.5  115395.1950  562997.6725\n",
       "145      Turmeric      145     2009.5  145664.3075  748443.7325\n",
       "146      Turmeric      146     2010.5  125642.3075  643033.4825\n",
       "147      Turmeric      147     2011.5  127892.3075  639832.4075\n",
       "148      Turmeric      148     2012.5  125996.8625  618012.4100\n",
       "\n",
       "[122 rows x 5 columns]"
      ]
     },
     "execution_count": 39,
     "metadata": {},
     "output_type": "execute_result"
    }
   ],
   "source": [
    "s"
   ]
  },
  {
   "cell_type": "code",
   "execution_count": 41,
   "metadata": {},
   "outputs": [
    {
     "data": {
      "image/png": "[encoded data removed]",
      "text/plain": [
       "<Figure size 432x288 with 1 Axes>"
      ]
     },
     "metadata": {},
     "output_type": "display_data"
    }
   ],
   "source": [
    "sns.lineplot(x = 'Crop_Year', y = 'Production', data = s, hue = 'Crop');\n",
    "plt.xticks(rotation = 90);\n",
    "plt.legend(bbox_to_anchor = (1.02,1));"
   ]
  },
  {
   "cell_type": "code",
   "execution_count": 46,
   "metadata": {
    "scrolled": true
   },
   "outputs": [
    {
     "data": {
      "image/png": "[encoded data removed]",
      "text/plain": [
       "<Figure size 432x288 with 1 Axes>"
      ]
     },
     "metadata": {},
     "output_type": "display_data"
    }
   ],
   "source": [
    "sns.scatterplot('Area','Production', data = s, size = 'Crop_Year');\n",
    "plt.xticks(rotation = 90);\n",
    "plt.legend(bbox_to_anchor = (1.02,1));"
   ]
  },
  {
   "cell_type": "code",
   "execution_count": 61,
   "metadata": {},
   "outputs": [
    {
     "data": {
      "application/vnd.plotly.v1+json": {
       "config": {
        "plotlyServerURL": "https://plot.ly"
       },
       "data": [
        {
         "hovertemplate": "Crop=Black pepper<br>Crop_Year=1997<br>Area=%{x}<br>Production=%{marker.size}<extra></extra>",
         "ids": [
          "Black pepper"
         ],
         "legendgroup": "Black pepper",
         "marker": {
          "color": "#636efa",
          "size": [
           57204
          ],
          "sizemode": "area",
          "sizeref": 4289.7275,
          "symbol": "circle"
         },
         "mode": "markers",
         "name": "Black pepper",
         "orientation": "v",
         "showlegend": true,
         "type": "scatter",
         "x": [
          181126
         ],
         "xaxis": "x",
         "y": [
          57204
         ],
         "yaxis": "y"
        },
        {
         "hovertemplate": "Crop=Cardamom<br>Crop_Year=1997<br>Area=%{x}<br>Production=%{marker.size}<extra></extra>",
         "ids": [
          "Cardamom"
         ],
         "legendgroup": "Cardamom",
         "marker": {
          "color": "#EF553B",
          "size": [
           1701
          ],
          "sizemode": "area",
          "sizeref": 4289.7275,
          "symbol": "circle"
         },
         "mode": "markers",
         "name": "Cardamom",
         "orientation": "v",
         "showlegend": true,
         "type": "scatter",
         "x": [
          29168
         ],
         "xaxis": "x",
         "y": [
          1701
         ],
         "yaxis": "y"
        },
        {
         "hovertemplate": "Crop=Coriander<br>Crop_Year=1997<br>Area=%{x}<br>Production=%{marker.size}<extra></extra>",
         "ids": [
          "Coriander"
         ],
         "legendgroup": "Coriander",
         "marker": {
          "color": "#00cc96",
          "size": [
           13169
          ],
          "sizemode": "area",
          "sizeref": 4289.7275,
          "symbol": "circle"
         },
         "mode": "markers",
         "name": "Coriander",
         "orientation": "v",
         "showlegend": true,
         "type": "scatter",
         "x": [
          57930
         ],
         "xaxis": "x",
         "y": [
          13169
         ],
         "yaxis": "y"
        },
        {
         "hovertemplate": "Crop=Dry chillies<br>Crop_Year=1997<br>Area=%{x}<br>Production=%{marker.size}<extra></extra>",
         "ids": [
          "Dry chillies"
         ],
         "legendgroup": "Dry chillies",
         "marker": {
          "color": "#ab63fa",
          "size": [
           618764
          ],
          "sizemode": "area",
          "sizeref": 4289.7275,
          "symbol": "circle"
         },
         "mode": "markers",
         "name": "Dry chillies",
         "orientation": "v",
         "showlegend": true,
         "type": "scatter",
         "x": [
          536530
         ],
         "xaxis": "x",
         "y": [
          618764
         ],
         "yaxis": "y"
        },
        {
         "hovertemplate": "Crop=Dry ginger<br>Crop_Year=1997<br>Area=%{x}<br>Production=%{marker.size}<extra></extra>",
         "ids": [
          "Dry ginger"
         ],
         "legendgroup": "Dry ginger",
         "marker": {
          "color": "#FFA15A",
          "size": [
           69027
          ],
          "sizemode": "area",
          "sizeref": 4289.7275,
          "symbol": "circle"
         },
         "mode": "markers",
         "name": "Dry ginger",
         "orientation": "v",
         "showlegend": true,
         "type": "scatter",
         "x": [
          12119
         ],
         "xaxis": "x",
         "y": [
          69027
         ],
         "yaxis": "y"
        },
        {
         "hovertemplate": "Crop=Garlic<br>Crop_Year=1997<br>Area=%{x}<br>Production=%{marker.size}<extra></extra>",
         "ids": [
          "Garlic"
         ],
         "legendgroup": "Garlic",
         "marker": {
          "color": "#19d3f3",
          "size": [
           146910
          ],
          "sizemode": "area",
          "sizeref": 4289.7275,
          "symbol": "circle"
         },
         "mode": "markers",
         "name": "Garlic",
         "orientation": "v",
         "showlegend": true,
         "type": "scatter",
         "x": [
          28730
         ],
         "xaxis": "x",
         "y": [
          146910
         ],
         "yaxis": "y"
        },
        {
         "hovertemplate": "Crop=Khesari<br>Crop_Year=1997<br>Area=%{x}<br>Production=%{marker.size}<extra></extra>",
         "ids": [
          "Khesari"
         ],
         "legendgroup": "Khesari",
         "marker": {
          "color": "#B6E880",
          "size": [
           28460
          ],
          "sizemode": "area",
          "sizeref": 4289.7275,
          "symbol": "circle"
         },
         "mode": "markers",
         "name": "Khesari",
         "orientation": "v",
         "showlegend": true,
         "type": "scatter",
         "x": [
          25261
         ],
         "xaxis": "x",
         "y": [
          28460
         ],
         "yaxis": "y"
        },
        {
         "hovertemplate": "Crop=Turmeric<br>Crop_Year=1997<br>Area=%{x}<br>Production=%{marker.size}<extra></extra>",
         "ids": [
          "Turmeric"
         ],
         "legendgroup": "Turmeric",
         "marker": {
          "color": "#FF97FF",
          "size": [
           175614
          ],
          "sizemode": "area",
          "sizeref": 4289.7275,
          "symbol": "circle"
         },
         "mode": "markers",
         "name": "Turmeric",
         "orientation": "v",
         "showlegend": true,
         "type": "scatter",
         "x": [
          49377
         ],
         "xaxis": "x",
         "y": [
          175614
         ],
         "yaxis": "y"
        }
       ],
       "frames": [
        {
         "data": [
          {
           "hovertemplate": "Crop=Black pepper<br>Crop_Year=1997<br>Area=%{x}<br>Production=%{marker.size}<extra></extra>",
           "ids": [
            "Black pepper"
           ],
           "legendgroup": "Black pepper",
           "marker": {
            "color": "#636efa",
            "size": [
             57204
            ],
            "sizemode": "area",
            "sizeref": 4289.7275,
            "symbol": "circle"
           },
           "mode": "markers",
           "name": "Black pepper",
           "orientation": "v",
           "showlegend": true,
           "type": "scatter",
           "x": [
            181126
           ],
           "xaxis": "x",
           "y": [
            57204
           ],
           "yaxis": "y"
          },
          {
           "hovertemplate": "Crop=Cardamom<br>Crop_Year=1997<br>Area=%{x}<br>Production=%{marker.size}<extra></extra>",
           "ids": [
            "Cardamom"
           ],
           "legendgroup": "Cardamom",
           "marker": {
            "color": "#EF553B",
            "size": [
             1701
            ],
            "sizemode": "area",
            "sizeref": 4289.7275,
            "symbol": "circle"
           },
           "mode": "markers",
           "name": "Cardamom",
           "orientation": "v",
           "showlegend": true,
           "type": "scatter",
           "x": [
            29168
           ],
           "xaxis": "x",
           "y": [
            1701
           ],
           "yaxis": "y"
          },
          {
           "hovertemplate": "Crop=Coriander<br>Crop_Year=1997<br>Area=%{x}<br>Production=%{marker.size}<extra></extra>",
           "ids": [
            "Coriander"
           ],
           "legendgroup": "Coriander",
           "marker": {
            "color": "#00cc96",
            "size": [
             13169
            ],
            "sizemode": "area",
            "sizeref": 4289.7275,
            "symbol": "circle"
           },
           "mode": "markers",
           "name": "Coriander",
           "orientation": "v",
           "showlegend": true,
           "type": "scatter",
           "x": [
            57930
           ],
           "xaxis": "x",
           "y": [
            13169
           ],
           "yaxis": "y"
          },
          {
           "hovertemplate": "Crop=Dry chillies<br>Crop_Year=1997<br>Area=%{x}<br>Production=%{marker.size}<extra></extra>",
           "ids": [
            "Dry chillies"
           ],
           "legendgroup": "Dry chillies",
           "marker": {
            "color": "#ab63fa",
            "size": [
             618764
            ],
            "sizemode": "area",
            "sizeref": 4289.7275,
            "symbol": "circle"
           },
           "mode": "markers",
           "name": "Dry chillies",
           "orientation": "v",
           "showlegend": true,
           "type": "scatter",
           "x": [
            536530
           ],
           "xaxis": "x",
           "y": [
            618764
           ],
           "yaxis": "y"
          },
          {
           "hovertemplate": "Crop=Dry ginger<br>Crop_Year=1997<br>Area=%{x}<br>Production=%{marker.size}<extra></extra>",
           "ids": [
            "Dry ginger"
           ],
           "legendgroup": "Dry ginger",
           "marker": {
            "color": "#FFA15A",
            "size": [
             69027
            ],
            "sizemode": "area",
            "sizeref": 4289.7275,
            "symbol": "circle"
           },
           "mode": "markers",
           "name": "Dry ginger",
           "orientation": "v",
           "showlegend": true,
           "type": "scatter",
           "x": [
            12119
           ],
           "xaxis": "x",
           "y": [
            69027
           ],
           "yaxis": "y"
          },
          {
           "hovertemplate": "Crop=Garlic<br>Crop_Year=1997<br>Area=%{x}<br>Production=%{marker.size}<extra></extra>",
           "ids": [
            "Garlic"
           ],
           "legendgroup": "Garlic",
           "marker": {
            "color": "#19d3f3",
            "size": [
             146910
            ],
            "sizemode": "area",
            "sizeref": 4289.7275,
            "symbol": "circle"
           },
           "mode": "markers",
           "name": "Garlic",
           "orientation": "v",
           "showlegend": true,
           "type": "scatter",
           "x": [
            28730
           ],
           "xaxis": "x",
           "y": [
            146910
           ],
           "yaxis": "y"
          },
          {
           "hovertemplate": "Crop=Khesari<br>Crop_Year=1997<br>Area=%{x}<br>Production=%{marker.size}<extra></extra>",
           "ids": [
            "Khesari"
           ],
           "legendgroup": "Khesari",
           "marker": {
            "color": "#B6E880",
            "size": [
             28460
            ],
            "sizemode": "area",
            "sizeref": 4289.7275,
            "symbol": "circle"
           },
           "mode": "markers",
           "name": "Khesari",
           "orientation": "v",
           "showlegend": true,
           "type": "scatter",
           "x": [
            25261
           ],
           "xaxis": "x",
           "y": [
            28460
           ],
           "yaxis": "y"
          },
          {
           "hovertemplate": "Crop=Turmeric<br>Crop_Year=1997<br>Area=%{x}<br>Production=%{marker.size}<extra></extra>",
           "ids": [
            "Turmeric"
           ],
           "legendgroup": "Turmeric",
           "marker": {
            "color": "#FF97FF",
            "size": [
             175614
            ],
            "sizemode": "area",
            "sizeref": 4289.7275,
            "symbol": "circle"
           },
           "mode": "markers",
           "name": "Turmeric",
           "orientation": "v",
           "showlegend": true,
           "type": "scatter",
           "x": [
            49377
           ],
           "xaxis": "x",
           "y": [
            175614
           ],
           "yaxis": "y"
          }
         ],
         "name": "1997"
        },
        {
         "data": [
          {
           "hovertemplate": "Crop=Black pepper<br>Crop_Year=1998<br>Area=%{x}<br>Production=%{marker.size}<extra></extra>",
           "ids": [
            "Black pepper"
           ],
           "legendgroup": "Black pepper",
           "marker": {
            "color": "#636efa",
            "size": [
             79379
            ],
            "sizemode": "area",
            "sizeref": 4289.7275,
            "symbol": "circle"
           },
           "mode": "markers",
           "name": "Black pepper",
           "orientation": "v",
           "showlegend": true,
           "type": "scatter",
           "x": [
            189416
           ],
           "xaxis": "x",
           "y": [
            79379
           ],
           "yaxis": "y"
          },
          {
           "hovertemplate": "Crop=Cardamom<br>Crop_Year=1998<br>Area=%{x}<br>Production=%{marker.size}<extra></extra>",
           "ids": [
            "Cardamom"
           ],
           "legendgroup": "Cardamom",
           "marker": {
            "color": "#EF553B",
            "size": [
             7144
            ],
            "sizemode": "area",
            "sizeref": 4289.7275,
            "symbol": "circle"
           },
           "mode": "markers",
           "name": "Cardamom",
           "orientation": "v",
           "showlegend": true,
           "type": "scatter",
           "x": [
            67805
           ],
           "xaxis": "x",
           "y": [
            7144
           ],
           "yaxis": "y"
          },
          {
           "hovertemplate": "Crop=Coriander<br>Crop_Year=1998<br>Area=%{x}<br>Production=%{marker.size}<extra></extra>",
           "ids": [
            "Coriander"
           ],
           "legendgroup": "Coriander",
           "marker": {
            "color": "#00cc96",
            "size": [
             199226
            ],
            "sizemode": "area",
            "sizeref": 4289.7275,
            "symbol": "circle"
           },
           "mode": "markers",
           "name": "Coriander",
           "orientation": "v",
           "showlegend": true,
           "type": "scatter",
           "x": [
            282419
           ],
           "xaxis": "x",
           "y": [
            199226
           ],
           "yaxis": "y"
          },
          {
           "hovertemplate": "Crop=Dry chillies<br>Crop_Year=1998<br>Area=%{x}<br>Production=%{marker.size}<extra></extra>",
           "ids": [
            "Dry chillies"
           ],
           "legendgroup": "Dry chillies",
           "marker": {
            "color": "#ab63fa",
            "size": [
             857038
            ],
            "sizemode": "area",
            "sizeref": 4289.7275,
            "symbol": "circle"
           },
           "mode": "markers",
           "name": "Dry chillies",
           "orientation": "v",
           "showlegend": true,
           "type": "scatter",
           "x": [
            610581
           ],
           "xaxis": "x",
           "y": [
            857038
           ],
           "yaxis": "y"
          },
          {
           "hovertemplate": "Crop=Dry ginger<br>Crop_Year=1998<br>Area=%{x}<br>Production=%{marker.size}<extra></extra>",
           "ids": [
            "Dry ginger"
           ],
           "legendgroup": "Dry ginger",
           "marker": {
            "color": "#FFA15A",
            "size": [
             210103
            ],
            "sizemode": "area",
            "sizeref": 4289.7275,
            "symbol": "circle"
           },
           "mode": "markers",
           "name": "Dry ginger",
           "orientation": "v",
           "showlegend": true,
           "type": "scatter",
           "x": [
            40241
           ],
           "xaxis": "x",
           "y": [
            210103
           ],
           "yaxis": "y"
          },
          {
           "hovertemplate": "Crop=Garlic<br>Crop_Year=1998<br>Area=%{x}<br>Production=%{marker.size}<extra></extra>",
           "ids": [
            "Garlic"
           ],
           "legendgroup": "Garlic",
           "marker": {
            "color": "#19d3f3",
            "size": [
             262203
            ],
            "sizemode": "area",
            "sizeref": 4289.7275,
            "symbol": "circle"
           },
           "mode": "markers",
           "name": "Garlic",
           "orientation": "v",
           "showlegend": true,
           "type": "scatter",
           "x": [
            49009
           ],
           "xaxis": "x",
           "y": [
            262203
           ],
           "yaxis": "y"
          },
          {
           "hovertemplate": "Crop=Khesari<br>Crop_Year=1998<br>Area=%{x}<br>Production=%{marker.size}<extra></extra>",
           "ids": [
            "Khesari"
           ],
           "legendgroup": "Khesari",
           "marker": {
            "color": "#B6E880",
            "size": [
             20850
            ],
            "sizemode": "area",
            "sizeref": 4289.7275,
            "symbol": "circle"
           },
           "mode": "markers",
           "name": "Khesari",
           "orientation": "v",
           "showlegend": true,
           "type": "scatter",
           "x": [
            23300
           ],
           "xaxis": "x",
           "y": [
            20850
           ],
           "yaxis": "y"
          },
          {
           "hovertemplate": "Crop=Turmeric<br>Crop_Year=1998<br>Area=%{x}<br>Production=%{marker.size}<extra></extra>",
           "ids": [
            "Turmeric"
           ],
           "legendgroup": "Turmeric",
           "marker": {
            "color": "#FF97FF",
            "size": [
             202331
            ],
            "sizemode": "area",
            "sizeref": 4289.7275,
            "symbol": "circle"
           },
           "mode": "markers",
           "name": "Turmeric",
           "orientation": "v",
           "showlegend": true,
           "type": "scatter",
           "x": [
            59947
           ],
           "xaxis": "x",
           "y": [
            202331
           ],
           "yaxis": "y"
          }
         ],
         "name": "1998"
        },
        {
         "data": [
          {
           "hovertemplate": "Crop=Black pepper<br>Crop_Year=1999<br>Area=%{x}<br>Production=%{marker.size}<extra></extra>",
           "ids": [
            "Black pepper"
           ],
           "legendgroup": "Black pepper",
           "marker": {
            "color": "#636efa",
            "size": [
             63684
            ],
            "sizemode": "area",
            "sizeref": 4289.7275,
            "symbol": "circle"
           },
           "mode": "markers",
           "name": "Black pepper",
           "orientation": "v",
           "showlegend": true,
           "type": "scatter",
           "x": [
            205612
           ],
           "xaxis": "x",
           "y": [
            63684
           ],
           "yaxis": "y"
          },
          {
           "hovertemplate": "Crop=Cardamom<br>Crop_Year=1999<br>Area=%{x}<br>Production=%{marker.size}<extra></extra>",
           "ids": [
            "Cardamom"
           ],
           "legendgroup": "Cardamom",
           "marker": {
            "color": "#EF553B",
            "size": [
             8528
            ],
            "sizemode": "area",
            "sizeref": 4289.7275,
            "symbol": "circle"
           },
           "mode": "markers",
           "name": "Cardamom",
           "orientation": "v",
           "showlegend": true,
           "type": "scatter",
           "x": [
            65210
           ],
           "xaxis": "x",
           "y": [
            8528
           ],
           "yaxis": "y"
          },
          {
           "hovertemplate": "Crop=Coriander<br>Crop_Year=1999<br>Area=%{x}<br>Production=%{marker.size}<extra></extra>",
           "ids": [
            "Coriander"
           ],
           "legendgroup": "Coriander",
           "marker": {
            "color": "#00cc96",
            "size": [
             209609
            ],
            "sizemode": "area",
            "sizeref": 4289.7275,
            "symbol": "circle"
           },
           "mode": "markers",
           "name": "Coriander",
           "orientation": "v",
           "showlegend": true,
           "type": "scatter",
           "x": [
            332852
           ],
           "xaxis": "x",
           "y": [
            209609
           ],
           "yaxis": "y"
          },
          {
           "hovertemplate": "Crop=Dry chillies<br>Crop_Year=1999<br>Area=%{x}<br>Production=%{marker.size}<extra></extra>",
           "ids": [
            "Dry chillies"
           ],
           "legendgroup": "Dry chillies",
           "marker": {
            "color": "#ab63fa",
            "size": [
             932081
            ],
            "sizemode": "area",
            "sizeref": 4289.7275,
            "symbol": "circle"
           },
           "mode": "markers",
           "name": "Dry chillies",
           "orientation": "v",
           "showlegend": true,
           "type": "scatter",
           "x": [
            799977
           ],
           "xaxis": "x",
           "y": [
            932081
           ],
           "yaxis": "y"
          },
          {
           "hovertemplate": "Crop=Dry ginger<br>Crop_Year=1999<br>Area=%{x}<br>Production=%{marker.size}<extra></extra>",
           "ids": [
            "Dry ginger"
           ],
           "legendgroup": "Dry ginger",
           "marker": {
            "color": "#FFA15A",
            "size": [
             285932
            ],
            "sizemode": "area",
            "sizeref": 4289.7275,
            "symbol": "circle"
           },
           "mode": "markers",
           "name": "Dry ginger",
           "orientation": "v",
           "showlegend": true,
           "type": "scatter",
           "x": [
            59645
           ],
           "xaxis": "x",
           "y": [
            285932
           ],
           "yaxis": "y"
          },
          {
           "hovertemplate": "Crop=Garlic<br>Crop_Year=1999<br>Area=%{x}<br>Production=%{marker.size}<extra></extra>",
           "ids": [
            "Garlic"
           ],
           "legendgroup": "Garlic",
           "marker": {
            "color": "#19d3f3",
            "size": [
             440495
            ],
            "sizemode": "area",
            "sizeref": 4289.7275,
            "symbol": "circle"
           },
           "mode": "markers",
           "name": "Garlic",
           "orientation": "v",
           "showlegend": true,
           "type": "scatter",
           "x": [
            106883
           ],
           "xaxis": "x",
           "y": [
            440495
           ],
           "yaxis": "y"
          },
          {
           "hovertemplate": "Crop=Khesari<br>Crop_Year=1999<br>Area=%{x}<br>Production=%{marker.size}<extra></extra>",
           "ids": [
            "Khesari"
           ],
           "legendgroup": "Khesari",
           "marker": {
            "color": "#B6E880",
            "size": [
             181971
            ],
            "sizemode": "area",
            "sizeref": 4289.7275,
            "symbol": "circle"
           },
           "mode": "markers",
           "name": "Khesari",
           "orientation": "v",
           "showlegend": true,
           "type": "scatter",
           "x": [
            184055
           ],
           "xaxis": "x",
           "y": [
            181971
           ],
           "yaxis": "y"
          },
          {
           "hovertemplate": "Crop=Turmeric<br>Crop_Year=1999<br>Area=%{x}<br>Production=%{marker.size}<extra></extra>",
           "ids": [
            "Turmeric"
           ],
           "legendgroup": "Turmeric",
           "marker": {
            "color": "#FF97FF",
            "size": [
             292438
            ],
            "sizemode": "area",
            "sizeref": 4289.7275,
            "symbol": "circle"
           },
           "mode": "markers",
           "name": "Turmeric",
           "orientation": "v",
           "showlegend": true,
           "type": "scatter",
           "x": [
            98371
           ],
           "xaxis": "x",
           "y": [
            292438
           ],
           "yaxis": "y"
          }
         ],
         "name": "1999"
        },
        {
         "data": [
          {
           "hovertemplate": "Crop=Black pepper<br>Crop_Year=2000<br>Area=%{x}<br>Production=%{marker.size}<extra></extra>",
           "ids": [
            "Black pepper"
           ],
           "legendgroup": "Black pepper",
           "marker": {
            "color": "#636efa",
            "size": [
             78971
            ],
            "sizemode": "area",
            "sizeref": 4289.7275,
            "symbol": "circle"
           },
           "mode": "markers",
           "name": "Black pepper",
           "orientation": "v",
           "showlegend": true,
           "type": "scatter",
           "x": [
            211033
           ],
           "xaxis": "x",
           "y": [
            78971
           ],
           "yaxis": "y"
          },
          {
           "hovertemplate": "Crop=Cardamom<br>Crop_Year=2000<br>Area=%{x}<br>Production=%{marker.size}<extra></extra>",
           "ids": [
            "Cardamom"
           ],
           "legendgroup": "Cardamom",
           "marker": {
            "color": "#EF553B",
            "size": [
             8916
            ],
            "sizemode": "area",
            "sizeref": 4289.7275,
            "symbol": "circle"
           },
           "mode": "markers",
           "name": "Cardamom",
           "orientation": "v",
           "showlegend": true,
           "type": "scatter",
           "x": [
            62583
           ],
           "xaxis": "x",
           "y": [
            8916
           ],
           "yaxis": "y"
          },
          {
           "hovertemplate": "Crop=Coriander<br>Crop_Year=2000<br>Area=%{x}<br>Production=%{marker.size}<extra></extra>",
           "ids": [
            "Coriander"
           ],
           "legendgroup": "Coriander",
           "marker": {
            "color": "#00cc96",
            "size": [
             228107
            ],
            "sizemode": "area",
            "sizeref": 4289.7275,
            "symbol": "circle"
           },
           "mode": "markers",
           "name": "Coriander",
           "orientation": "v",
           "showlegend": true,
           "type": "scatter",
           "x": [
            346677
           ],
           "xaxis": "x",
           "y": [
            228107
           ],
           "yaxis": "y"
          },
          {
           "hovertemplate": "Crop=Dry chillies<br>Crop_Year=2000<br>Area=%{x}<br>Production=%{marker.size}<extra></extra>",
           "ids": [
            "Dry chillies"
           ],
           "legendgroup": "Dry chillies",
           "marker": {
            "color": "#ab63fa",
            "size": [
             910118
            ],
            "sizemode": "area",
            "sizeref": 4289.7275,
            "symbol": "circle"
           },
           "mode": "markers",
           "name": "Dry chillies",
           "orientation": "v",
           "showlegend": true,
           "type": "scatter",
           "x": [
            735060
           ],
           "xaxis": "x",
           "y": [
            910118
           ],
           "yaxis": "y"
          },
          {
           "hovertemplate": "Crop=Dry ginger<br>Crop_Year=2000<br>Area=%{x}<br>Production=%{marker.size}<extra></extra>",
           "ids": [
            "Dry ginger"
           ],
           "legendgroup": "Dry ginger",
           "marker": {
            "color": "#FFA15A",
            "size": [
             344098
            ],
            "sizemode": "area",
            "sizeref": 4289.7275,
            "symbol": "circle"
           },
           "mode": "markers",
           "name": "Dry ginger",
           "orientation": "v",
           "showlegend": true,
           "type": "scatter",
           "x": [
            69170
           ],
           "xaxis": "x",
           "y": [
            344098
           ],
           "yaxis": "y"
          },
          {
           "hovertemplate": "Crop=Garlic<br>Crop_Year=2000<br>Area=%{x}<br>Production=%{marker.size}<extra></extra>",
           "ids": [
            "Garlic"
           ],
           "legendgroup": "Garlic",
           "marker": {
            "color": "#19d3f3",
            "size": [
             155232
            ],
            "sizemode": "area",
            "sizeref": 4289.7275,
            "symbol": "circle"
           },
           "mode": "markers",
           "name": "Garlic",
           "orientation": "v",
           "showlegend": true,
           "type": "scatter",
           "x": [
            51837
           ],
           "xaxis": "x",
           "y": [
            155232
           ],
           "yaxis": "y"
          },
          {
           "hovertemplate": "Crop=Khesari<br>Crop_Year=2000<br>Area=%{x}<br>Production=%{marker.size}<extra></extra>",
           "ids": [
            "Khesari"
           ],
           "legendgroup": "Khesari",
           "marker": {
            "color": "#B6E880",
            "size": [
             294629
            ],
            "sizemode": "area",
            "sizeref": 4289.7275,
            "symbol": "circle"
           },
           "mode": "markers",
           "name": "Khesari",
           "orientation": "v",
           "showlegend": true,
           "type": "scatter",
           "x": [
            447916
           ],
           "xaxis": "x",
           "y": [
            294629
           ],
           "yaxis": "y"
          },
          {
           "hovertemplate": "Crop=Turmeric<br>Crop_Year=2000<br>Area=%{x}<br>Production=%{marker.size}<extra></extra>",
           "ids": [
            "Turmeric"
           ],
           "legendgroup": "Turmeric",
           "marker": {
            "color": "#FF97FF",
            "size": [
             683428
            ],
            "sizemode": "area",
            "sizeref": 4289.7275,
            "symbol": "circle"
           },
           "mode": "markers",
           "name": "Turmeric",
           "orientation": "v",
           "showlegend": true,
           "type": "scatter",
           "x": [
            174565
           ],
           "xaxis": "x",
           "y": [
            683428
           ],
           "yaxis": "y"
          }
         ],
         "name": "2000"
        },
        {
         "data": [
          {
           "hovertemplate": "Crop=Black pepper<br>Crop_Year=2001<br>Area=%{x}<br>Production=%{marker.size}<extra></extra>",
           "ids": [
            "Black pepper"
           ],
           "legendgroup": "Black pepper",
           "marker": {
            "color": "#636efa",
            "size": [
             80436
            ],
            "sizemode": "area",
            "sizeref": 4289.7275,
            "symbol": "circle"
           },
           "mode": "markers",
           "name": "Black pepper",
           "orientation": "v",
           "showlegend": true,
           "type": "scatter",
           "x": [
            213667
           ],
           "xaxis": "x",
           "y": [
            80436
           ],
           "yaxis": "y"
          },
          {
           "hovertemplate": "Crop=Cardamom<br>Crop_Year=2001<br>Area=%{x}<br>Production=%{marker.size}<extra></extra>",
           "ids": [
            "Cardamom"
           ],
           "legendgroup": "Cardamom",
           "marker": {
            "color": "#EF553B",
            "size": [
             9084
            ],
            "sizemode": "area",
            "sizeref": 4289.7275,
            "symbol": "circle"
           },
           "mode": "markers",
           "name": "Cardamom",
           "orientation": "v",
           "showlegend": true,
           "type": "scatter",
           "x": [
            43337
           ],
           "xaxis": "x",
           "y": [
            9084
           ],
           "yaxis": "y"
          },
          {
           "hovertemplate": "Crop=Coriander<br>Crop_Year=2001<br>Area=%{x}<br>Production=%{marker.size}<extra></extra>",
           "ids": [
            "Coriander"
           ],
           "legendgroup": "Coriander",
           "marker": {
            "color": "#00cc96",
            "size": [
             304873
            ],
            "sizemode": "area",
            "sizeref": 4289.7275,
            "symbol": "circle"
           },
           "mode": "markers",
           "name": "Coriander",
           "orientation": "v",
           "showlegend": true,
           "type": "scatter",
           "x": [
            396750
           ],
           "xaxis": "x",
           "y": [
            304873
           ],
           "yaxis": "y"
          },
          {
           "hovertemplate": "Crop=Dry chillies<br>Crop_Year=2001<br>Area=%{x}<br>Production=%{marker.size}<extra></extra>",
           "ids": [
            "Dry chillies"
           ],
           "legendgroup": "Dry chillies",
           "marker": {
            "color": "#ab63fa",
            "size": [
             932870
            ],
            "sizemode": "area",
            "sizeref": 4289.7275,
            "symbol": "circle"
           },
           "mode": "markers",
           "name": "Dry chillies",
           "orientation": "v",
           "showlegend": true,
           "type": "scatter",
           "x": [
            673863
           ],
           "xaxis": "x",
           "y": [
            932870
           ],
           "yaxis": "y"
          },
          {
           "hovertemplate": "Crop=Dry ginger<br>Crop_Year=2001<br>Area=%{x}<br>Production=%{marker.size}<extra></extra>",
           "ids": [
            "Dry ginger"
           ],
           "legendgroup": "Dry ginger",
           "marker": {
            "color": "#FFA15A",
            "size": [
             363052
            ],
            "sizemode": "area",
            "sizeref": 4289.7275,
            "symbol": "circle"
           },
           "mode": "markers",
           "name": "Dry ginger",
           "orientation": "v",
           "showlegend": true,
           "type": "scatter",
           "x": [
            72884
           ],
           "xaxis": "x",
           "y": [
            363052
           ],
           "yaxis": "y"
          },
          {
           "hovertemplate": "Crop=Garlic<br>Crop_Year=2001<br>Area=%{x}<br>Production=%{marker.size}<extra></extra>",
           "ids": [
            "Garlic"
           ],
           "legendgroup": "Garlic",
           "marker": {
            "color": "#19d3f3",
            "size": [
             230515
            ],
            "sizemode": "area",
            "sizeref": 4289.7275,
            "symbol": "circle"
           },
           "mode": "markers",
           "name": "Garlic",
           "orientation": "v",
           "showlegend": true,
           "type": "scatter",
           "x": [
            61579
           ],
           "xaxis": "x",
           "y": [
            230515
           ],
           "yaxis": "y"
          },
          {
           "hovertemplate": "Crop=Khesari<br>Crop_Year=2001<br>Area=%{x}<br>Production=%{marker.size}<extra></extra>",
           "ids": [
            "Khesari"
           ],
           "legendgroup": "Khesari",
           "marker": {
            "color": "#B6E880",
            "size": [
             387013
            ],
            "sizemode": "area",
            "sizeref": 4289.7275,
            "symbol": "circle"
           },
           "mode": "markers",
           "name": "Khesari",
           "orientation": "v",
           "showlegend": true,
           "type": "scatter",
           "x": [
            606893
           ],
           "xaxis": "x",
           "y": [
            387013
           ],
           "yaxis": "y"
          },
          {
           "hovertemplate": "Crop=Turmeric<br>Crop_Year=2001<br>Area=%{x}<br>Production=%{marker.size}<extra></extra>",
           "ids": [
            "Turmeric"
           ],
           "legendgroup": "Turmeric",
           "marker": {
            "color": "#FF97FF",
            "size": [
             401082
            ],
            "sizemode": "area",
            "sizeref": 4289.7275,
            "symbol": "circle"
           },
           "mode": "markers",
           "name": "Turmeric",
           "orientation": "v",
           "showlegend": true,
           "type": "scatter",
           "x": [
            131093
           ],
           "xaxis": "x",
           "y": [
            401082
           ],
           "yaxis": "y"
          }
         ],
         "name": "2001"
        },
        {
         "data": [
          {
           "hovertemplate": "Crop=Black pepper<br>Crop_Year=2002<br>Area=%{x}<br>Production=%{marker.size}<extra></extra>",
           "ids": [
            "Black pepper"
           ],
           "legendgroup": "Black pepper",
           "marker": {
            "color": "#636efa",
            "size": [
             90660
            ],
            "sizemode": "area",
            "sizeref": 4289.7275,
            "symbol": "circle"
           },
           "mode": "markers",
           "name": "Black pepper",
           "orientation": "v",
           "showlegend": true,
           "type": "scatter",
           "x": [
            219583
           ],
           "xaxis": "x",
           "y": [
            90660
           ],
           "yaxis": "y"
          },
          {
           "hovertemplate": "Crop=Cardamom<br>Crop_Year=2002<br>Area=%{x}<br>Production=%{marker.size}<extra></extra>",
           "ids": [
            "Cardamom"
           ],
           "legendgroup": "Cardamom",
           "marker": {
            "color": "#EF553B",
            "size": [
             10487
            ],
            "sizemode": "area",
            "sizeref": 4289.7275,
            "symbol": "circle"
           },
           "mode": "markers",
           "name": "Cardamom",
           "orientation": "v",
           "showlegend": true,
           "type": "scatter",
           "x": [
            62817
           ],
           "xaxis": "x",
           "y": [
            10487
           ],
           "yaxis": "y"
          },
          {
           "hovertemplate": "Crop=Coriander<br>Crop_Year=2002<br>Area=%{x}<br>Production=%{marker.size}<extra></extra>",
           "ids": [
            "Coriander"
           ],
           "legendgroup": "Coriander",
           "marker": {
            "color": "#00cc96",
            "size": [
             166344.11000000002
            ],
            "sizemode": "area",
            "sizeref": 4289.7275,
            "symbol": "circle"
           },
           "mode": "markers",
           "name": "Coriander",
           "orientation": "v",
           "showlegend": true,
           "type": "scatter",
           "x": [
            277551
           ],
           "xaxis": "x",
           "y": [
            166344.11000000002
           ],
           "yaxis": "y"
          },
          {
           "hovertemplate": "Crop=Dry chillies<br>Crop_Year=2002<br>Area=%{x}<br>Production=%{marker.size}<extra></extra>",
           "ids": [
            "Dry chillies"
           ],
           "legendgroup": "Dry chillies",
           "marker": {
            "color": "#ab63fa",
            "size": [
             812634.71
            ],
            "sizemode": "area",
            "sizeref": 4289.7275,
            "symbol": "circle"
           },
           "mode": "markers",
           "name": "Dry chillies",
           "orientation": "v",
           "showlegend": true,
           "type": "scatter",
           "x": [
            699990
           ],
           "xaxis": "x",
           "y": [
            812634.71
           ],
           "yaxis": "y"
          },
          {
           "hovertemplate": "Crop=Dry ginger<br>Crop_Year=2002<br>Area=%{x}<br>Production=%{marker.size}<extra></extra>",
           "ids": [
            "Dry ginger"
           ],
           "legendgroup": "Dry ginger",
           "marker": {
            "color": "#FFA15A",
            "size": [
             358976.1
            ],
            "sizemode": "area",
            "sizeref": 4289.7275,
            "symbol": "circle"
           },
           "mode": "markers",
           "name": "Dry ginger",
           "orientation": "v",
           "showlegend": true,
           "type": "scatter",
           "x": [
            73318.3
           ],
           "xaxis": "x",
           "y": [
            358976.1
           ],
           "yaxis": "y"
          },
          {
           "hovertemplate": "Crop=Garlic<br>Crop_Year=2002<br>Area=%{x}<br>Production=%{marker.size}<extra></extra>",
           "ids": [
            "Garlic"
           ],
           "legendgroup": "Garlic",
           "marker": {
            "color": "#19d3f3",
            "size": [
             258432
            ],
            "sizemode": "area",
            "sizeref": 4289.7275,
            "symbol": "circle"
           },
           "mode": "markers",
           "name": "Garlic",
           "orientation": "v",
           "showlegend": true,
           "type": "scatter",
           "x": [
            76082
           ],
           "xaxis": "x",
           "y": [
            258432
           ],
           "yaxis": "y"
          },
          {
           "hovertemplate": "Crop=Khesari<br>Crop_Year=2002<br>Area=%{x}<br>Production=%{marker.size}<extra></extra>",
           "ids": [
            "Khesari"
           ],
           "legendgroup": "Khesari",
           "marker": {
            "color": "#B6E880",
            "size": [
             310602
            ],
            "sizemode": "area",
            "sizeref": 4289.7275,
            "symbol": "circle"
           },
           "mode": "markers",
           "name": "Khesari",
           "orientation": "v",
           "showlegend": true,
           "type": "scatter",
           "x": [
            504156
           ],
           "xaxis": "x",
           "y": [
            310602
           ],
           "yaxis": "y"
          },
          {
           "hovertemplate": "Crop=Turmeric<br>Crop_Year=2002<br>Area=%{x}<br>Production=%{marker.size}<extra></extra>",
           "ids": [
            "Turmeric"
           ],
           "legendgroup": "Turmeric",
           "marker": {
            "color": "#FF97FF",
            "size": [
             843406.02
            ],
            "sizemode": "area",
            "sizeref": 4289.7275,
            "symbol": "circle"
           },
           "mode": "markers",
           "name": "Turmeric",
           "orientation": "v",
           "showlegend": true,
           "type": "scatter",
           "x": [
            691189
           ],
           "xaxis": "x",
           "y": [
            843406.02
           ],
           "yaxis": "y"
          }
         ],
         "name": "2002"
        },
        {
         "data": [
          {
           "hovertemplate": "Crop=Black pepper<br>Crop_Year=2003<br>Area=%{x}<br>Production=%{marker.size}<extra></extra>",
           "ids": [
            "Black pepper"
           ],
           "legendgroup": "Black pepper",
           "marker": {
            "color": "#636efa",
            "size": [
             93637.23
            ],
            "sizemode": "area",
            "sizeref": 4289.7275,
            "symbol": "circle"
           },
           "mode": "markers",
           "name": "Black pepper",
           "orientation": "v",
           "showlegend": true,
           "type": "scatter",
           "x": [
            231891.5
           ],
           "xaxis": "x",
           "y": [
            93637.23
           ],
           "yaxis": "y"
          },
          {
           "hovertemplate": "Crop=Cardamom<br>Crop_Year=2003<br>Area=%{x}<br>Production=%{marker.size}<extra></extra>",
           "ids": [
            "Cardamom"
           ],
           "legendgroup": "Cardamom",
           "marker": {
            "color": "#EF553B",
            "size": [
             11163
            ],
            "sizemode": "area",
            "sizeref": 4289.7275,
            "symbol": "circle"
           },
           "mode": "markers",
           "name": "Cardamom",
           "orientation": "v",
           "showlegend": true,
           "type": "scatter",
           "x": [
            68551
           ],
           "xaxis": "x",
           "y": [
            11163
           ],
           "yaxis": "y"
          },
          {
           "hovertemplate": "Crop=Coriander<br>Crop_Year=2003<br>Area=%{x}<br>Production=%{marker.size}<extra></extra>",
           "ids": [
            "Coriander"
           ],
           "legendgroup": "Coriander",
           "marker": {
            "color": "#00cc96",
            "size": [
             383956.01
            ],
            "sizemode": "area",
            "sizeref": 4289.7275,
            "symbol": "circle"
           },
           "mode": "markers",
           "name": "Coriander",
           "orientation": "v",
           "showlegend": true,
           "type": "scatter",
           "x": [
            475769
           ],
           "xaxis": "x",
           "y": [
            383956.01
           ],
           "yaxis": "y"
          },
          {
           "hovertemplate": "Crop=Dry chillies<br>Crop_Year=2003<br>Area=%{x}<br>Production=%{marker.size}<extra></extra>",
           "ids": [
            "Dry chillies"
           ],
           "legendgroup": "Dry chillies",
           "marker": {
            "color": "#ab63fa",
            "size": [
             1168856
            ],
            "sizemode": "area",
            "sizeref": 4289.7275,
            "symbol": "circle"
           },
           "mode": "markers",
           "name": "Dry chillies",
           "orientation": "v",
           "showlegend": true,
           "type": "scatter",
           "x": [
            658581
           ],
           "xaxis": "x",
           "y": [
            1168856
           ],
           "yaxis": "y"
          },
          {
           "hovertemplate": "Crop=Dry ginger<br>Crop_Year=2003<br>Area=%{x}<br>Production=%{marker.size}<extra></extra>",
           "ids": [
            "Dry ginger"
           ],
           "legendgroup": "Dry ginger",
           "marker": {
            "color": "#FFA15A",
            "size": [
             331064.6
            ],
            "sizemode": "area",
            "sizeref": 4289.7275,
            "symbol": "circle"
           },
           "mode": "markers",
           "name": "Dry ginger",
           "orientation": "v",
           "showlegend": true,
           "type": "scatter",
           "x": [
            69386
           ],
           "xaxis": "x",
           "y": [
            331064.6
           ],
           "yaxis": "y"
          },
          {
           "hovertemplate": "Crop=Garlic<br>Crop_Year=2003<br>Area=%{x}<br>Production=%{marker.size}<extra></extra>",
           "ids": [
            "Garlic"
           ],
           "legendgroup": "Garlic",
           "marker": {
            "color": "#19d3f3",
            "size": [
             508230
            ],
            "sizemode": "area",
            "sizeref": 4289.7275,
            "symbol": "circle"
           },
           "mode": "markers",
           "name": "Garlic",
           "orientation": "v",
           "showlegend": true,
           "type": "scatter",
           "x": [
            102551
           ],
           "xaxis": "x",
           "y": [
            508230
           ],
           "yaxis": "y"
          },
          {
           "hovertemplate": "Crop=Khesari<br>Crop_Year=2003<br>Area=%{x}<br>Production=%{marker.size}<extra></extra>",
           "ids": [
            "Khesari"
           ],
           "legendgroup": "Khesari",
           "marker": {
            "color": "#B6E880",
            "size": [
             442358
            ],
            "sizemode": "area",
            "sizeref": 4289.7275,
            "symbol": "circle"
           },
           "mode": "markers",
           "name": "Khesari",
           "orientation": "v",
           "showlegend": true,
           "type": "scatter",
           "x": [
            629631
           ],
           "xaxis": "x",
           "y": [
            442358
           ],
           "yaxis": "y"
          },
          {
           "hovertemplate": "Crop=Turmeric<br>Crop_Year=2003<br>Area=%{x}<br>Production=%{marker.size}<extra></extra>",
           "ids": [
            "Turmeric"
           ],
           "legendgroup": "Turmeric",
           "marker": {
            "color": "#FF97FF",
            "size": [
             525885
            ],
            "sizemode": "area",
            "sizeref": 4289.7275,
            "symbol": "circle"
           },
           "mode": "markers",
           "name": "Turmeric",
           "orientation": "v",
           "showlegend": true,
           "type": "scatter",
           "x": [
            139154
           ],
           "xaxis": "x",
           "y": [
            525885
           ],
           "yaxis": "y"
          }
         ],
         "name": "2003"
        },
        {
         "data": [
          {
           "hovertemplate": "Crop=Black pepper<br>Crop_Year=2004<br>Area=%{x}<br>Production=%{marker.size}<extra></extra>",
           "ids": [
            "Black pepper"
           ],
           "legendgroup": "Black pepper",
           "marker": {
            "color": "#636efa",
            "size": [
             103300.22
            ],
            "sizemode": "area",
            "sizeref": 4289.7275,
            "symbol": "circle"
           },
           "mode": "markers",
           "name": "Black pepper",
           "orientation": "v",
           "showlegend": true,
           "type": "scatter",
           "x": [
            252164
           ],
           "xaxis": "x",
           "y": [
            103300.22
           ],
           "yaxis": "y"
          },
          {
           "hovertemplate": "Crop=Cardamom<br>Crop_Year=2004<br>Area=%{x}<br>Production=%{marker.size}<extra></extra>",
           "ids": [
            "Cardamom"
           ],
           "legendgroup": "Cardamom",
           "marker": {
            "color": "#EF553B",
            "size": [
             10171.7
            ],
            "sizemode": "area",
            "sizeref": 4289.7275,
            "symbol": "circle"
           },
           "mode": "markers",
           "name": "Cardamom",
           "orientation": "v",
           "showlegend": true,
           "type": "scatter",
           "x": [
            65418.87
           ],
           "xaxis": "x",
           "y": [
            10171.7
           ],
           "yaxis": "y"
          },
          {
           "hovertemplate": "Crop=Coriander<br>Crop_Year=2004<br>Area=%{x}<br>Production=%{marker.size}<extra></extra>",
           "ids": [
            "Coriander"
           ],
           "legendgroup": "Coriander",
           "marker": {
            "color": "#00cc96",
            "size": [
             253312
            ],
            "sizemode": "area",
            "sizeref": 4289.7275,
            "symbol": "circle"
           },
           "mode": "markers",
           "name": "Coriander",
           "orientation": "v",
           "showlegend": true,
           "type": "scatter",
           "x": [
            362920
           ],
           "xaxis": "x",
           "y": [
            253312
           ],
           "yaxis": "y"
          },
          {
           "hovertemplate": "Crop=Dry chillies<br>Crop_Year=2004<br>Area=%{x}<br>Production=%{marker.size}<extra></extra>",
           "ids": [
            "Dry chillies"
           ],
           "legendgroup": "Dry chillies",
           "marker": {
            "color": "#ab63fa",
            "size": [
             1114208
            ],
            "sizemode": "area",
            "sizeref": 4289.7275,
            "symbol": "circle"
           },
           "mode": "markers",
           "name": "Dry chillies",
           "orientation": "v",
           "showlegend": true,
           "type": "scatter",
           "x": [
            678534
           ],
           "xaxis": "x",
           "y": [
            1114208
           ],
           "yaxis": "y"
          },
          {
           "hovertemplate": "Crop=Dry ginger<br>Crop_Year=2004<br>Area=%{x}<br>Production=%{marker.size}<extra></extra>",
           "ids": [
            "Dry ginger"
           ],
           "legendgroup": "Dry ginger",
           "marker": {
            "color": "#FFA15A",
            "size": [
             385722
            ],
            "sizemode": "area",
            "sizeref": 4289.7275,
            "symbol": "circle"
           },
           "mode": "markers",
           "name": "Dry ginger",
           "orientation": "v",
           "showlegend": true,
           "type": "scatter",
           "x": [
            76220
           ],
           "xaxis": "x",
           "y": [
            385722
           ],
           "yaxis": "y"
          },
          {
           "hovertemplate": "Crop=Garlic<br>Crop_Year=2004<br>Area=%{x}<br>Production=%{marker.size}<extra></extra>",
           "ids": [
            "Garlic"
           ],
           "legendgroup": "Garlic",
           "marker": {
            "color": "#19d3f3",
            "size": [
             622352
            ],
            "sizemode": "area",
            "sizeref": 4289.7275,
            "symbol": "circle"
           },
           "mode": "markers",
           "name": "Garlic",
           "orientation": "v",
           "showlegend": true,
           "type": "scatter",
           "x": [
            142153
           ],
           "xaxis": "x",
           "y": [
            622352
           ],
           "yaxis": "y"
          },
          {
           "hovertemplate": "Crop=Khesari<br>Crop_Year=2004<br>Area=%{x}<br>Production=%{marker.size}<extra></extra>",
           "ids": [
            "Khesari"
           ],
           "legendgroup": "Khesari",
           "marker": {
            "color": "#B6E880",
            "size": [
             288213
            ],
            "sizemode": "area",
            "sizeref": 4289.7275,
            "symbol": "circle"
           },
           "mode": "markers",
           "name": "Khesari",
           "orientation": "v",
           "showlegend": true,
           "type": "scatter",
           "x": [
            602691
           ],
           "xaxis": "x",
           "y": [
            288213
           ],
           "yaxis": "y"
          },
          {
           "hovertemplate": "Crop=Turmeric<br>Crop_Year=2004<br>Area=%{x}<br>Production=%{marker.size}<extra></extra>",
           "ids": [
            "Turmeric"
           ],
           "legendgroup": "Turmeric",
           "marker": {
            "color": "#FF97FF",
            "size": [
             670866
            ],
            "sizemode": "area",
            "sizeref": 4289.7275,
            "symbol": "circle"
           },
           "mode": "markers",
           "name": "Turmeric",
           "orientation": "v",
           "showlegend": true,
           "type": "scatter",
           "x": [
            146455
           ],
           "xaxis": "x",
           "y": [
            670866
           ],
           "yaxis": "y"
          }
         ],
         "name": "2004"
        },
        {
         "data": [
          {
           "hovertemplate": "Crop=Black pepper<br>Crop_Year=2005<br>Area=%{x}<br>Production=%{marker.size}<extra></extra>",
           "ids": [
            "Black pepper"
           ],
           "legendgroup": "Black pepper",
           "marker": {
            "color": "#636efa",
            "size": [
             121050.05
            ],
            "sizemode": "area",
            "sizeref": 4289.7275,
            "symbol": "circle"
           },
           "mode": "markers",
           "name": "Black pepper",
           "orientation": "v",
           "showlegend": true,
           "type": "scatter",
           "x": [
            257870.45
           ],
           "xaxis": "x",
           "y": [
            121050.05
           ],
           "yaxis": "y"
          },
          {
           "hovertemplate": "Crop=Cardamom<br>Crop_Year=2005<br>Area=%{x}<br>Production=%{marker.size}<extra></extra>",
           "ids": [
            "Cardamom"
           ],
           "legendgroup": "Cardamom",
           "marker": {
            "color": "#EF553B",
            "size": [
             12044
            ],
            "sizemode": "area",
            "sizeref": 4289.7275,
            "symbol": "circle"
           },
           "mode": "markers",
           "name": "Cardamom",
           "orientation": "v",
           "showlegend": true,
           "type": "scatter",
           "x": [
            68797
           ],
           "xaxis": "x",
           "y": [
            12044
           ],
           "yaxis": "y"
          },
          {
           "hovertemplate": "Crop=Coriander<br>Crop_Year=2005<br>Area=%{x}<br>Production=%{marker.size}<extra></extra>",
           "ids": [
            "Coriander"
           ],
           "legendgroup": "Coriander",
           "marker": {
            "color": "#00cc96",
            "size": [
             168992
            ],
            "sizemode": "area",
            "sizeref": 4289.7275,
            "symbol": "circle"
           },
           "mode": "markers",
           "name": "Coriander",
           "orientation": "v",
           "showlegend": true,
           "type": "scatter",
           "x": [
            207062
           ],
           "xaxis": "x",
           "y": [
            168992
           ],
           "yaxis": "y"
          },
          {
           "hovertemplate": "Crop=Dry chillies<br>Crop_Year=2005<br>Area=%{x}<br>Production=%{marker.size}<extra></extra>",
           "ids": [
            "Dry chillies"
           ],
           "legendgroup": "Dry chillies",
           "marker": {
            "color": "#ab63fa",
            "size": [
             805665.7
            ],
            "sizemode": "area",
            "sizeref": 4289.7275,
            "symbol": "circle"
           },
           "mode": "markers",
           "name": "Dry chillies",
           "orientation": "v",
           "showlegend": true,
           "type": "scatter",
           "x": [
            477966.7
           ],
           "xaxis": "x",
           "y": [
            805665.7
           ],
           "yaxis": "y"
          },
          {
           "hovertemplate": "Crop=Dry ginger<br>Crop_Year=2005<br>Area=%{x}<br>Production=%{marker.size}<extra></extra>",
           "ids": [
            "Dry ginger"
           ],
           "legendgroup": "Dry ginger",
           "marker": {
            "color": "#FFA15A",
            "size": [
             513899.1
            ],
            "sizemode": "area",
            "sizeref": 4289.7275,
            "symbol": "circle"
           },
           "mode": "markers",
           "name": "Dry ginger",
           "orientation": "v",
           "showlegend": true,
           "type": "scatter",
           "x": [
            68384
           ],
           "xaxis": "x",
           "y": [
            513899.1
           ],
           "yaxis": "y"
          },
          {
           "hovertemplate": "Crop=Garlic<br>Crop_Year=2005<br>Area=%{x}<br>Production=%{marker.size}<extra></extra>",
           "ids": [
            "Garlic"
           ],
           "legendgroup": "Garlic",
           "marker": {
            "color": "#19d3f3",
            "size": [
             461115
            ],
            "sizemode": "area",
            "sizeref": 4289.7275,
            "symbol": "circle"
           },
           "mode": "markers",
           "name": "Garlic",
           "orientation": "v",
           "showlegend": true,
           "type": "scatter",
           "x": [
            92309
           ],
           "xaxis": "x",
           "y": [
            461115
           ],
           "yaxis": "y"
          },
          {
           "hovertemplate": "Crop=Khesari<br>Crop_Year=2005<br>Area=%{x}<br>Production=%{marker.size}<extra></extra>",
           "ids": [
            "Khesari"
           ],
           "legendgroup": "Khesari",
           "marker": {
            "color": "#B6E880",
            "size": [
             317439
            ],
            "sizemode": "area",
            "sizeref": 4289.7275,
            "symbol": "circle"
           },
           "mode": "markers",
           "name": "Khesari",
           "orientation": "v",
           "showlegend": true,
           "type": "scatter",
           "x": [
            590364
           ],
           "xaxis": "x",
           "y": [
            317439
           ],
           "yaxis": "y"
          },
          {
           "hovertemplate": "Crop=Turmeric<br>Crop_Year=2005<br>Area=%{x}<br>Production=%{marker.size}<extra></extra>",
           "ids": [
            "Turmeric"
           ],
           "legendgroup": "Turmeric",
           "marker": {
            "color": "#FF97FF",
            "size": [
             759277.1
            ],
            "sizemode": "area",
            "sizeref": 4289.7275,
            "symbol": "circle"
           },
           "mode": "markers",
           "name": "Turmeric",
           "orientation": "v",
           "showlegend": true,
           "type": "scatter",
           "x": [
            137183.7
           ],
           "xaxis": "x",
           "y": [
            759277.1
           ],
           "yaxis": "y"
          }
         ],
         "name": "2005"
        },
        {
         "data": [
          {
           "hovertemplate": "Crop=Black pepper<br>Crop_Year=2006<br>Area=%{x}<br>Production=%{marker.size}<extra></extra>",
           "ids": [
            "Black pepper"
           ],
           "legendgroup": "Black pepper",
           "marker": {
            "color": "#636efa",
            "size": [
             94520
            ],
            "sizemode": "area",
            "sizeref": 4289.7275,
            "symbol": "circle"
           },
           "mode": "markers",
           "name": "Black pepper",
           "orientation": "v",
           "showlegend": true,
           "type": "scatter",
           "x": [
            235405.26
           ],
           "xaxis": "x",
           "y": [
            94520
           ],
           "yaxis": "y"
          },
          {
           "hovertemplate": "Crop=Cardamom<br>Crop_Year=2006<br>Area=%{x}<br>Production=%{marker.size}<extra></extra>",
           "ids": [
            "Cardamom"
           ],
           "legendgroup": "Cardamom",
           "marker": {
            "color": "#EF553B",
            "size": [
             12470
            ],
            "sizemode": "area",
            "sizeref": 4289.7275,
            "symbol": "circle"
           },
           "mode": "markers",
           "name": "Cardamom",
           "orientation": "v",
           "showlegend": true,
           "type": "scatter",
           "x": [
            73255
           ],
           "xaxis": "x",
           "y": [
            12470
           ],
           "yaxis": "y"
          },
          {
           "hovertemplate": "Crop=Coriander<br>Crop_Year=2006<br>Area=%{x}<br>Production=%{marker.size}<extra></extra>",
           "ids": [
            "Coriander"
           ],
           "legendgroup": "Coriander",
           "marker": {
            "color": "#00cc96",
            "size": [
             225518
            ],
            "sizemode": "area",
            "sizeref": 4289.7275,
            "symbol": "circle"
           },
           "mode": "markers",
           "name": "Coriander",
           "orientation": "v",
           "showlegend": true,
           "type": "scatter",
           "x": [
            305779
           ],
           "xaxis": "x",
           "y": [
            225518
           ],
           "yaxis": "y"
          },
          {
           "hovertemplate": "Crop=Dry chillies<br>Crop_Year=2006<br>Area=%{x}<br>Production=%{marker.size}<extra></extra>",
           "ids": [
            "Dry chillies"
           ],
           "legendgroup": "Dry chillies",
           "marker": {
            "color": "#ab63fa",
            "size": [
             1103407
            ],
            "sizemode": "area",
            "sizeref": 4289.7275,
            "symbol": "circle"
           },
           "mode": "markers",
           "name": "Dry chillies",
           "orientation": "v",
           "showlegend": true,
           "type": "scatter",
           "x": [
            584534.3200000001
           ],
           "xaxis": "x",
           "y": [
            1103407
           ],
           "yaxis": "y"
          },
          {
           "hovertemplate": "Crop=Dry ginger<br>Crop_Year=2006<br>Area=%{x}<br>Production=%{marker.size}<extra></extra>",
           "ids": [
            "Dry ginger"
           ],
           "legendgroup": "Dry ginger",
           "marker": {
            "color": "#FFA15A",
            "size": [
             479300
            ],
            "sizemode": "area",
            "sizeref": 4289.7275,
            "symbol": "circle"
           },
           "mode": "markers",
           "name": "Dry ginger",
           "orientation": "v",
           "showlegend": true,
           "type": "scatter",
           "x": [
            77556.56
           ],
           "xaxis": "x",
           "y": [
            479300
           ],
           "yaxis": "y"
          },
          {
           "hovertemplate": "Crop=Garlic<br>Crop_Year=2006<br>Area=%{x}<br>Production=%{marker.size}<extra></extra>",
           "ids": [
            "Garlic"
           ],
           "legendgroup": "Garlic",
           "marker": {
            "color": "#19d3f3",
            "size": [
             655956
            ],
            "sizemode": "area",
            "sizeref": 4289.7275,
            "symbol": "circle"
           },
           "mode": "markers",
           "name": "Garlic",
           "orientation": "v",
           "showlegend": true,
           "type": "scatter",
           "x": [
            136108
           ],
           "xaxis": "x",
           "y": [
            655956
           ],
           "yaxis": "y"
          },
          {
           "hovertemplate": "Crop=Khesari<br>Crop_Year=2006<br>Area=%{x}<br>Production=%{marker.size}<extra></extra>",
           "ids": [
            "Khesari"
           ],
           "legendgroup": "Khesari",
           "marker": {
            "color": "#B6E880",
            "size": [
             372464
            ],
            "sizemode": "area",
            "sizeref": 4289.7275,
            "symbol": "circle"
           },
           "mode": "markers",
           "name": "Khesari",
           "orientation": "v",
           "showlegend": true,
           "type": "scatter",
           "x": [
            605929
           ],
           "xaxis": "x",
           "y": [
            372464
           ],
           "yaxis": "y"
          },
          {
           "hovertemplate": "Crop=Turmeric<br>Crop_Year=2006<br>Area=%{x}<br>Production=%{marker.size}<extra></extra>",
           "ids": [
            "Turmeric"
           ],
           "legendgroup": "Turmeric",
           "marker": {
            "color": "#FF97FF",
            "size": [
             687876.03
            ],
            "sizemode": "area",
            "sizeref": 4289.7275,
            "symbol": "circle"
           },
           "mode": "markers",
           "name": "Turmeric",
           "orientation": "v",
           "showlegend": true,
           "type": "scatter",
           "x": [
            138404.5
           ],
           "xaxis": "x",
           "y": [
            687876.03
           ],
           "yaxis": "y"
          }
         ],
         "name": "2006"
        },
        {
         "data": [
          {
           "hovertemplate": "Crop=Black pepper<br>Crop_Year=2007<br>Area=%{x}<br>Production=%{marker.size}<extra></extra>",
           "ids": [
            "Black pepper"
           ],
           "legendgroup": "Black pepper",
           "marker": {
            "color": "#636efa",
            "size": [
             97965
            ],
            "sizemode": "area",
            "sizeref": 4289.7275,
            "symbol": "circle"
           },
           "mode": "markers",
           "name": "Black pepper",
           "orientation": "v",
           "showlegend": true,
           "type": "scatter",
           "x": [
            198623
           ],
           "xaxis": "x",
           "y": [
            97965
           ],
           "yaxis": "y"
          },
          {
           "hovertemplate": "Crop=Cardamom<br>Crop_Year=2007<br>Area=%{x}<br>Production=%{marker.size}<extra></extra>",
           "ids": [
            "Cardamom"
           ],
           "legendgroup": "Cardamom",
           "marker": {
            "color": "#EF553B",
            "size": [
             9511
            ],
            "sizemode": "area",
            "sizeref": 4289.7275,
            "symbol": "circle"
           },
           "mode": "markers",
           "name": "Cardamom",
           "orientation": "v",
           "showlegend": true,
           "type": "scatter",
           "x": [
            65043
           ],
           "xaxis": "x",
           "y": [
            9511
           ],
           "yaxis": "y"
          },
          {
           "hovertemplate": "Crop=Coriander<br>Crop_Year=2007<br>Area=%{x}<br>Production=%{marker.size}<extra></extra>",
           "ids": [
            "Coriander"
           ],
           "legendgroup": "Coriander",
           "marker": {
            "color": "#00cc96",
            "size": [
             223921.1
            ],
            "sizemode": "area",
            "sizeref": 4289.7275,
            "symbol": "circle"
           },
           "mode": "markers",
           "name": "Coriander",
           "orientation": "v",
           "showlegend": true,
           "type": "scatter",
           "x": [
            381976
           ],
           "xaxis": "x",
           "y": [
            223921.1
           ],
           "yaxis": "y"
          },
          {
           "hovertemplate": "Crop=Dry chillies<br>Crop_Year=2007<br>Area=%{x}<br>Production=%{marker.size}<extra></extra>",
           "ids": [
            "Dry chillies"
           ],
           "legendgroup": "Dry chillies",
           "marker": {
            "color": "#ab63fa",
            "size": [
             1135128.5
            ],
            "sizemode": "area",
            "sizeref": 4289.7275,
            "symbol": "circle"
           },
           "mode": "markers",
           "name": "Dry chillies",
           "orientation": "v",
           "showlegend": true,
           "type": "scatter",
           "x": [
            578887
           ],
           "xaxis": "x",
           "y": [
            1135128.5
           ],
           "yaxis": "y"
          },
          {
           "hovertemplate": "Crop=Dry ginger<br>Crop_Year=2007<br>Area=%{x}<br>Production=%{marker.size}<extra></extra>",
           "ids": [
            "Dry ginger"
           ],
           "legendgroup": "Dry ginger",
           "marker": {
            "color": "#FFA15A",
            "size": [
             605306.7
            ],
            "sizemode": "area",
            "sizeref": 4289.7275,
            "symbol": "circle"
           },
           "mode": "markers",
           "name": "Dry ginger",
           "orientation": "v",
           "showlegend": true,
           "type": "scatter",
           "x": [
            71657
           ],
           "xaxis": "x",
           "y": [
            605306.7
           ],
           "yaxis": "y"
          },
          {
           "hovertemplate": "Crop=Garlic<br>Crop_Year=2007<br>Area=%{x}<br>Production=%{marker.size}<extra></extra>",
           "ids": [
            "Garlic"
           ],
           "legendgroup": "Garlic",
           "marker": {
            "color": "#19d3f3",
            "size": [
             806270.7
            ],
            "sizemode": "area",
            "sizeref": 4289.7275,
            "symbol": "circle"
           },
           "mode": "markers",
           "name": "Garlic",
           "orientation": "v",
           "showlegend": true,
           "type": "scatter",
           "x": [
            153941
           ],
           "xaxis": "x",
           "y": [
            806270.7
           ],
           "yaxis": "y"
          },
          {
           "hovertemplate": "Crop=Khesari<br>Crop_Year=2007<br>Area=%{x}<br>Production=%{marker.size}<extra></extra>",
           "ids": [
            "Khesari"
           ],
           "legendgroup": "Khesari",
           "marker": {
            "color": "#B6E880",
            "size": [
             692359
            ],
            "sizemode": "area",
            "sizeref": 4289.7275,
            "symbol": "circle"
           },
           "mode": "markers",
           "name": "Khesari",
           "orientation": "v",
           "showlegend": true,
           "type": "scatter",
           "x": [
            611582
           ],
           "xaxis": "x",
           "y": [
            692359
           ],
           "yaxis": "y"
          },
          {
           "hovertemplate": "Crop=Turmeric<br>Crop_Year=2007<br>Area=%{x}<br>Production=%{marker.size}<extra></extra>",
           "ids": [
            "Turmeric"
           ],
           "legendgroup": "Turmeric",
           "marker": {
            "color": "#FF97FF",
            "size": [
             314503.3
            ],
            "sizemode": "area",
            "sizeref": 4289.7275,
            "symbol": "circle"
           },
           "mode": "markers",
           "name": "Turmeric",
           "orientation": "v",
           "showlegend": true,
           "type": "scatter",
           "x": [
            79276
           ],
           "xaxis": "x",
           "y": [
            314503.3
           ],
           "yaxis": "y"
          }
         ],
         "name": "2007"
        },
        {
         "data": [
          {
           "hovertemplate": "Crop=Black pepper<br>Crop_Year=2008<br>Area=%{x}<br>Production=%{marker.size}<extra></extra>",
           "ids": [
            "Black pepper"
           ],
           "legendgroup": "Black pepper",
           "marker": {
            "color": "#636efa",
            "size": [
             114277
            ],
            "sizemode": "area",
            "sizeref": 4289.7275,
            "symbol": "circle"
           },
           "mode": "markers",
           "name": "Black pepper",
           "orientation": "v",
           "showlegend": true,
           "type": "scatter",
           "x": [
            178568
           ],
           "xaxis": "x",
           "y": [
            114277
           ],
           "yaxis": "y"
          },
          {
           "hovertemplate": "Crop=Cardamom<br>Crop_Year=2008<br>Area=%{x}<br>Production=%{marker.size}<extra></extra>",
           "ids": [
            "Cardamom"
           ],
           "legendgroup": "Cardamom",
           "marker": {
            "color": "#EF553B",
            "size": [
             11766
            ],
            "sizemode": "area",
            "sizeref": 4289.7275,
            "symbol": "circle"
           },
           "mode": "markers",
           "name": "Cardamom",
           "orientation": "v",
           "showlegend": true,
           "type": "scatter",
           "x": [
            66023
           ],
           "xaxis": "x",
           "y": [
            11766
           ],
           "yaxis": "y"
          },
          {
           "hovertemplate": "Crop=Coriander<br>Crop_Year=2008<br>Area=%{x}<br>Production=%{marker.size}<extra></extra>",
           "ids": [
            "Coriander"
           ],
           "legendgroup": "Coriander",
           "marker": {
            "color": "#00cc96",
            "size": [
             362266
            ],
            "sizemode": "area",
            "sizeref": 4289.7275,
            "symbol": "circle"
           },
           "mode": "markers",
           "name": "Coriander",
           "orientation": "v",
           "showlegend": true,
           "type": "scatter",
           "x": [
            449534
           ],
           "xaxis": "x",
           "y": [
            362266
           ],
           "yaxis": "y"
          },
          {
           "hovertemplate": "Crop=Dry chillies<br>Crop_Year=2008<br>Area=%{x}<br>Production=%{marker.size}<extra></extra>",
           "ids": [
            "Dry chillies"
           ],
           "legendgroup": "Dry chillies",
           "marker": {
            "color": "#ab63fa",
            "size": [
             1120759
            ],
            "sizemode": "area",
            "sizeref": 4289.7275,
            "symbol": "circle"
           },
           "mode": "markers",
           "name": "Dry chillies",
           "orientation": "v",
           "showlegend": true,
           "type": "scatter",
           "x": [
            525053
           ],
           "xaxis": "x",
           "y": [
            1120759
           ],
           "yaxis": "y"
          },
          {
           "hovertemplate": "Crop=Dry ginger<br>Crop_Year=2008<br>Area=%{x}<br>Production=%{marker.size}<extra></extra>",
           "ids": [
            "Dry ginger"
           ],
           "legendgroup": "Dry ginger",
           "marker": {
            "color": "#FFA15A",
            "size": [
             1166719
            ],
            "sizemode": "area",
            "sizeref": 4289.7275,
            "symbol": "circle"
           },
           "mode": "markers",
           "name": "Dry ginger",
           "orientation": "v",
           "showlegend": true,
           "type": "scatter",
           "x": [
            87153
           ],
           "xaxis": "x",
           "y": [
            1166719
           ],
           "yaxis": "y"
          },
          {
           "hovertemplate": "Crop=Garlic<br>Crop_Year=2008<br>Area=%{x}<br>Production=%{marker.size}<extra></extra>",
           "ids": [
            "Garlic"
           ],
           "legendgroup": "Garlic",
           "marker": {
            "color": "#19d3f3",
            "size": [
             757611
            ],
            "sizemode": "area",
            "sizeref": 4289.7275,
            "symbol": "circle"
           },
           "mode": "markers",
           "name": "Garlic",
           "orientation": "v",
           "showlegend": true,
           "type": "scatter",
           "x": [
            156296
           ],
           "xaxis": "x",
           "y": [
            757611
           ],
           "yaxis": "y"
          },
          {
           "hovertemplate": "Crop=Khesari<br>Crop_Year=2008<br>Area=%{x}<br>Production=%{marker.size}<extra></extra>",
           "ids": [
            "Khesari"
           ],
           "legendgroup": "Khesari",
           "marker": {
            "color": "#B6E880",
            "size": [
             347119
            ],
            "sizemode": "area",
            "sizeref": 4289.7275,
            "symbol": "circle"
           },
           "mode": "markers",
           "name": "Khesari",
           "orientation": "v",
           "showlegend": true,
           "type": "scatter",
           "x": [
            564067
           ],
           "xaxis": "x",
           "y": [
            347119
           ],
           "yaxis": "y"
          },
          {
           "hovertemplate": "Crop=Turmeric<br>Crop_Year=2008<br>Area=%{x}<br>Production=%{marker.size}<extra></extra>",
           "ids": [
            "Turmeric"
           ],
           "legendgroup": "Turmeric",
           "marker": {
            "color": "#FF97FF",
            "size": [
             716910
            ],
            "sizemode": "area",
            "sizeref": 4289.7275,
            "symbol": "circle"
           },
           "mode": "markers",
           "name": "Turmeric",
           "orientation": "v",
           "showlegend": true,
           "type": "scatter",
           "x": [
            144882
           ],
           "xaxis": "x",
           "y": [
            716910
           ],
           "yaxis": "y"
          }
         ],
         "name": "2008"
        },
        {
         "data": [
          {
           "hovertemplate": "Crop=Black pepper<br>Crop_Year=2009<br>Area=%{x}<br>Production=%{marker.size}<extra></extra>",
           "ids": [
            "Black pepper"
           ],
           "legendgroup": "Black pepper",
           "marker": {
            "color": "#636efa",
            "size": [
             121113
            ],
            "sizemode": "area",
            "sizeref": 4289.7275,
            "symbol": "circle"
           },
           "mode": "markers",
           "name": "Black pepper",
           "orientation": "v",
           "showlegend": true,
           "type": "scatter",
           "x": [
            197847
           ],
           "xaxis": "x",
           "y": [
            121113
           ],
           "yaxis": "y"
          },
          {
           "hovertemplate": "Crop=Cardamom<br>Crop_Year=2009<br>Area=%{x}<br>Production=%{marker.size}<extra></extra>",
           "ids": [
            "Cardamom"
           ],
           "legendgroup": "Cardamom",
           "marker": {
            "color": "#EF553B",
            "size": [
             9397
            ],
            "sizemode": "area",
            "sizeref": 4289.7275,
            "symbol": "circle"
           },
           "mode": "markers",
           "name": "Cardamom",
           "orientation": "v",
           "showlegend": true,
           "type": "scatter",
           "x": [
            63846
           ],
           "xaxis": "x",
           "y": [
            9397
           ],
           "yaxis": "y"
          },
          {
           "hovertemplate": "Crop=Coriander<br>Crop_Year=2009<br>Area=%{x}<br>Production=%{marker.size}<extra></extra>",
           "ids": [
            "Coriander"
           ],
           "legendgroup": "Coriander",
           "marker": {
            "color": "#00cc96",
            "size": [
             386824
            ],
            "sizemode": "area",
            "sizeref": 4289.7275,
            "symbol": "circle"
           },
           "mode": "markers",
           "name": "Coriander",
           "orientation": "v",
           "showlegend": true,
           "type": "scatter",
           "x": [
            452657
           ],
           "xaxis": "x",
           "y": [
            386824
           ],
           "yaxis": "y"
          },
          {
           "hovertemplate": "Crop=Dry chillies<br>Crop_Year=2009<br>Area=%{x}<br>Production=%{marker.size}<extra></extra>",
           "ids": [
            "Dry chillies"
           ],
           "legendgroup": "Dry chillies",
           "marker": {
            "color": "#ab63fa",
            "size": [
             1058262
            ],
            "sizemode": "area",
            "sizeref": 4289.7275,
            "symbol": "circle"
           },
           "mode": "markers",
           "name": "Dry chillies",
           "orientation": "v",
           "showlegend": true,
           "type": "scatter",
           "x": [
            396419
           ],
           "xaxis": "x",
           "y": [
            1058262
           ],
           "yaxis": "y"
          },
          {
           "hovertemplate": "Crop=Dry ginger<br>Crop_Year=2009<br>Area=%{x}<br>Production=%{marker.size}<extra></extra>",
           "ids": [
            "Dry ginger"
           ],
           "legendgroup": "Dry ginger",
           "marker": {
            "color": "#FFA15A",
            "size": [
             1715891
            ],
            "sizemode": "area",
            "sizeref": 4289.7275,
            "symbol": "circle"
           },
           "mode": "markers",
           "name": "Dry ginger",
           "orientation": "v",
           "showlegend": true,
           "type": "scatter",
           "x": [
            97488
           ],
           "xaxis": "x",
           "y": [
            1715891
           ],
           "yaxis": "y"
          },
          {
           "hovertemplate": "Crop=Garlic<br>Crop_Year=2009<br>Area=%{x}<br>Production=%{marker.size}<extra></extra>",
           "ids": [
            "Garlic"
           ],
           "legendgroup": "Garlic",
           "marker": {
            "color": "#19d3f3",
            "size": [
             626318
            ],
            "sizemode": "area",
            "sizeref": 4289.7275,
            "symbol": "circle"
           },
           "mode": "markers",
           "name": "Garlic",
           "orientation": "v",
           "showlegend": true,
           "type": "scatter",
           "x": [
            134936
           ],
           "xaxis": "x",
           "y": [
            626318
           ],
           "yaxis": "y"
          },
          {
           "hovertemplate": "Crop=Khesari<br>Crop_Year=2009<br>Area=%{x}<br>Production=%{marker.size}<extra></extra>",
           "ids": [
            "Khesari"
           ],
           "legendgroup": "Khesari",
           "marker": {
            "color": "#B6E880",
            "size": [
             334635
            ],
            "sizemode": "area",
            "sizeref": 4289.7275,
            "symbol": "circle"
           },
           "mode": "markers",
           "name": "Khesari",
           "orientation": "v",
           "showlegend": true,
           "type": "scatter",
           "x": [
            488211
           ],
           "xaxis": "x",
           "y": [
            334635
           ],
           "yaxis": "y"
          },
          {
           "hovertemplate": "Crop=Turmeric<br>Crop_Year=2009<br>Area=%{x}<br>Production=%{marker.size}<extra></extra>",
           "ids": [
            "Turmeric"
           ],
           "legendgroup": "Turmeric",
           "marker": {
            "color": "#FF97FF",
            "size": [
             647359
            ],
            "sizemode": "area",
            "sizeref": 4289.7275,
            "symbol": "circle"
           },
           "mode": "markers",
           "name": "Turmeric",
           "orientation": "v",
           "showlegend": true,
           "type": "scatter",
           "x": [
            130703
           ],
           "xaxis": "x",
           "y": [
            647359
           ],
           "yaxis": "y"
          }
         ],
         "name": "2009"
        },
        {
         "data": [
          {
           "hovertemplate": "Crop=Black pepper<br>Crop_Year=2010<br>Area=%{x}<br>Production=%{marker.size}<extra></extra>",
           "ids": [
            "Black pepper"
           ],
           "legendgroup": "Black pepper",
           "marker": {
            "color": "#636efa",
            "size": [
             63163.56999999999
            ],
            "sizemode": "area",
            "sizeref": 4289.7275,
            "symbol": "circle"
           },
           "mode": "markers",
           "name": "Black pepper",
           "orientation": "v",
           "showlegend": true,
           "type": "scatter",
           "x": [
            197783.55
           ],
           "xaxis": "x",
           "y": [
            63163.56999999999
           ],
           "yaxis": "y"
          },
          {
           "hovertemplate": "Crop=Cardamom<br>Crop_Year=2010<br>Area=%{x}<br>Production=%{marker.size}<extra></extra>",
           "ids": [
            "Cardamom"
           ],
           "legendgroup": "Cardamom",
           "marker": {
            "color": "#EF553B",
            "size": [
             1550
            ],
            "sizemode": "area",
            "sizeref": 4289.7275,
            "symbol": "circle"
           },
           "mode": "markers",
           "name": "Cardamom",
           "orientation": "v",
           "showlegend": true,
           "type": "scatter",
           "x": [
            19078
           ],
           "xaxis": "x",
           "y": [
            1550
           ],
           "yaxis": "y"
          },
          {
           "hovertemplate": "Crop=Coriander<br>Crop_Year=2010<br>Area=%{x}<br>Production=%{marker.size}<extra></extra>",
           "ids": [
            "Coriander"
           ],
           "legendgroup": "Coriander",
           "marker": {
            "color": "#00cc96",
            "size": [
             304370
            ],
            "sizemode": "area",
            "sizeref": 4289.7275,
            "symbol": "circle"
           },
           "mode": "markers",
           "name": "Coriander",
           "orientation": "v",
           "showlegend": true,
           "type": "scatter",
           "x": [
            401168
           ],
           "xaxis": "x",
           "y": [
            304370
           ],
           "yaxis": "y"
          },
          {
           "hovertemplate": "Crop=Dry chillies<br>Crop_Year=2010<br>Area=%{x}<br>Production=%{marker.size}<extra></extra>",
           "ids": [
            "Dry chillies"
           ],
           "legendgroup": "Dry chillies",
           "marker": {
            "color": "#ab63fa",
            "size": [
             958872
            ],
            "sizemode": "area",
            "sizeref": 4289.7275,
            "symbol": "circle"
           },
           "mode": "markers",
           "name": "Dry chillies",
           "orientation": "v",
           "showlegend": true,
           "type": "scatter",
           "x": [
            430295
           ],
           "xaxis": "x",
           "y": [
            958872
           ],
           "yaxis": "y"
          },
          {
           "hovertemplate": "Crop=Dry ginger<br>Crop_Year=2010<br>Area=%{x}<br>Production=%{marker.size}<extra></extra>",
           "ids": [
            "Dry ginger"
           ],
           "legendgroup": "Dry ginger",
           "marker": {
            "color": "#FFA15A",
            "size": [
             481720.36000000004
            ],
            "sizemode": "area",
            "sizeref": 4289.7275,
            "symbol": "circle"
           },
           "mode": "markers",
           "name": "Dry ginger",
           "orientation": "v",
           "showlegend": true,
           "type": "scatter",
           "x": [
            101069.93000000001
           ],
           "xaxis": "x",
           "y": [
            481720.36000000004
           ],
           "yaxis": "y"
          },
          {
           "hovertemplate": "Crop=Garlic<br>Crop_Year=2010<br>Area=%{x}<br>Production=%{marker.size}<extra></extra>",
           "ids": [
            "Garlic"
           ],
           "legendgroup": "Garlic",
           "marker": {
            "color": "#19d3f3",
            "size": [
             555389
            ],
            "sizemode": "area",
            "sizeref": 4289.7275,
            "symbol": "circle"
           },
           "mode": "markers",
           "name": "Garlic",
           "orientation": "v",
           "showlegend": true,
           "type": "scatter",
           "x": [
            124842
           ],
           "xaxis": "x",
           "y": [
            555389
           ],
           "yaxis": "y"
          },
          {
           "hovertemplate": "Crop=Ginger<br>Crop_Year=2010<br>Area=%{x}<br>Production=%{marker.size}<extra></extra>",
           "ids": [
            "Ginger"
           ],
           "legendgroup": "Ginger",
           "marker": {
            "color": "#FF6692",
            "size": [
             38669
            ],
            "sizemode": "area",
            "sizeref": 4289.7275,
            "symbol": "circle"
           },
           "mode": "markers",
           "name": "Ginger",
           "orientation": "v",
           "showlegend": true,
           "type": "scatter",
           "x": [
            4554
           ],
           "xaxis": "x",
           "y": [
            38669
           ],
           "yaxis": "y"
          },
          {
           "hovertemplate": "Crop=Khesari<br>Crop_Year=2010<br>Area=%{x}<br>Production=%{marker.size}<extra></extra>",
           "ids": [
            "Khesari"
           ],
           "legendgroup": "Khesari",
           "marker": {
            "color": "#B6E880",
            "size": [
             357054
            ],
            "sizemode": "area",
            "sizeref": 4289.7275,
            "symbol": "circle"
           },
           "mode": "markers",
           "name": "Khesari",
           "orientation": "v",
           "showlegend": true,
           "type": "scatter",
           "x": [
            512129
           ],
           "xaxis": "x",
           "y": [
            357054
           ],
           "yaxis": "y"
          },
          {
           "hovertemplate": "Crop=Turmeric<br>Crop_Year=2010<br>Area=%{x}<br>Production=%{marker.size}<extra></extra>",
           "ids": [
            "Turmeric"
           ],
           "legendgroup": "Turmeric",
           "marker": {
            "color": "#FF97FF",
            "size": [
             573218.39
            ],
            "sizemode": "area",
            "sizeref": 4289.7275,
            "symbol": "circle"
           },
           "mode": "markers",
           "name": "Turmeric",
           "orientation": "v",
           "showlegend": true,
           "type": "scatter",
           "x": [
            106719.78
           ],
           "xaxis": "x",
           "y": [
            573218.39
           ],
           "yaxis": "y"
          }
         ],
         "name": "2010"
        },
        {
         "data": [
          {
           "hovertemplate": "Crop=Black pepper<br>Crop_Year=2011<br>Area=%{x}<br>Production=%{marker.size}<extra></extra>",
           "ids": [
            "Black pepper"
           ],
           "legendgroup": "Black pepper",
           "marker": {
            "color": "#636efa",
            "size": [
             50201.34
            ],
            "sizemode": "area",
            "sizeref": 4289.7275,
            "symbol": "circle"
           },
           "mode": "markers",
           "name": "Black pepper",
           "orientation": "v",
           "showlegend": true,
           "type": "scatter",
           "x": [
            115368.38
           ],
           "xaxis": "x",
           "y": [
            50201.34
           ],
           "yaxis": "y"
          },
          {
           "hovertemplate": "Crop=Cardamom<br>Crop_Year=2011<br>Area=%{x}<br>Production=%{marker.size}<extra></extra>",
           "ids": [
            "Cardamom"
           ],
           "legendgroup": "Cardamom",
           "marker": {
            "color": "#EF553B",
            "size": [
             2699
            ],
            "sizemode": "area",
            "sizeref": 4289.7275,
            "symbol": "circle"
           },
           "mode": "markers",
           "name": "Cardamom",
           "orientation": "v",
           "showlegend": true,
           "type": "scatter",
           "x": [
            31692
           ],
           "xaxis": "x",
           "y": [
            2699
           ],
           "yaxis": "y"
          },
          {
           "hovertemplate": "Crop=Coriander<br>Crop_Year=2011<br>Area=%{x}<br>Production=%{marker.size}<extra></extra>",
           "ids": [
            "Coriander"
           ],
           "legendgroup": "Coriander",
           "marker": {
            "color": "#00cc96",
            "size": [
             89127
            ],
            "sizemode": "area",
            "sizeref": 4289.7275,
            "symbol": "circle"
           },
           "mode": "markers",
           "name": "Coriander",
           "orientation": "v",
           "showlegend": true,
           "type": "scatter",
           "x": [
            194963
           ],
           "xaxis": "x",
           "y": [
            89127
           ],
           "yaxis": "y"
          },
          {
           "hovertemplate": "Crop=Dry chillies<br>Crop_Year=2011<br>Area=%{x}<br>Production=%{marker.size}<extra></extra>",
           "ids": [
            "Dry chillies"
           ],
           "legendgroup": "Dry chillies",
           "marker": {
            "color": "#ab63fa",
            "size": [
             1073377
            ],
            "sizemode": "area",
            "sizeref": 4289.7275,
            "symbol": "circle"
           },
           "mode": "markers",
           "name": "Dry chillies",
           "orientation": "v",
           "showlegend": true,
           "type": "scatter",
           "x": [
            514414
           ],
           "xaxis": "x",
           "y": [
            1073377
           ],
           "yaxis": "y"
          },
          {
           "hovertemplate": "Crop=Dry ginger<br>Crop_Year=2011<br>Area=%{x}<br>Production=%{marker.size}<extra></extra>",
           "ids": [
            "Dry ginger"
           ],
           "legendgroup": "Dry ginger",
           "marker": {
            "color": "#FFA15A",
            "size": [
             287321.36
            ],
            "sizemode": "area",
            "sizeref": 4289.7275,
            "symbol": "circle"
           },
           "mode": "markers",
           "name": "Dry ginger",
           "orientation": "v",
           "showlegend": true,
           "type": "scatter",
           "x": [
            68520.59000000001
           ],
           "xaxis": "x",
           "y": [
            287321.36
           ],
           "yaxis": "y"
          },
          {
           "hovertemplate": "Crop=Garlic<br>Crop_Year=2011<br>Area=%{x}<br>Production=%{marker.size}<extra></extra>",
           "ids": [
            "Garlic"
           ],
           "legendgroup": "Garlic",
           "marker": {
            "color": "#19d3f3",
            "size": [
             789084
            ],
            "sizemode": "area",
            "sizeref": 4289.7275,
            "symbol": "circle"
           },
           "mode": "markers",
           "name": "Garlic",
           "orientation": "v",
           "showlegend": true,
           "type": "scatter",
           "x": [
            159631
           ],
           "xaxis": "x",
           "y": [
            789084
           ],
           "yaxis": "y"
          },
          {
           "hovertemplate": "Crop=Ginger<br>Crop_Year=2011<br>Area=%{x}<br>Production=%{marker.size}<extra></extra>",
           "ids": [
            "Ginger"
           ],
           "legendgroup": "Ginger",
           "marker": {
            "color": "#FF6692",
            "size": [
             170999
            ],
            "sizemode": "area",
            "sizeref": 4289.7275,
            "symbol": "circle"
           },
           "mode": "markers",
           "name": "Ginger",
           "orientation": "v",
           "showlegend": true,
           "type": "scatter",
           "x": [
            21395
           ],
           "xaxis": "x",
           "y": [
            170999
           ],
           "yaxis": "y"
          },
          {
           "hovertemplate": "Crop=Khesari<br>Crop_Year=2011<br>Area=%{x}<br>Production=%{marker.size}<extra></extra>",
           "ids": [
            "Khesari"
           ],
           "legendgroup": "Khesari",
           "marker": {
            "color": "#B6E880",
            "size": [
             365993
            ],
            "sizemode": "area",
            "sizeref": 4289.7275,
            "symbol": "circle"
           },
           "mode": "markers",
           "name": "Khesari",
           "orientation": "v",
           "showlegend": true,
           "type": "scatter",
           "x": [
            499465
           ],
           "xaxis": "x",
           "y": [
            365993
           ],
           "yaxis": "y"
          },
          {
           "hovertemplate": "Crop=Turmeric<br>Crop_Year=2011<br>Area=%{x}<br>Production=%{marker.size}<extra></extra>",
           "ids": [
            "Turmeric"
           ],
           "legendgroup": "Turmeric",
           "marker": {
            "color": "#FF97FF",
            "size": [
             1056287.54
            ],
            "sizemode": "area",
            "sizeref": 4289.7275,
            "symbol": "circle"
           },
           "mode": "markers",
           "name": "Turmeric",
           "orientation": "v",
           "showlegend": true,
           "type": "scatter",
           "x": [
            200352.45
           ],
           "xaxis": "x",
           "y": [
            1056287.54
           ],
           "yaxis": "y"
          }
         ],
         "name": "2011"
        },
        {
         "data": [
          {
           "hovertemplate": "Crop=Black pepper<br>Crop_Year=2012<br>Area=%{x}<br>Production=%{marker.size}<extra></extra>",
           "ids": [
            "Black pepper"
           ],
           "legendgroup": "Black pepper",
           "marker": {
            "color": "#636efa",
            "size": [
             128544
            ],
            "sizemode": "area",
            "sizeref": 4289.7275,
            "symbol": "circle"
           },
           "mode": "markers",
           "name": "Black pepper",
           "orientation": "v",
           "showlegend": true,
           "type": "scatter",
           "x": [
            116025
           ],
           "xaxis": "x",
           "y": [
            128544
           ],
           "yaxis": "y"
          },
          {
           "hovertemplate": "Crop=Cardamom<br>Crop_Year=2012<br>Area=%{x}<br>Production=%{marker.size}<extra></extra>",
           "ids": [
            "Cardamom"
           ],
           "legendgroup": "Cardamom",
           "marker": {
            "color": "#EF553B",
            "size": [
             11800
            ],
            "sizemode": "area",
            "sizeref": 4289.7275,
            "symbol": "circle"
           },
           "mode": "markers",
           "name": "Cardamom",
           "orientation": "v",
           "showlegend": true,
           "type": "scatter",
           "x": [
            60390
           ],
           "xaxis": "x",
           "y": [
            11800
           ],
           "yaxis": "y"
          },
          {
           "hovertemplate": "Crop=Coriander<br>Crop_Year=2012<br>Area=%{x}<br>Production=%{marker.size}<extra></extra>",
           "ids": [
            "Coriander"
           ],
           "legendgroup": "Coriander",
           "marker": {
            "color": "#00cc96",
            "size": [
             95047
            ],
            "sizemode": "area",
            "sizeref": 4289.7275,
            "symbol": "circle"
           },
           "mode": "markers",
           "name": "Coriander",
           "orientation": "v",
           "showlegend": true,
           "type": "scatter",
           "x": [
            159515
           ],
           "xaxis": "x",
           "y": [
            95047
           ],
           "yaxis": "y"
          },
          {
           "hovertemplate": "Crop=Dry chillies<br>Crop_Year=2012<br>Area=%{x}<br>Production=%{marker.size}<extra></extra>",
           "ids": [
            "Dry chillies"
           ],
           "legendgroup": "Dry chillies",
           "marker": {
            "color": "#ab63fa",
            "size": [
             775380
            ],
            "sizemode": "area",
            "sizeref": 4289.7275,
            "symbol": "circle"
           },
           "mode": "markers",
           "name": "Dry chillies",
           "orientation": "v",
           "showlegend": true,
           "type": "scatter",
           "x": [
            304667
           ],
           "xaxis": "x",
           "y": [
            775380
           ],
           "yaxis": "y"
          },
          {
           "hovertemplate": "Crop=Dry ginger<br>Crop_Year=2012<br>Area=%{x}<br>Production=%{marker.size}<extra></extra>",
           "ids": [
            "Dry ginger"
           ],
           "legendgroup": "Dry ginger",
           "marker": {
            "color": "#FFA15A",
            "size": [
             691246
            ],
            "sizemode": "area",
            "sizeref": 4289.7275,
            "symbol": "circle"
           },
           "mode": "markers",
           "name": "Dry ginger",
           "orientation": "v",
           "showlegend": true,
           "type": "scatter",
           "x": [
            51458
           ],
           "xaxis": "x",
           "y": [
            691246
           ],
           "yaxis": "y"
          },
          {
           "hovertemplate": "Crop=Garlic<br>Crop_Year=2012<br>Area=%{x}<br>Production=%{marker.size}<extra></extra>",
           "ids": [
            "Garlic"
           ],
           "legendgroup": "Garlic",
           "marker": {
            "color": "#19d3f3",
            "size": [
             647729
            ],
            "sizemode": "area",
            "sizeref": 4289.7275,
            "symbol": "circle"
           },
           "mode": "markers",
           "name": "Garlic",
           "orientation": "v",
           "showlegend": true,
           "type": "scatter",
           "x": [
            126235
           ],
           "xaxis": "x",
           "y": [
            647729
           ],
           "yaxis": "y"
          },
          {
           "hovertemplate": "Crop=Ginger<br>Crop_Year=2012<br>Area=%{x}<br>Production=%{marker.size}<extra></extra>",
           "ids": [
            "Ginger"
           ],
           "legendgroup": "Ginger",
           "marker": {
            "color": "#FF6692",
            "size": [
             187444
            ],
            "sizemode": "area",
            "sizeref": 4289.7275,
            "symbol": "circle"
           },
           "mode": "markers",
           "name": "Ginger",
           "orientation": "v",
           "showlegend": true,
           "type": "scatter",
           "x": [
            22461
           ],
           "xaxis": "x",
           "y": [
            187444
           ],
           "yaxis": "y"
          },
          {
           "hovertemplate": "Crop=Khesari<br>Crop_Year=2012<br>Area=%{x}<br>Production=%{marker.size}<extra></extra>",
           "ids": [
            "Khesari"
           ],
           "legendgroup": "Khesari",
           "marker": {
            "color": "#B6E880",
            "size": [
             319236
            ],
            "sizemode": "area",
            "sizeref": 4289.7275,
            "symbol": "circle"
           },
           "mode": "markers",
           "name": "Khesari",
           "orientation": "v",
           "showlegend": true,
           "type": "scatter",
           "x": [
            478986
           ],
           "xaxis": "x",
           "y": [
            319236
           ],
           "yaxis": "y"
          },
          {
           "hovertemplate": "Crop=Turmeric<br>Crop_Year=2012<br>Area=%{x}<br>Production=%{marker.size}<extra></extra>",
           "ids": [
            "Turmeric"
           ],
           "legendgroup": "Turmeric",
           "marker": {
            "color": "#FF97FF",
            "size": [
             295269
            ],
            "sizemode": "area",
            "sizeref": 4289.7275,
            "symbol": "circle"
           },
           "mode": "markers",
           "name": "Turmeric",
           "orientation": "v",
           "showlegend": true,
           "type": "scatter",
           "x": [
            64794
           ],
           "xaxis": "x",
           "y": [
            295269
           ],
           "yaxis": "y"
          }
         ],
         "name": "2012"
        },
        {
         "data": [
          {
           "hovertemplate": "Crop=Black pepper<br>Crop_Year=2013<br>Area=%{x}<br>Production=%{marker.size}<extra></extra>",
           "ids": [
            "Black pepper"
           ],
           "legendgroup": "Black pepper",
           "marker": {
            "color": "#636efa",
            "size": [
             106726
            ],
            "sizemode": "area",
            "sizeref": 4289.7275,
            "symbol": "circle"
           },
           "mode": "markers",
           "name": "Black pepper",
           "orientation": "v",
           "showlegend": true,
           "type": "scatter",
           "x": [
            121163
           ],
           "xaxis": "x",
           "y": [
            106726
           ],
           "yaxis": "y"
          },
          {
           "hovertemplate": "Crop=Cardamom<br>Crop_Year=2013<br>Area=%{x}<br>Production=%{marker.size}<extra></extra>",
           "ids": [
            "Cardamom"
           ],
           "legendgroup": "Cardamom",
           "marker": {
            "color": "#EF553B",
            "size": [
             15882
            ],
            "sizemode": "area",
            "sizeref": 4289.7275,
            "symbol": "circle"
           },
           "mode": "markers",
           "name": "Cardamom",
           "orientation": "v",
           "showlegend": true,
           "type": "scatter",
           "x": [
            62434
           ],
           "xaxis": "x",
           "y": [
            15882
           ],
           "yaxis": "y"
          },
          {
           "hovertemplate": "Crop=Coriander<br>Crop_Year=2013<br>Area=%{x}<br>Production=%{marker.size}<extra></extra>",
           "ids": [
            "Coriander"
           ],
           "legendgroup": "Coriander",
           "marker": {
            "color": "#00cc96",
            "size": [
             113840
            ],
            "sizemode": "area",
            "sizeref": 4289.7275,
            "symbol": "circle"
           },
           "mode": "markers",
           "name": "Coriander",
           "orientation": "v",
           "showlegend": true,
           "type": "scatter",
           "x": [
            182037
           ],
           "xaxis": "x",
           "y": [
            113840
           ],
           "yaxis": "y"
          },
          {
           "hovertemplate": "Crop=Dry chillies<br>Crop_Year=2013<br>Area=%{x}<br>Production=%{marker.size}<extra></extra>",
           "ids": [
            "Dry chillies"
           ],
           "legendgroup": "Dry chillies",
           "marker": {
            "color": "#ab63fa",
            "size": [
             1181768
            ],
            "sizemode": "area",
            "sizeref": 4289.7275,
            "symbol": "circle"
           },
           "mode": "markers",
           "name": "Dry chillies",
           "orientation": "v",
           "showlegend": true,
           "type": "scatter",
           "x": [
            456283
           ],
           "xaxis": "x",
           "y": [
            1181768
           ],
           "yaxis": "y"
          },
          {
           "hovertemplate": "Crop=Dry ginger<br>Crop_Year=2013<br>Area=%{x}<br>Production=%{marker.size}<extra></extra>",
           "ids": [
            "Dry ginger"
           ],
           "legendgroup": "Dry ginger",
           "marker": {
            "color": "#FFA15A",
            "size": [
             708261
            ],
            "sizemode": "area",
            "sizeref": 4289.7275,
            "symbol": "circle"
           },
           "mode": "markers",
           "name": "Dry ginger",
           "orientation": "v",
           "showlegend": true,
           "type": "scatter",
           "x": [
            56182
           ],
           "xaxis": "x",
           "y": [
            708261
           ],
           "yaxis": "y"
          },
          {
           "hovertemplate": "Crop=Garlic<br>Crop_Year=2013<br>Area=%{x}<br>Production=%{marker.size}<extra></extra>",
           "ids": [
            "Garlic"
           ],
           "legendgroup": "Garlic",
           "marker": {
            "color": "#19d3f3",
            "size": [
             658224.1
            ],
            "sizemode": "area",
            "sizeref": 4289.7275,
            "symbol": "circle"
           },
           "mode": "markers",
           "name": "Garlic",
           "orientation": "v",
           "showlegend": true,
           "type": "scatter",
           "x": [
            127342
           ],
           "xaxis": "x",
           "y": [
            658224.1
           ],
           "yaxis": "y"
          },
          {
           "hovertemplate": "Crop=Ginger<br>Crop_Year=2013<br>Area=%{x}<br>Production=%{marker.size}<extra></extra>",
           "ids": [
            "Ginger"
           ],
           "legendgroup": "Ginger",
           "marker": {
            "color": "#FF6692",
            "size": [
             185586.7
            ],
            "sizemode": "area",
            "sizeref": 4289.7275,
            "symbol": "circle"
           },
           "mode": "markers",
           "name": "Ginger",
           "orientation": "v",
           "showlegend": true,
           "type": "scatter",
           "x": [
            22968
           ],
           "xaxis": "x",
           "y": [
            185586.7
           ],
           "yaxis": "y"
          },
          {
           "hovertemplate": "Crop=Khesari<br>Crop_Year=2013<br>Area=%{x}<br>Production=%{marker.size}<extra></extra>",
           "ids": [
            "Khesari"
           ],
           "legendgroup": "Khesari",
           "marker": {
            "color": "#B6E880",
            "size": [
             308818
            ],
            "sizemode": "area",
            "sizeref": 4289.7275,
            "symbol": "circle"
           },
           "mode": "markers",
           "name": "Khesari",
           "orientation": "v",
           "showlegend": true,
           "type": "scatter",
           "x": [
            455938
           ],
           "xaxis": "x",
           "y": [
            308818
           ],
           "yaxis": "y"
          },
          {
           "hovertemplate": "Crop=Turmeric<br>Crop_Year=2013<br>Area=%{x}<br>Production=%{marker.size}<extra></extra>",
           "ids": [
            "Turmeric"
           ],
           "legendgroup": "Turmeric",
           "marker": {
            "color": "#FF97FF",
            "size": [
             634554.7
            ],
            "sizemode": "area",
            "sizeref": 4289.7275,
            "symbol": "circle"
           },
           "mode": "markers",
           "name": "Turmeric",
           "orientation": "v",
           "showlegend": true,
           "type": "scatter",
           "x": [
            139703
           ],
           "xaxis": "x",
           "y": [
            634554.7
           ],
           "yaxis": "y"
          }
         ],
         "name": "2013"
        },
        {
         "data": [
          {
           "hovertemplate": "Crop=Black pepper<br>Crop_Year=2014<br>Area=%{x}<br>Production=%{marker.size}<extra></extra>",
           "ids": [
            "Black pepper"
           ],
           "legendgroup": "Black pepper",
           "marker": {
            "color": "#636efa",
            "size": [
             239403
            ],
            "sizemode": "area",
            "sizeref": 4289.7275,
            "symbol": "circle"
           },
           "mode": "markers",
           "name": "Black pepper",
           "orientation": "v",
           "showlegend": true,
           "type": "scatter",
           "x": [
            123368
           ],
           "xaxis": "x",
           "y": [
            239403
           ],
           "yaxis": "y"
          },
          {
           "hovertemplate": "Crop=Cardamom<br>Crop_Year=2014<br>Area=%{x}<br>Production=%{marker.size}<extra></extra>",
           "ids": [
            "Cardamom"
           ],
           "legendgroup": "Cardamom",
           "marker": {
            "color": "#EF553B",
            "size": [
             17429
            ],
            "sizemode": "area",
            "sizeref": 4289.7275,
            "symbol": "circle"
           },
           "mode": "markers",
           "name": "Cardamom",
           "orientation": "v",
           "showlegend": true,
           "type": "scatter",
           "x": [
            57979
           ],
           "xaxis": "x",
           "y": [
            17429
           ],
           "yaxis": "y"
          },
          {
           "hovertemplate": "Crop=Coriander<br>Crop_Year=2014<br>Area=%{x}<br>Production=%{marker.size}<extra></extra>",
           "ids": [
            "Coriander"
           ],
           "legendgroup": "Coriander",
           "marker": {
            "color": "#00cc96",
            "size": [
             26616
            ],
            "sizemode": "area",
            "sizeref": 4289.7275,
            "symbol": "circle"
           },
           "mode": "markers",
           "name": "Coriander",
           "orientation": "v",
           "showlegend": true,
           "type": "scatter",
           "x": [
            55214
           ],
           "xaxis": "x",
           "y": [
            26616
           ],
           "yaxis": "y"
          },
          {
           "hovertemplate": "Crop=Dry chillies<br>Crop_Year=2014<br>Area=%{x}<br>Production=%{marker.size}<extra></extra>",
           "ids": [
            "Dry chillies"
           ],
           "legendgroup": "Dry chillies",
           "marker": {
            "color": "#ab63fa",
            "size": [
             1153065.3
            ],
            "sizemode": "area",
            "sizeref": 4289.7275,
            "symbol": "circle"
           },
           "mode": "markers",
           "name": "Dry chillies",
           "orientation": "v",
           "showlegend": true,
           "type": "scatter",
           "x": [
            349000
           ],
           "xaxis": "x",
           "y": [
            1153065.3
           ],
           "yaxis": "y"
          },
          {
           "hovertemplate": "Crop=Dry ginger<br>Crop_Year=2014<br>Area=%{x}<br>Production=%{marker.size}<extra></extra>",
           "ids": [
            "Dry ginger"
           ],
           "legendgroup": "Dry ginger",
           "marker": {
            "color": "#FFA15A",
            "size": [
             1048689.9
            ],
            "sizemode": "area",
            "sizeref": 4289.7275,
            "symbol": "circle"
           },
           "mode": "markers",
           "name": "Dry ginger",
           "orientation": "v",
           "showlegend": true,
           "type": "scatter",
           "x": [
            56513
           ],
           "xaxis": "x",
           "y": [
            1048689.9
           ],
           "yaxis": "y"
          },
          {
           "hovertemplate": "Crop=Garlic<br>Crop_Year=2014<br>Area=%{x}<br>Production=%{marker.size}<extra></extra>",
           "ids": [
            "Garlic"
           ],
           "legendgroup": "Garlic",
           "marker": {
            "color": "#19d3f3",
            "size": [
             206708
            ],
            "sizemode": "area",
            "sizeref": 4289.7275,
            "symbol": "circle"
           },
           "mode": "markers",
           "name": "Garlic",
           "orientation": "v",
           "showlegend": true,
           "type": "scatter",
           "x": [
            41016
           ],
           "xaxis": "x",
           "y": [
            206708
           ],
           "yaxis": "y"
          },
          {
           "hovertemplate": "Crop=Ginger<br>Crop_Year=2014<br>Area=%{x}<br>Production=%{marker.size}<extra></extra>",
           "ids": [
            "Ginger"
           ],
           "legendgroup": "Ginger",
           "marker": {
            "color": "#FF6692",
            "size": [
             239227
            ],
            "sizemode": "area",
            "sizeref": 4289.7275,
            "symbol": "circle"
           },
           "mode": "markers",
           "name": "Ginger",
           "orientation": "v",
           "showlegend": true,
           "type": "scatter",
           "x": [
            26991
           ],
           "xaxis": "x",
           "y": [
            239227
           ],
           "yaxis": "y"
          },
          {
           "hovertemplate": "Crop=Khesari<br>Crop_Year=2014<br>Area=%{x}<br>Production=%{marker.size}<extra></extra>",
           "ids": [
            "Khesari"
           ],
           "legendgroup": "Khesari",
           "marker": {
            "color": "#B6E880",
            "size": [
             398979
            ],
            "sizemode": "area",
            "sizeref": 4289.7275,
            "symbol": "circle"
           },
           "mode": "markers",
           "name": "Khesari",
           "orientation": "v",
           "showlegend": true,
           "type": "scatter",
           "x": [
            431875
           ],
           "xaxis": "x",
           "y": [
            398979
           ],
           "yaxis": "y"
          },
          {
           "hovertemplate": "Crop=Turmeric<br>Crop_Year=2014<br>Area=%{x}<br>Production=%{marker.size}<extra></extra>",
           "ids": [
            "Turmeric"
           ],
           "legendgroup": "Turmeric",
           "marker": {
            "color": "#FF97FF",
            "size": [
             485938.4
            ],
            "sizemode": "area",
            "sizeref": 4289.7275,
            "symbol": "circle"
           },
           "mode": "markers",
           "name": "Turmeric",
           "orientation": "v",
           "showlegend": true,
           "type": "scatter",
           "x": [
            99138
           ],
           "xaxis": "x",
           "y": [
            485938.4
           ],
           "yaxis": "y"
          }
         ],
         "name": "2014"
        }
       ],
       "layout": {
        "legend": {
         "itemsizing": "constant",
         "title": {
          "text": "Crop"
         },
         "tracegroupgap": 0
        },
        "margin": {
         "t": 60
        },
        "sliders": [
         {
          "active": 0,
          "currentvalue": {
           "prefix": "Crop_Year="
          },
          "len": 0.9,
          "pad": {
           "b": 10,
           "t": 60
          },
          "steps": [
           {
            "args": [
             [
              "1997"
             ],
             {
              "frame": {
               "duration": 0,
               "redraw": false
              },
              "fromcurrent": true,
              "mode": "immediate",
              "transition": {
               "duration": 0,
               "easing": "linear"
              }
             }
            ],
            "label": "1997",
            "method": "animate"
           },
           {
            "args": [
             [
              "1998"
             ],
             {
              "frame": {
               "duration": 0,
               "redraw": false
              },
              "fromcurrent": true,
              "mode": "immediate",
              "transition": {
               "duration": 0,
               "easing": "linear"
              }
             }
            ],
            "label": "1998",
            "method": "animate"
           },
           {
            "args": [
             [
              "1999"
             ],
             {
              "frame": {
               "duration": 0,
               "redraw": false
              },
              "fromcurrent": true,
              "mode": "immediate",
              "transition": {
               "duration": 0,
               "easing": "linear"
              }
             }
            ],
            "label": "1999",
            "method": "animate"
           },
           {
            "args": [
             [
              "2000"
             ],
             {
              "frame": {
               "duration": 0,
               "redraw": false
              },
              "fromcurrent": true,
              "mode": "immediate",
              "transition": {
               "duration": 0,
               "easing": "linear"
              }
             }
            ],
            "label": "2000",
            "method": "animate"
           },
           {
            "args": [
             [
              "2001"
             ],
             {
              "frame": {
               "duration": 0,
               "redraw": false
              },
              "fromcurrent": true,
              "mode": "immediate",
              "transition": {
               "duration": 0,
               "easing": "linear"
              }
             }
            ],
            "label": "2001",
            "method": "animate"
           },
           {
            "args": [
             [
              "2002"
             ],
             {
              "frame": {
               "duration": 0,
               "redraw": false
              },
              "fromcurrent": true,
              "mode": "immediate",
              "transition": {
               "duration": 0,
               "easing": "linear"
              }
             }
            ],
            "label": "2002",
            "method": "animate"
           },
           {
            "args": [
             [
              "2003"
             ],
             {
              "frame": {
               "duration": 0,
               "redraw": false
              },
              "fromcurrent": true,
              "mode": "immediate",
              "transition": {
               "duration": 0,
               "easing": "linear"
              }
             }
            ],
            "label": "2003",
            "method": "animate"
           },
           {
            "args": [
             [
              "2004"
             ],
             {
              "frame": {
               "duration": 0,
               "redraw": false
              },
              "fromcurrent": true,
              "mode": "immediate",
              "transition": {
               "duration": 0,
               "easing": "linear"
              }
             }
            ],
            "label": "2004",
            "method": "animate"
           },
           {
            "args": [
             [
              "2005"
             ],
             {
              "frame": {
               "duration": 0,
               "redraw": false
              },
              "fromcurrent": true,
              "mode": "immediate",
              "transition": {
               "duration": 0,
               "easing": "linear"
              }
             }
            ],
            "label": "2005",
            "method": "animate"
           },
           {
            "args": [
             [
              "2006"
             ],
             {
              "frame": {
               "duration": 0,
               "redraw": false
              },
              "fromcurrent": true,
              "mode": "immediate",
              "transition": {
               "duration": 0,
               "easing": "linear"
              }
             }
            ],
            "label": "2006",
            "method": "animate"
           },
           {
            "args": [
             [
              "2007"
             ],
             {
              "frame": {
               "duration": 0,
               "redraw": false
              },
              "fromcurrent": true,
              "mode": "immediate",
              "transition": {
               "duration": 0,
               "easing": "linear"
              }
             }
            ],
            "label": "2007",
            "method": "animate"
           },
           {
            "args": [
             [
              "2008"
             ],
             {
              "frame": {
               "duration": 0,
               "redraw": false
              },
              "fromcurrent": true,
              "mode": "immediate",
              "transition": {
               "duration": 0,
               "easing": "linear"
              }
             }
            ],
            "label": "2008",
            "method": "animate"
           },
           {
            "args": [
             [
              "2009"
             ],
             {
              "frame": {
               "duration": 0,
               "redraw": false
              },
              "fromcurrent": true,
              "mode": "immediate",
              "transition": {
               "duration": 0,
               "easing": "linear"
              }
             }
            ],
            "label": "2009",
            "method": "animate"
           },
           {
            "args": [
             [
              "2010"
             ],
             {
              "frame": {
               "duration": 0,
               "redraw": false
              },
              "fromcurrent": true,
              "mode": "immediate",
              "transition": {
               "duration": 0,
               "easing": "linear"
              }
             }
            ],
            "label": "2010",
            "method": "animate"
           },
           {
            "args": [
             [
              "2011"
             ],
             {
              "frame": {
               "duration": 0,
               "redraw": false
              },
              "fromcurrent": true,
              "mode": "immediate",
              "transition": {
               "duration": 0,
               "easing": "linear"
              }
             }
            ],
            "label": "2011",
            "method": "animate"
           },
           {
            "args": [
             [
              "2012"
             ],
             {
              "frame": {
               "duration": 0,
               "redraw": false
              },
              "fromcurrent": true,
              "mode": "immediate",
              "transition": {
               "duration": 0,
               "easing": "linear"
              }
             }
            ],
            "label": "2012",
            "method": "animate"
           },
           {
            "args": [
             [
              "2013"
             ],
             {
              "frame": {
               "duration": 0,
               "redraw": false
              },
              "fromcurrent": true,
              "mode": "immediate",
              "transition": {
               "duration": 0,
               "easing": "linear"
              }
             }
            ],
            "label": "2013",
            "method": "animate"
           },
           {
            "args": [
             [
              "2014"
             ],
             {
              "frame": {
               "duration": 0,
               "redraw": false
              },
              "fromcurrent": true,
              "mode": "immediate",
              "transition": {
               "duration": 0,
               "easing": "linear"
              }
             }
            ],
            "label": "2014",
            "method": "animate"
           }
          ],
          "x": 0.1,
          "xanchor": "left",
          "y": 0,
          "yanchor": "top"
         }
        ],
        "template": {
         "data": {
          "bar": [
           {
            "error_x": {
             "color": "#2a3f5f"
            },
            "error_y": {
             "color": "#2a3f5f"
            },
            "marker": {
             "line": {
              "color": "#E5ECF6",
              "width": 0.5
             }
            },
            "type": "bar"
           }
          ],
          "barpolar": [
           {
            "marker": {
             "line": {
              "color": "#E5ECF6",
              "width": 0.5
             }
            },
            "type": "barpolar"
           }
          ],
          "carpet": [
           {
            "aaxis": {
             "endlinecolor": "#2a3f5f",
             "gridcolor": "white",
             "linecolor": "white",
             "minorgridcolor": "white",
             "startlinecolor": "#2a3f5f"
            },
            "baxis": {
             "endlinecolor": "#2a3f5f",
             "gridcolor": "white",
             "linecolor": "white",
             "minorgridcolor": "white",
             "startlinecolor": "#2a3f5f"
            },
            "type": "carpet"
           }
          ],
          "choropleth": [
           {
            "colorbar": {
             "outlinewidth": 0,
             "ticks": ""
            },
            "type": "choropleth"
           }
          ],
          "contour": [
           {
            "colorbar": {
             "outlinewidth": 0,
             "ticks": ""
            },
            "colorscale": [
             [
              0,
              "#0d0887"
             ],
             [
              0.1111111111111111,
              "#46039f"
             ],
             [
              0.2222222222222222,
              "#7201a8"
             ],
             [
              0.3333333333333333,
              "#9c179e"
             ],
             [
              0.4444444444444444,
              "#bd3786"
             ],
             [
              0.5555555555555556,
              "#d8576b"
             ],
             [
              0.6666666666666666,
              "#ed7953"
             ],
             [
              0.7777777777777778,
              "#fb9f3a"
             ],
             [
              0.8888888888888888,
              "#fdca26"
             ],
             [
              1,
              "#f0f921"
             ]
            ],
            "type": "contour"
           }
          ],
          "contourcarpet": [
           {
            "colorbar": {
             "outlinewidth": 0,
             "ticks": ""
            },
            "type": "contourcarpet"
           }
          ],
          "heatmap": [
           {
            "colorbar": {
             "outlinewidth": 0,
             "ticks": ""
            },
            "colorscale": [
             [
              0,
              "#0d0887"
             ],
             [
              0.1111111111111111,
              "#46039f"
             ],
             [
              0.2222222222222222,
              "#7201a8"
             ],
             [
              0.3333333333333333,
              "#9c179e"
             ],
             [
              0.4444444444444444,
              "#bd3786"
             ],
             [
              0.5555555555555556,
              "#d8576b"
             ],
             [
              0.6666666666666666,
              "#ed7953"
             ],
             [
              0.7777777777777778,
              "#fb9f3a"
             ],
             [
              0.8888888888888888,
              "#fdca26"
             ],
             [
              1,
              "#f0f921"
             ]
            ],
            "type": "heatmap"
           }
          ],
          "heatmapgl": [
           {
            "colorbar": {
             "outlinewidth": 0,
             "ticks": ""
            },
            "colorscale": [
             [
              0,
              "#0d0887"
             ],
             [
              0.1111111111111111,
              "#46039f"
             ],
             [
              0.2222222222222222,
              "#7201a8"
             ],
             [
              0.3333333333333333,
              "#9c179e"
             ],
             [
              0.4444444444444444,
              "#bd3786"
             ],
             [
              0.5555555555555556,
              "#d8576b"
             ],
             [
              0.6666666666666666,
              "#ed7953"
             ],
             [
              0.7777777777777778,
              "#fb9f3a"
             ],
             [
              0.8888888888888888,
              "#fdca26"
             ],
             [
              1,
              "#f0f921"
             ]
            ],
            "type": "heatmapgl"
           }
          ],
          "histogram": [
           {
            "marker": {
             "colorbar": {
              "outlinewidth": 0,
              "ticks": ""
             }
            },
            "type": "histogram"
           }
          ],
          "histogram2d": [
           {
            "colorbar": {
             "outlinewidth": 0,
             "ticks": ""
            },
            "colorscale": [
             [
              0,
              "#0d0887"
             ],
             [
              0.1111111111111111,
              "#46039f"
             ],
             [
              0.2222222222222222,
              "#7201a8"
             ],
             [
              0.3333333333333333,
              "#9c179e"
             ],
             [
              0.4444444444444444,
              "#bd3786"
             ],
             [
              0.5555555555555556,
              "#d8576b"
             ],
             [
              0.6666666666666666,
              "#ed7953"
             ],
             [
              0.7777777777777778,
              "#fb9f3a"
             ],
             [
              0.8888888888888888,
              "#fdca26"
             ],
             [
              1,
              "#f0f921"
             ]
            ],
            "type": "histogram2d"
           }
          ],
          "histogram2dcontour": [
           {
            "colorbar": {
             "outlinewidth": 0,
             "ticks": ""
            },
            "colorscale": [
             [
              0,
              "#0d0887"
             ],
             [
              0.1111111111111111,
              "#46039f"
             ],
             [
              0.2222222222222222,
              "#7201a8"
             ],
             [
              0.3333333333333333,
              "#9c179e"
             ],
             [
              0.4444444444444444,
              "#bd3786"
             ],
             [
              0.5555555555555556,
              "#d8576b"
             ],
             [
              0.6666666666666666,
              "#ed7953"
             ],
             [
              0.7777777777777778,
              "#fb9f3a"
             ],
             [
              0.8888888888888888,
              "#fdca26"
             ],
             [
              1,
              "#f0f921"
             ]
            ],
            "type": "histogram2dcontour"
           }
          ],
          "mesh3d": [
           {
            "colorbar": {
             "outlinewidth": 0,
             "ticks": ""
            },
            "type": "mesh3d"
           }
          ],
          "parcoords": [
           {
            "line": {
             "colorbar": {
              "outlinewidth": 0,
              "ticks": ""
             }
            },
            "type": "parcoords"
           }
          ],
          "pie": [
           {
            "automargin": true,
            "type": "pie"
           }
          ],
          "scatter": [
           {
            "marker": {
             "colorbar": {
              "outlinewidth": 0,
              "ticks": ""
             }
            },
            "type": "scatter"
           }
          ],
          "scatter3d": [
           {
            "line": {
             "colorbar": {
              "outlinewidth": 0,
              "ticks": ""
             }
            },
            "marker": {
             "colorbar": {
              "outlinewidth": 0,
              "ticks": ""
             }
            },
            "type": "scatter3d"
           }
          ],
          "scattercarpet": [
           {
            "marker": {
             "colorbar": {
              "outlinewidth": 0,
              "ticks": ""
             }
            },
            "type": "scattercarpet"
           }
          ],
          "scattergeo": [
           {
            "marker": {
             "colorbar": {
              "outlinewidth": 0,
              "ticks": ""
             }
            },
            "type": "scattergeo"
           }
          ],
          "scattergl": [
           {
            "marker": {
             "colorbar": {
              "outlinewidth": 0,
              "ticks": ""
             }
            },
            "type": "scattergl"
           }
          ],
          "scattermapbox": [
           {
            "marker": {
             "colorbar": {
              "outlinewidth": 0,
              "ticks": ""
             }
            },
            "type": "scattermapbox"
           }
          ],
          "scatterpolar": [
           {
            "marker": {
             "colorbar": {
              "outlinewidth": 0,
              "ticks": ""
             }
            },
            "type": "scatterpolar"
           }
          ],
          "scatterpolargl": [
           {
            "marker": {
             "colorbar": {
              "outlinewidth": 0,
              "ticks": ""
             }
            },
            "type": "scatterpolargl"
           }
          ],
          "scatterternary": [
           {
            "marker": {
             "colorbar": {
              "outlinewidth": 0,
              "ticks": ""
             }
            },
            "type": "scatterternary"
           }
          ],
          "surface": [
           {
            "colorbar": {
             "outlinewidth": 0,
             "ticks": ""
            },
            "colorscale": [
             [
              0,
              "#0d0887"
             ],
             [
              0.1111111111111111,
              "#46039f"
             ],
             [
              0.2222222222222222,
              "#7201a8"
             ],
             [
              0.3333333333333333,
              "#9c179e"
             ],
             [
              0.4444444444444444,
              "#bd3786"
             ],
             [
              0.5555555555555556,
              "#d8576b"
             ],
             [
              0.6666666666666666,
              "#ed7953"
             ],
             [
              0.7777777777777778,
              "#fb9f3a"
             ],
             [
              0.8888888888888888,
              "#fdca26"
             ],
             [
              1,
              "#f0f921"
             ]
            ],
            "type": "surface"
           }
          ],
          "table": [
           {
            "cells": {
             "fill": {
              "color": "#EBF0F8"
             },
             "line": {
              "color": "white"
             }
            },
            "header": {
             "fill": {
              "color": "#C8D4E3"
             },
             "line": {
              "color": "white"
             }
            },
            "type": "table"
           }
          ]
         },
         "layout": {
          "annotationdefaults": {
           "arrowcolor": "#2a3f5f",
           "arrowhead": 0,
           "arrowwidth": 1
          },
          "coloraxis": {
           "colorbar": {
            "outlinewidth": 0,
            "ticks": ""
           }
          },
          "colorscale": {
           "diverging": [
            [
             0,
             "#8e0152"
            ],
            [
             0.1,
             "#c51b7d"
            ],
            [
             0.2,
             "#de77ae"
            ],
            [
             0.3,
             "#f1b6da"
            ],
            [
             0.4,
             "#fde0ef"
            ],
            [
             0.5,
             "#f7f7f7"
            ],
            [
             0.6,
             "#e6f5d0"
            ],
            [
             0.7,
             "#b8e186"
            ],
            [
             0.8,
             "#7fbc41"
            ],
            [
             0.9,
             "#4d9221"
            ],
            [
             1,
             "#276419"
            ]
           ],
           "sequential": [
            [
             0,
             "#0d0887"
            ],
            [
             0.1111111111111111,
             "#46039f"
            ],
            [
             0.2222222222222222,
             "#7201a8"
            ],
            [
             0.3333333333333333,
             "#9c179e"
            ],
            [
             0.4444444444444444,
             "#bd3786"
            ],
            [
             0.5555555555555556,
             "#d8576b"
            ],
            [
             0.6666666666666666,
             "#ed7953"
            ],
            [
             0.7777777777777778,
             "#fb9f3a"
            ],
            [
             0.8888888888888888,
             "#fdca26"
            ],
            [
             1,
             "#f0f921"
            ]
           ],
           "sequentialminus": [
            [
             0,
             "#0d0887"
            ],
            [
             0.1111111111111111,
             "#46039f"
            ],
            [
             0.2222222222222222,
             "#7201a8"
            ],
            [
             0.3333333333333333,
             "#9c179e"
            ],
            [
             0.4444444444444444,
             "#bd3786"
            ],
            [
             0.5555555555555556,
             "#d8576b"
            ],
            [
             0.6666666666666666,
             "#ed7953"
            ],
            [
             0.7777777777777778,
             "#fb9f3a"
            ],
            [
             0.8888888888888888,
             "#fdca26"
            ],
            [
             1,
             "#f0f921"
            ]
           ]
          },
          "colorway": [
           "#636efa",
           "#EF553B",
           "#00cc96",
           "#ab63fa",
           "#FFA15A",
           "#19d3f3",
           "#FF6692",
           "#B6E880",
           "#FF97FF",
           "#FECB52"
          ],
          "font": {
           "color": "#2a3f5f"
          },
          "geo": {
           "bgcolor": "white",
           "lakecolor": "white",
           "landcolor": "#E5ECF6",
           "showlakes": true,
           "showland": true,
           "subunitcolor": "white"
          },
          "hoverlabel": {
           "align": "left"
          },
          "hovermode": "closest",
          "mapbox": {
           "style": "light"
          },
          "paper_bgcolor": "white",
          "plot_bgcolor": "#E5ECF6",
          "polar": {
           "angularaxis": {
            "gridcolor": "white",
            "linecolor": "white",
            "ticks": ""
           },
           "bgcolor": "#E5ECF6",
           "radialaxis": {
            "gridcolor": "white",
            "linecolor": "white",
            "ticks": ""
           }
          },
          "scene": {
           "xaxis": {
            "backgroundcolor": "#E5ECF6",
            "gridcolor": "white",
            "gridwidth": 2,
            "linecolor": "white",
            "showbackground": true,
            "ticks": "",
            "zerolinecolor": "white"
           },
           "yaxis": {
            "backgroundcolor": "#E5ECF6",
            "gridcolor": "white",
            "gridwidth": 2,
            "linecolor": "white",
            "showbackground": true,
            "ticks": "",
            "zerolinecolor": "white"
           },
           "zaxis": {
            "backgroundcolor": "#E5ECF6",
            "gridcolor": "white",
            "gridwidth": 2,
            "linecolor": "white",
            "showbackground": true,
            "ticks": "",
            "zerolinecolor": "white"
           }
          },
          "shapedefaults": {
           "line": {
            "color": "#2a3f5f"
           }
          },
          "ternary": {
           "aaxis": {
            "gridcolor": "white",
            "linecolor": "white",
            "ticks": ""
           },
           "baxis": {
            "gridcolor": "white",
            "linecolor": "white",
            "ticks": ""
           },
           "bgcolor": "#E5ECF6",
           "caxis": {
            "gridcolor": "white",
            "linecolor": "white",
            "ticks": ""
           }
          },
          "title": {
           "x": 0.05
          },
          "xaxis": {
           "automargin": true,
           "gridcolor": "white",
           "linecolor": "white",
           "ticks": "",
           "title": {
            "standoff": 15
           },
           "zerolinecolor": "white",
           "zerolinewidth": 2
          },
          "yaxis": {
           "automargin": true,
           "gridcolor": "white",
           "linecolor": "white",
           "ticks": "",
           "title": {
            "standoff": 15
           },
           "zerolinecolor": "white",
           "zerolinewidth": 2
          }
         }
        },
        "updatemenus": [
         {
          "buttons": [
           {
            "args": [
             null,
             {
              "frame": {
               "duration": 500,
               "redraw": false
              },
              "fromcurrent": true,
              "mode": "immediate",
              "transition": {
               "duration": 500,
               "easing": "linear"
              }
             }
            ],
            "label": "&#9654;",
            "method": "animate"
           },
           {
            "args": [
             [
              null
             ],
             {
              "frame": {
               "duration": 0,
               "redraw": false
              },
              "fromcurrent": true,
              "mode": "immediate",
              "transition": {
               "duration": 0,
               "easing": "linear"
              }
             }
            ],
            "label": "&#9724;",
            "method": "animate"
           }
          ],
          "direction": "left",
          "pad": {
           "r": 10,
           "t": 70
          },
          "showactive": false,
          "type": "buttons",
          "x": 0.1,
          "xanchor": "right",
          "y": 0,
          "yanchor": "top"
         }
        ],
        "xaxis": {
         "anchor": "y",
         "domain": [
          0,
          1
         ],
         "title": {
          "text": "Area"
         }
        },
        "yaxis": {
         "anchor": "x",
         "domain": [
          0,
          1
         ],
         "title": {
          "text": "Production"
         }
        }
       }
      },
      "text/html": [
       "<div>\n",
       "        \n",
       "        \n",
       "            <div id=\"073046f5-32d5-4e51-9d94-b2cd578c7f06\" class=\"plotly-graph-div\" style=\"height:525px; width:100%;\"></div>\n",
       "            <script type=\"text/javascript\">\n",
       "                require([\"plotly\"], function(Plotly) {\n",
       "                    window.PLOTLYENV=window.PLOTLYENV || {};\n",
       "                    \n",
       "                if (document.getElementById(\"073046f5-32d5-4e51-9d94-b2cd578c7f06\")) {\n",
       "                    Plotly.newPlot(\n",
       "                        '073046f5-32d5-4e51-9d94-b2cd578c7f06',\n",
       "                        [{\"hovertemplate\": \"Crop=Black pepper<br>Crop_Year=1997<br>Area=%{x}<br>Production=%{marker.size}<extra></extra>\", \"ids\": [\"Black pepper\"], \"legendgroup\": \"Black pepper\", \"marker\": {\"color\": \"#636efa\", \"size\": [57204.0], \"sizemode\": \"area\", \"sizeref\": 4289.7275, \"symbol\": \"circle\"}, \"mode\": \"markers\", \"name\": \"Black pepper\", \"orientation\": \"v\", \"showlegend\": true, \"type\": \"scatter\", \"x\": [181126.0], \"xaxis\": \"x\", \"y\": [57204.0], \"yaxis\": \"y\"}, {\"hovertemplate\": \"Crop=Cardamom<br>Crop_Year=1997<br>Area=%{x}<br>Production=%{marker.size}<extra></extra>\", \"ids\": [\"Cardamom\"], \"legendgroup\": \"Cardamom\", \"marker\": {\"color\": \"#EF553B\", \"size\": [1701.0], \"sizemode\": \"area\", \"sizeref\": 4289.7275, \"symbol\": \"circle\"}, \"mode\": \"markers\", \"name\": \"Cardamom\", \"orientation\": \"v\", \"showlegend\": true, \"type\": \"scatter\", \"x\": [29168.0], \"xaxis\": \"x\", \"y\": [1701.0], \"yaxis\": \"y\"}, {\"hovertemplate\": \"Crop=Coriander<br>Crop_Year=1997<br>Area=%{x}<br>Production=%{marker.size}<extra></extra>\", \"ids\": [\"Coriander\"], \"legendgroup\": \"Coriander\", \"marker\": {\"color\": \"#00cc96\", \"size\": [13169.0], \"sizemode\": \"area\", \"sizeref\": 4289.7275, \"symbol\": \"circle\"}, \"mode\": \"markers\", \"name\": \"Coriander\", \"orientation\": \"v\", \"showlegend\": true, \"type\": \"scatter\", \"x\": [57930.0], \"xaxis\": \"x\", \"y\": [13169.0], \"yaxis\": \"y\"}, {\"hovertemplate\": \"Crop=Dry chillies<br>Crop_Year=1997<br>Area=%{x}<br>Production=%{marker.size}<extra></extra>\", \"ids\": [\"Dry chillies\"], \"legendgroup\": \"Dry chillies\", \"marker\": {\"color\": \"#ab63fa\", \"size\": [618764.0], \"sizemode\": \"area\", \"sizeref\": 4289.7275, \"symbol\": \"circle\"}, \"mode\": \"markers\", \"name\": \"Dry chillies\", \"orientation\": \"v\", \"showlegend\": true, \"type\": \"scatter\", \"x\": [536530.0], \"xaxis\": \"x\", \"y\": [618764.0], \"yaxis\": \"y\"}, {\"hovertemplate\": \"Crop=Dry ginger<br>Crop_Year=1997<br>Area=%{x}<br>Production=%{marker.size}<extra></extra>\", \"ids\": [\"Dry ginger\"], \"legendgroup\": \"Dry ginger\", \"marker\": {\"color\": \"#FFA15A\", \"size\": [69027.0], \"sizemode\": \"area\", \"sizeref\": 4289.7275, \"symbol\": \"circle\"}, \"mode\": \"markers\", \"name\": \"Dry ginger\", \"orientation\": \"v\", \"showlegend\": true, \"type\": \"scatter\", \"x\": [12119.0], \"xaxis\": \"x\", \"y\": [69027.0], \"yaxis\": \"y\"}, {\"hovertemplate\": \"Crop=Garlic<br>Crop_Year=1997<br>Area=%{x}<br>Production=%{marker.size}<extra></extra>\", \"ids\": [\"Garlic\"], \"legendgroup\": \"Garlic\", \"marker\": {\"color\": \"#19d3f3\", \"size\": [146910.0], \"sizemode\": \"area\", \"sizeref\": 4289.7275, \"symbol\": \"circle\"}, \"mode\": \"markers\", \"name\": \"Garlic\", \"orientation\": \"v\", \"showlegend\": true, \"type\": \"scatter\", \"x\": [28730.0], \"xaxis\": \"x\", \"y\": [146910.0], \"yaxis\": \"y\"}, {\"hovertemplate\": \"Crop=Khesari<br>Crop_Year=1997<br>Area=%{x}<br>Production=%{marker.size}<extra></extra>\", \"ids\": [\"Khesari\"], \"legendgroup\": \"Khesari\", \"marker\": {\"color\": \"#B6E880\", \"size\": [28460.0], \"sizemode\": \"area\", \"sizeref\": 4289.7275, \"symbol\": \"circle\"}, \"mode\": \"markers\", \"name\": \"Khesari\", \"orientation\": \"v\", \"showlegend\": true, \"type\": \"scatter\", \"x\": [25261.0], \"xaxis\": \"x\", \"y\": [28460.0], \"yaxis\": \"y\"}, {\"hovertemplate\": \"Crop=Turmeric<br>Crop_Year=1997<br>Area=%{x}<br>Production=%{marker.size}<extra></extra>\", \"ids\": [\"Turmeric\"], \"legendgroup\": \"Turmeric\", \"marker\": {\"color\": \"#FF97FF\", \"size\": [175614.0], \"sizemode\": \"area\", \"sizeref\": 4289.7275, \"symbol\": \"circle\"}, \"mode\": \"markers\", \"name\": \"Turmeric\", \"orientation\": \"v\", \"showlegend\": true, \"type\": \"scatter\", \"x\": [49377.0], \"xaxis\": \"x\", \"y\": [175614.0], \"yaxis\": \"y\"}],\n",
       "                        {\"legend\": {\"itemsizing\": \"constant\", \"title\": {\"text\": \"Crop\"}, \"tracegroupgap\": 0}, \"margin\": {\"t\": 60}, \"sliders\": [{\"active\": 0, \"currentvalue\": {\"prefix\": \"Crop_Year=\"}, \"len\": 0.9, \"pad\": {\"b\": 10, \"t\": 60}, \"steps\": [{\"args\": [[\"1997\"], {\"frame\": {\"duration\": 0, \"redraw\": false}, \"fromcurrent\": true, \"mode\": \"immediate\", \"transition\": {\"duration\": 0, \"easing\": \"linear\"}}], \"label\": \"1997\", \"method\": \"animate\"}, {\"args\": [[\"1998\"], {\"frame\": {\"duration\": 0, \"redraw\": false}, \"fromcurrent\": true, \"mode\": \"immediate\", \"transition\": {\"duration\": 0, \"easing\": \"linear\"}}], \"label\": \"1998\", \"method\": \"animate\"}, {\"args\": [[\"1999\"], {\"frame\": {\"duration\": 0, \"redraw\": false}, \"fromcurrent\": true, \"mode\": \"immediate\", \"transition\": {\"duration\": 0, \"easing\": \"linear\"}}], \"label\": \"1999\", \"method\": \"animate\"}, {\"args\": [[\"2000\"], {\"frame\": {\"duration\": 0, \"redraw\": false}, \"fromcurrent\": true, \"mode\": \"immediate\", \"transition\": {\"duration\": 0, \"easing\": \"linear\"}}], \"label\": \"2000\", \"method\": \"animate\"}, {\"args\": [[\"2001\"], {\"frame\": {\"duration\": 0, \"redraw\": false}, \"fromcurrent\": true, \"mode\": \"immediate\", \"transition\": {\"duration\": 0, \"easing\": \"linear\"}}], \"label\": \"2001\", \"method\": \"animate\"}, {\"args\": [[\"2002\"], {\"frame\": {\"duration\": 0, \"redraw\": false}, \"fromcurrent\": true, \"mode\": \"immediate\", \"transition\": {\"duration\": 0, \"easing\": \"linear\"}}], \"label\": \"2002\", \"method\": \"animate\"}, {\"args\": [[\"2003\"], {\"frame\": {\"duration\": 0, \"redraw\": false}, \"fromcurrent\": true, \"mode\": \"immediate\", \"transition\": {\"duration\": 0, \"easing\": \"linear\"}}], \"label\": \"2003\", \"method\": \"animate\"}, {\"args\": [[\"2004\"], {\"frame\": {\"duration\": 0, \"redraw\": false}, \"fromcurrent\": true, \"mode\": \"immediate\", \"transition\": {\"duration\": 0, \"easing\": \"linear\"}}], \"label\": \"2004\", \"method\": \"animate\"}, {\"args\": [[\"2005\"], {\"frame\": {\"duration\": 0, \"redraw\": false}, \"fromcurrent\": true, \"mode\": \"immediate\", \"transition\": {\"duration\": 0, \"easing\": \"linear\"}}], \"label\": \"2005\", \"method\": \"animate\"}, {\"args\": [[\"2006\"], {\"frame\": {\"duration\": 0, \"redraw\": false}, \"fromcurrent\": true, \"mode\": \"immediate\", \"transition\": {\"duration\": 0, \"easing\": \"linear\"}}], \"label\": \"2006\", \"method\": \"animate\"}, {\"args\": [[\"2007\"], {\"frame\": {\"duration\": 0, \"redraw\": false}, \"fromcurrent\": true, \"mode\": \"immediate\", \"transition\": {\"duration\": 0, \"easing\": \"linear\"}}], \"label\": \"2007\", \"method\": \"animate\"}, {\"args\": [[\"2008\"], {\"frame\": {\"duration\": 0, \"redraw\": false}, \"fromcurrent\": true, \"mode\": \"immediate\", \"transition\": {\"duration\": 0, \"easing\": \"linear\"}}], \"label\": \"2008\", \"method\": \"animate\"}, {\"args\": [[\"2009\"], {\"frame\": {\"duration\": 0, \"redraw\": false}, \"fromcurrent\": true, \"mode\": \"immediate\", \"transition\": {\"duration\": 0, \"easing\": \"linear\"}}], \"label\": \"2009\", \"method\": \"animate\"}, {\"args\": [[\"2010\"], {\"frame\": {\"duration\": 0, \"redraw\": false}, \"fromcurrent\": true, \"mode\": \"immediate\", \"transition\": {\"duration\": 0, \"easing\": \"linear\"}}], \"label\": \"2010\", \"method\": \"animate\"}, {\"args\": [[\"2011\"], {\"frame\": {\"duration\": 0, \"redraw\": false}, \"fromcurrent\": true, \"mode\": \"immediate\", \"transition\": {\"duration\": 0, \"easing\": \"linear\"}}], \"label\": \"2011\", \"method\": \"animate\"}, {\"args\": [[\"2012\"], {\"frame\": {\"duration\": 0, \"redraw\": false}, \"fromcurrent\": true, \"mode\": \"immediate\", \"transition\": {\"duration\": 0, \"easing\": \"linear\"}}], \"label\": \"2012\", \"method\": \"animate\"}, {\"args\": [[\"2013\"], {\"frame\": {\"duration\": 0, \"redraw\": false}, \"fromcurrent\": true, \"mode\": \"immediate\", \"transition\": {\"duration\": 0, \"easing\": \"linear\"}}], \"label\": \"2013\", \"method\": \"animate\"}, {\"args\": [[\"2014\"], {\"frame\": {\"duration\": 0, \"redraw\": false}, \"fromcurrent\": true, \"mode\": \"immediate\", \"transition\": {\"duration\": 0, \"easing\": \"linear\"}}], \"label\": \"2014\", \"method\": \"animate\"}], \"x\": 0.1, \"xanchor\": \"left\", \"y\": 0, \"yanchor\": \"top\"}], \"template\": {\"data\": {\"bar\": [{\"error_x\": {\"color\": \"#2a3f5f\"}, \"error_y\": {\"color\": \"#2a3f5f\"}, \"marker\": {\"line\": {\"color\": \"#E5ECF6\", \"width\": 0.5}}, \"type\": \"bar\"}], \"barpolar\": [{\"marker\": {\"line\": {\"color\": \"#E5ECF6\", \"width\": 0.5}}, \"type\": \"barpolar\"}], \"carpet\": [{\"aaxis\": {\"endlinecolor\": \"#2a3f5f\", \"gridcolor\": \"white\", \"linecolor\": \"white\", \"minorgridcolor\": \"white\", \"startlinecolor\": \"#2a3f5f\"}, \"baxis\": {\"endlinecolor\": \"#2a3f5f\", \"gridcolor\": \"white\", \"linecolor\": \"white\", \"minorgridcolor\": \"white\", \"startlinecolor\": \"#2a3f5f\"}, \"type\": \"carpet\"}], \"choropleth\": [{\"colorbar\": {\"outlinewidth\": 0, \"ticks\": \"\"}, \"type\": \"choropleth\"}], \"contour\": [{\"colorbar\": {\"outlinewidth\": 0, \"ticks\": \"\"}, \"colorscale\": [[0.0, \"#0d0887\"], [0.1111111111111111, \"#46039f\"], [0.2222222222222222, \"#7201a8\"], [0.3333333333333333, \"#9c179e\"], [0.4444444444444444, \"#bd3786\"], [0.5555555555555556, \"#d8576b\"], [0.6666666666666666, \"#ed7953\"], [0.7777777777777778, \"#fb9f3a\"], [0.8888888888888888, \"#fdca26\"], [1.0, \"#f0f921\"]], \"type\": \"contour\"}], \"contourcarpet\": [{\"colorbar\": {\"outlinewidth\": 0, \"ticks\": \"\"}, \"type\": \"contourcarpet\"}], \"heatmap\": [{\"colorbar\": {\"outlinewidth\": 0, \"ticks\": \"\"}, \"colorscale\": [[0.0, \"#0d0887\"], [0.1111111111111111, \"#46039f\"], [0.2222222222222222, \"#7201a8\"], [0.3333333333333333, \"#9c179e\"], [0.4444444444444444, \"#bd3786\"], [0.5555555555555556, \"#d8576b\"], [0.6666666666666666, \"#ed7953\"], [0.7777777777777778, \"#fb9f3a\"], [0.8888888888888888, \"#fdca26\"], [1.0, \"#f0f921\"]], \"type\": \"heatmap\"}], \"heatmapgl\": [{\"colorbar\": {\"outlinewidth\": 0, \"ticks\": \"\"}, \"colorscale\": [[0.0, \"#0d0887\"], [0.1111111111111111, \"#46039f\"], [0.2222222222222222, \"#7201a8\"], [0.3333333333333333, \"#9c179e\"], [0.4444444444444444, \"#bd3786\"], [0.5555555555555556, \"#d8576b\"], [0.6666666666666666, \"#ed7953\"], [0.7777777777777778, \"#fb9f3a\"], [0.8888888888888888, \"#fdca26\"], [1.0, \"#f0f921\"]], \"type\": \"heatmapgl\"}], \"histogram\": [{\"marker\": {\"colorbar\": {\"outlinewidth\": 0, \"ticks\": \"\"}}, \"type\": \"histogram\"}], \"histogram2d\": [{\"colorbar\": {\"outlinewidth\": 0, \"ticks\": \"\"}, \"colorscale\": [[0.0, \"#0d0887\"], [0.1111111111111111, \"#46039f\"], [0.2222222222222222, \"#7201a8\"], [0.3333333333333333, \"#9c179e\"], [0.4444444444444444, \"#bd3786\"], [0.5555555555555556, \"#d8576b\"], [0.6666666666666666, \"#ed7953\"], [0.7777777777777778, \"#fb9f3a\"], [0.8888888888888888, \"#fdca26\"], [1.0, \"#f0f921\"]], \"type\": \"histogram2d\"}], \"histogram2dcontour\": [{\"colorbar\": {\"outlinewidth\": 0, \"ticks\": \"\"}, \"colorscale\": [[0.0, \"#0d0887\"], [0.1111111111111111, \"#46039f\"], [0.2222222222222222, \"#7201a8\"], [0.3333333333333333, \"#9c179e\"], [0.4444444444444444, \"#bd3786\"], [0.5555555555555556, \"#d8576b\"], [0.6666666666666666, \"#ed7953\"], [0.7777777777777778, \"#fb9f3a\"], [0.8888888888888888, \"#fdca26\"], [1.0, \"#f0f921\"]], \"type\": \"histogram2dcontour\"}], \"mesh3d\": [{\"colorbar\": {\"outlinewidth\": 0, \"ticks\": \"\"}, \"type\": \"mesh3d\"}], \"parcoords\": [{\"line\": {\"colorbar\": {\"outlinewidth\": 0, \"ticks\": \"\"}}, \"type\": \"parcoords\"}], \"pie\": [{\"automargin\": true, \"type\": \"pie\"}], \"scatter\": [{\"marker\": {\"colorbar\": {\"outlinewidth\": 0, \"ticks\": \"\"}}, \"type\": \"scatter\"}], \"scatter3d\": [{\"line\": {\"colorbar\": {\"outlinewidth\": 0, \"ticks\": \"\"}}, \"marker\": {\"colorbar\": {\"outlinewidth\": 0, \"ticks\": \"\"}}, \"type\": \"scatter3d\"}], \"scattercarpet\": [{\"marker\": {\"colorbar\": {\"outlinewidth\": 0, \"ticks\": \"\"}}, \"type\": \"scattercarpet\"}], \"scattergeo\": [{\"marker\": {\"colorbar\": {\"outlinewidth\": 0, \"ticks\": \"\"}}, \"type\": \"scattergeo\"}], \"scattergl\": [{\"marker\": {\"colorbar\": {\"outlinewidth\": 0, \"ticks\": \"\"}}, \"type\": \"scattergl\"}], \"scattermapbox\": [{\"marker\": {\"colorbar\": {\"outlinewidth\": 0, \"ticks\": \"\"}}, \"type\": \"scattermapbox\"}], \"scatterpolar\": [{\"marker\": {\"colorbar\": {\"outlinewidth\": 0, \"ticks\": \"\"}}, \"type\": \"scatterpolar\"}], \"scatterpolargl\": [{\"marker\": {\"colorbar\": {\"outlinewidth\": 0, \"ticks\": \"\"}}, \"type\": \"scatterpolargl\"}], \"scatterternary\": [{\"marker\": {\"colorbar\": {\"outlinewidth\": 0, \"ticks\": \"\"}}, \"type\": \"scatterternary\"}], \"surface\": [{\"colorbar\": {\"outlinewidth\": 0, \"ticks\": \"\"}, \"colorscale\": [[0.0, \"#0d0887\"], [0.1111111111111111, \"#46039f\"], [0.2222222222222222, \"#7201a8\"], [0.3333333333333333, \"#9c179e\"], [0.4444444444444444, \"#bd3786\"], [0.5555555555555556, \"#d8576b\"], [0.6666666666666666, \"#ed7953\"], [0.7777777777777778, \"#fb9f3a\"], [0.8888888888888888, \"#fdca26\"], [1.0, \"#f0f921\"]], \"type\": \"surface\"}], \"table\": [{\"cells\": {\"fill\": {\"color\": \"#EBF0F8\"}, \"line\": {\"color\": \"white\"}}, \"header\": {\"fill\": {\"color\": \"#C8D4E3\"}, \"line\": {\"color\": \"white\"}}, \"type\": \"table\"}]}, \"layout\": {\"annotationdefaults\": {\"arrowcolor\": \"#2a3f5f\", \"arrowhead\": 0, \"arrowwidth\": 1}, \"coloraxis\": {\"colorbar\": {\"outlinewidth\": 0, \"ticks\": \"\"}}, \"colorscale\": {\"diverging\": [[0, \"#8e0152\"], [0.1, \"#c51b7d\"], [0.2, \"#de77ae\"], [0.3, \"#f1b6da\"], [0.4, \"#fde0ef\"], [0.5, \"#f7f7f7\"], [0.6, \"#e6f5d0\"], [0.7, \"#b8e186\"], [0.8, \"#7fbc41\"], [0.9, \"#4d9221\"], [1, \"#276419\"]], \"sequential\": [[0.0, \"#0d0887\"], [0.1111111111111111, \"#46039f\"], [0.2222222222222222, \"#7201a8\"], [0.3333333333333333, \"#9c179e\"], [0.4444444444444444, \"#bd3786\"], [0.5555555555555556, \"#d8576b\"], [0.6666666666666666, \"#ed7953\"], [0.7777777777777778, \"#fb9f3a\"], [0.8888888888888888, \"#fdca26\"], [1.0, \"#f0f921\"]], \"sequentialminus\": [[0.0, \"#0d0887\"], [0.1111111111111111, \"#46039f\"], [0.2222222222222222, \"#7201a8\"], [0.3333333333333333, \"#9c179e\"], [0.4444444444444444, \"#bd3786\"], [0.5555555555555556, \"#d8576b\"], [0.6666666666666666, \"#ed7953\"], [0.7777777777777778, \"#fb9f3a\"], [0.8888888888888888, \"#fdca26\"], [1.0, \"#f0f921\"]]}, \"colorway\": [\"#636efa\", \"#EF553B\", \"#00cc96\", \"#ab63fa\", \"#FFA15A\", \"#19d3f3\", \"#FF6692\", \"#B6E880\", \"#FF97FF\", \"#FECB52\"], \"font\": {\"color\": \"#2a3f5f\"}, \"geo\": {\"bgcolor\": \"white\", \"lakecolor\": \"white\", \"landcolor\": \"#E5ECF6\", \"showlakes\": true, \"showland\": true, \"subunitcolor\": \"white\"}, \"hoverlabel\": {\"align\": \"left\"}, \"hovermode\": \"closest\", \"mapbox\": {\"style\": \"light\"}, \"paper_bgcolor\": \"white\", \"plot_bgcolor\": \"#E5ECF6\", \"polar\": {\"angularaxis\": {\"gridcolor\": \"white\", \"linecolor\": \"white\", \"ticks\": \"\"}, \"bgcolor\": \"#E5ECF6\", \"radialaxis\": {\"gridcolor\": \"white\", \"linecolor\": \"white\", \"ticks\": \"\"}}, \"scene\": {\"xaxis\": {\"backgroundcolor\": \"#E5ECF6\", \"gridcolor\": \"white\", \"gridwidth\": 2, \"linecolor\": \"white\", \"showbackground\": true, \"ticks\": \"\", \"zerolinecolor\": \"white\"}, \"yaxis\": {\"backgroundcolor\": \"#E5ECF6\", \"gridcolor\": \"white\", \"gridwidth\": 2, \"linecolor\": \"white\", \"showbackground\": true, \"ticks\": \"\", \"zerolinecolor\": \"white\"}, \"zaxis\": {\"backgroundcolor\": \"#E5ECF6\", \"gridcolor\": \"white\", \"gridwidth\": 2, \"linecolor\": \"white\", \"showbackground\": true, \"ticks\": \"\", \"zerolinecolor\": \"white\"}}, \"shapedefaults\": {\"line\": {\"color\": \"#2a3f5f\"}}, \"ternary\": {\"aaxis\": {\"gridcolor\": \"white\", \"linecolor\": \"white\", \"ticks\": \"\"}, \"baxis\": {\"gridcolor\": \"white\", \"linecolor\": \"white\", \"ticks\": \"\"}, \"bgcolor\": \"#E5ECF6\", \"caxis\": {\"gridcolor\": \"white\", \"linecolor\": \"white\", \"ticks\": \"\"}}, \"title\": {\"x\": 0.05}, \"xaxis\": {\"automargin\": true, \"gridcolor\": \"white\", \"linecolor\": \"white\", \"ticks\": \"\", \"title\": {\"standoff\": 15}, \"zerolinecolor\": \"white\", \"zerolinewidth\": 2}, \"yaxis\": {\"automargin\": true, \"gridcolor\": \"white\", \"linecolor\": \"white\", \"ticks\": \"\", \"title\": {\"standoff\": 15}, \"zerolinecolor\": \"white\", \"zerolinewidth\": 2}}}, \"updatemenus\": [{\"buttons\": [{\"args\": [null, {\"frame\": {\"duration\": 500, \"redraw\": false}, \"fromcurrent\": true, \"mode\": \"immediate\", \"transition\": {\"duration\": 500, \"easing\": \"linear\"}}], \"label\": \"&#9654;\", \"method\": \"animate\"}, {\"args\": [[null], {\"frame\": {\"duration\": 0, \"redraw\": false}, \"fromcurrent\": true, \"mode\": \"immediate\", \"transition\": {\"duration\": 0, \"easing\": \"linear\"}}], \"label\": \"&#9724;\", \"method\": \"animate\"}], \"direction\": \"left\", \"pad\": {\"r\": 10, \"t\": 70}, \"showactive\": false, \"type\": \"buttons\", \"x\": 0.1, \"xanchor\": \"right\", \"y\": 0, \"yanchor\": \"top\"}], \"xaxis\": {\"anchor\": \"y\", \"domain\": [0.0, 1.0], \"title\": {\"text\": \"Area\"}}, \"yaxis\": {\"anchor\": \"x\", \"domain\": [0.0, 1.0], \"title\": {\"text\": \"Production\"}}},\n",
       "                        {\"responsive\": true}\n",
       "                    ).then(function(){\n",
       "                            Plotly.addFrames('073046f5-32d5-4e51-9d94-b2cd578c7f06', [{\"data\": [{\"hovertemplate\": \"Crop=Black pepper<br>Crop_Year=1997<br>Area=%{x}<br>Production=%{marker.size}<extra></extra>\", \"ids\": [\"Black pepper\"], \"legendgroup\": \"Black pepper\", \"marker\": {\"color\": \"#636efa\", \"size\": [57204.0], \"sizemode\": \"area\", \"sizeref\": 4289.7275, \"symbol\": \"circle\"}, \"mode\": \"markers\", \"name\": \"Black pepper\", \"orientation\": \"v\", \"showlegend\": true, \"x\": [181126.0], \"xaxis\": \"x\", \"y\": [57204.0], \"yaxis\": \"y\", \"type\": \"scatter\"}, {\"hovertemplate\": \"Crop=Cardamom<br>Crop_Year=1997<br>Area=%{x}<br>Production=%{marker.size}<extra></extra>\", \"ids\": [\"Cardamom\"], \"legendgroup\": \"Cardamom\", \"marker\": {\"color\": \"#EF553B\", \"size\": [1701.0], \"sizemode\": \"area\", \"sizeref\": 4289.7275, \"symbol\": \"circle\"}, \"mode\": \"markers\", \"name\": \"Cardamom\", \"orientation\": \"v\", \"showlegend\": true, \"x\": [29168.0], \"xaxis\": \"x\", \"y\": [1701.0], \"yaxis\": \"y\", \"type\": \"scatter\"}, {\"hovertemplate\": \"Crop=Coriander<br>Crop_Year=1997<br>Area=%{x}<br>Production=%{marker.size}<extra></extra>\", \"ids\": [\"Coriander\"], \"legendgroup\": \"Coriander\", \"marker\": {\"color\": \"#00cc96\", \"size\": [13169.0], \"sizemode\": \"area\", \"sizeref\": 4289.7275, \"symbol\": \"circle\"}, \"mode\": \"markers\", \"name\": \"Coriander\", \"orientation\": \"v\", \"showlegend\": true, \"x\": [57930.0], \"xaxis\": \"x\", \"y\": [13169.0], \"yaxis\": \"y\", \"type\": \"scatter\"}, {\"hovertemplate\": \"Crop=Dry chillies<br>Crop_Year=1997<br>Area=%{x}<br>Production=%{marker.size}<extra></extra>\", \"ids\": [\"Dry chillies\"], \"legendgroup\": \"Dry chillies\", \"marker\": {\"color\": \"#ab63fa\", \"size\": [618764.0], \"sizemode\": \"area\", \"sizeref\": 4289.7275, \"symbol\": \"circle\"}, \"mode\": \"markers\", \"name\": \"Dry chillies\", \"orientation\": \"v\", \"showlegend\": true, \"x\": [536530.0], \"xaxis\": \"x\", \"y\": [618764.0], \"yaxis\": \"y\", \"type\": \"scatter\"}, {\"hovertemplate\": \"Crop=Dry ginger<br>Crop_Year=1997<br>Area=%{x}<br>Production=%{marker.size}<extra></extra>\", \"ids\": [\"Dry ginger\"], \"legendgroup\": \"Dry ginger\", \"marker\": {\"color\": \"#FFA15A\", \"size\": [69027.0], \"sizemode\": \"area\", \"sizeref\": 4289.7275, \"symbol\": \"circle\"}, \"mode\": \"markers\", \"name\": \"Dry ginger\", \"orientation\": \"v\", \"showlegend\": true, \"x\": [12119.0], \"xaxis\": \"x\", \"y\": [69027.0], \"yaxis\": \"y\", \"type\": \"scatter\"}, {\"hovertemplate\": \"Crop=Garlic<br>Crop_Year=1997<br>Area=%{x}<br>Production=%{marker.size}<extra></extra>\", \"ids\": [\"Garlic\"], \"legendgroup\": \"Garlic\", \"marker\": {\"color\": \"#19d3f3\", \"size\": [146910.0], \"sizemode\": \"area\", \"sizeref\": 4289.7275, \"symbol\": \"circle\"}, \"mode\": \"markers\", \"name\": \"Garlic\", \"orientation\": \"v\", \"showlegend\": true, \"x\": [28730.0], \"xaxis\": \"x\", \"y\": [146910.0], \"yaxis\": \"y\", \"type\": \"scatter\"}, {\"hovertemplate\": \"Crop=Khesari<br>Crop_Year=1997<br>Area=%{x}<br>Production=%{marker.size}<extra></extra>\", \"ids\": [\"Khesari\"], \"legendgroup\": \"Khesari\", \"marker\": {\"color\": \"#B6E880\", \"size\": [28460.0], \"sizemode\": \"area\", \"sizeref\": 4289.7275, \"symbol\": \"circle\"}, \"mode\": \"markers\", \"name\": \"Khesari\", \"orientation\": \"v\", \"showlegend\": true, \"x\": [25261.0], \"xaxis\": \"x\", \"y\": [28460.0], \"yaxis\": \"y\", \"type\": \"scatter\"}, {\"hovertemplate\": \"Crop=Turmeric<br>Crop_Year=1997<br>Area=%{x}<br>Production=%{marker.size}<extra></extra>\", \"ids\": [\"Turmeric\"], \"legendgroup\": \"Turmeric\", \"marker\": {\"color\": \"#FF97FF\", \"size\": [175614.0], \"sizemode\": \"area\", \"sizeref\": 4289.7275, \"symbol\": \"circle\"}, \"mode\": \"markers\", \"name\": \"Turmeric\", \"orientation\": \"v\", \"showlegend\": true, \"x\": [49377.0], \"xaxis\": \"x\", \"y\": [175614.0], \"yaxis\": \"y\", \"type\": \"scatter\"}], \"name\": \"1997\"}, {\"data\": [{\"hovertemplate\": \"Crop=Black pepper<br>Crop_Year=1998<br>Area=%{x}<br>Production=%{marker.size}<extra></extra>\", \"ids\": [\"Black pepper\"], \"legendgroup\": \"Black pepper\", \"marker\": {\"color\": \"#636efa\", \"size\": [79379.0], \"sizemode\": \"area\", \"sizeref\": 4289.7275, \"symbol\": \"circle\"}, \"mode\": \"markers\", \"name\": \"Black pepper\", \"orientation\": \"v\", \"showlegend\": true, \"x\": [189416.0], \"xaxis\": \"x\", \"y\": [79379.0], \"yaxis\": \"y\", \"type\": \"scatter\"}, {\"hovertemplate\": \"Crop=Cardamom<br>Crop_Year=1998<br>Area=%{x}<br>Production=%{marker.size}<extra></extra>\", \"ids\": [\"Cardamom\"], \"legendgroup\": \"Cardamom\", \"marker\": {\"color\": \"#EF553B\", \"size\": [7144.0], \"sizemode\": \"area\", \"sizeref\": 4289.7275, \"symbol\": \"circle\"}, \"mode\": \"markers\", \"name\": \"Cardamom\", \"orientation\": \"v\", \"showlegend\": true, \"x\": [67805.0], \"xaxis\": \"x\", \"y\": [7144.0], \"yaxis\": \"y\", \"type\": \"scatter\"}, {\"hovertemplate\": \"Crop=Coriander<br>Crop_Year=1998<br>Area=%{x}<br>Production=%{marker.size}<extra></extra>\", \"ids\": [\"Coriander\"], \"legendgroup\": \"Coriander\", \"marker\": {\"color\": \"#00cc96\", \"size\": [199226.0], \"sizemode\": \"area\", \"sizeref\": 4289.7275, \"symbol\": \"circle\"}, \"mode\": \"markers\", \"name\": \"Coriander\", \"orientation\": \"v\", \"showlegend\": true, \"x\": [282419.0], \"xaxis\": \"x\", \"y\": [199226.0], \"yaxis\": \"y\", \"type\": \"scatter\"}, {\"hovertemplate\": \"Crop=Dry chillies<br>Crop_Year=1998<br>Area=%{x}<br>Production=%{marker.size}<extra></extra>\", \"ids\": [\"Dry chillies\"], \"legendgroup\": \"Dry chillies\", \"marker\": {\"color\": \"#ab63fa\", \"size\": [857038.0], \"sizemode\": \"area\", \"sizeref\": 4289.7275, \"symbol\": \"circle\"}, \"mode\": \"markers\", \"name\": \"Dry chillies\", \"orientation\": \"v\", \"showlegend\": true, \"x\": [610581.0], \"xaxis\": \"x\", \"y\": [857038.0], \"yaxis\": \"y\", \"type\": \"scatter\"}, {\"hovertemplate\": \"Crop=Dry ginger<br>Crop_Year=1998<br>Area=%{x}<br>Production=%{marker.size}<extra></extra>\", \"ids\": [\"Dry ginger\"], \"legendgroup\": \"Dry ginger\", \"marker\": {\"color\": \"#FFA15A\", \"size\": [210103.0], \"sizemode\": \"area\", \"sizeref\": 4289.7275, \"symbol\": \"circle\"}, \"mode\": \"markers\", \"name\": \"Dry ginger\", \"orientation\": \"v\", \"showlegend\": true, \"x\": [40241.0], \"xaxis\": \"x\", \"y\": [210103.0], \"yaxis\": \"y\", \"type\": \"scatter\"}, {\"hovertemplate\": \"Crop=Garlic<br>Crop_Year=1998<br>Area=%{x}<br>Production=%{marker.size}<extra></extra>\", \"ids\": [\"Garlic\"], \"legendgroup\": \"Garlic\", \"marker\": {\"color\": \"#19d3f3\", \"size\": [262203.0], \"sizemode\": \"area\", \"sizeref\": 4289.7275, \"symbol\": \"circle\"}, \"mode\": \"markers\", \"name\": \"Garlic\", \"orientation\": \"v\", \"showlegend\": true, \"x\": [49009.0], \"xaxis\": \"x\", \"y\": [262203.0], \"yaxis\": \"y\", \"type\": \"scatter\"}, {\"hovertemplate\": \"Crop=Khesari<br>Crop_Year=1998<br>Area=%{x}<br>Production=%{marker.size}<extra></extra>\", \"ids\": [\"Khesari\"], \"legendgroup\": \"Khesari\", \"marker\": {\"color\": \"#B6E880\", \"size\": [20850.0], \"sizemode\": \"area\", \"sizeref\": 4289.7275, \"symbol\": \"circle\"}, \"mode\": \"markers\", \"name\": \"Khesari\", \"orientation\": \"v\", \"showlegend\": true, \"x\": [23300.0], \"xaxis\": \"x\", \"y\": [20850.0], \"yaxis\": \"y\", \"type\": \"scatter\"}, {\"hovertemplate\": \"Crop=Turmeric<br>Crop_Year=1998<br>Area=%{x}<br>Production=%{marker.size}<extra></extra>\", \"ids\": [\"Turmeric\"], \"legendgroup\": \"Turmeric\", \"marker\": {\"color\": \"#FF97FF\", \"size\": [202331.0], \"sizemode\": \"area\", \"sizeref\": 4289.7275, \"symbol\": \"circle\"}, \"mode\": \"markers\", \"name\": \"Turmeric\", \"orientation\": \"v\", \"showlegend\": true, \"x\": [59947.0], \"xaxis\": \"x\", \"y\": [202331.0], \"yaxis\": \"y\", \"type\": \"scatter\"}], \"name\": \"1998\"}, {\"data\": [{\"hovertemplate\": \"Crop=Black pepper<br>Crop_Year=1999<br>Area=%{x}<br>Production=%{marker.size}<extra></extra>\", \"ids\": [\"Black pepper\"], \"legendgroup\": \"Black pepper\", \"marker\": {\"color\": \"#636efa\", \"size\": [63684.0], \"sizemode\": \"area\", \"sizeref\": 4289.7275, \"symbol\": \"circle\"}, \"mode\": \"markers\", \"name\": \"Black pepper\", \"orientation\": \"v\", \"showlegend\": true, \"x\": [205612.0], \"xaxis\": \"x\", \"y\": [63684.0], \"yaxis\": \"y\", \"type\": \"scatter\"}, {\"hovertemplate\": \"Crop=Cardamom<br>Crop_Year=1999<br>Area=%{x}<br>Production=%{marker.size}<extra></extra>\", \"ids\": [\"Cardamom\"], \"legendgroup\": \"Cardamom\", \"marker\": {\"color\": \"#EF553B\", \"size\": [8528.0], \"sizemode\": \"area\", \"sizeref\": 4289.7275, \"symbol\": \"circle\"}, \"mode\": \"markers\", \"name\": \"Cardamom\", \"orientation\": \"v\", \"showlegend\": true, \"x\": [65210.0], \"xaxis\": \"x\", \"y\": [8528.0], \"yaxis\": \"y\", \"type\": \"scatter\"}, {\"hovertemplate\": \"Crop=Coriander<br>Crop_Year=1999<br>Area=%{x}<br>Production=%{marker.size}<extra></extra>\", \"ids\": [\"Coriander\"], \"legendgroup\": \"Coriander\", \"marker\": {\"color\": \"#00cc96\", \"size\": [209609.0], \"sizemode\": \"area\", \"sizeref\": 4289.7275, \"symbol\": \"circle\"}, \"mode\": \"markers\", \"name\": \"Coriander\", \"orientation\": \"v\", \"showlegend\": true, \"x\": [332852.0], \"xaxis\": \"x\", \"y\": [209609.0], \"yaxis\": \"y\", \"type\": \"scatter\"}, {\"hovertemplate\": \"Crop=Dry chillies<br>Crop_Year=1999<br>Area=%{x}<br>Production=%{marker.size}<extra></extra>\", \"ids\": [\"Dry chillies\"], \"legendgroup\": \"Dry chillies\", \"marker\": {\"color\": \"#ab63fa\", \"size\": [932081.0], \"sizemode\": \"area\", \"sizeref\": 4289.7275, \"symbol\": \"circle\"}, \"mode\": \"markers\", \"name\": \"Dry chillies\", \"orientation\": \"v\", \"showlegend\": true, \"x\": [799977.0], \"xaxis\": \"x\", \"y\": [932081.0], \"yaxis\": \"y\", \"type\": \"scatter\"}, {\"hovertemplate\": \"Crop=Dry ginger<br>Crop_Year=1999<br>Area=%{x}<br>Production=%{marker.size}<extra></extra>\", \"ids\": [\"Dry ginger\"], \"legendgroup\": \"Dry ginger\", \"marker\": {\"color\": \"#FFA15A\", \"size\": [285932.0], \"sizemode\": \"area\", \"sizeref\": 4289.7275, \"symbol\": \"circle\"}, \"mode\": \"markers\", \"name\": \"Dry ginger\", \"orientation\": \"v\", \"showlegend\": true, \"x\": [59645.0], \"xaxis\": \"x\", \"y\": [285932.0], \"yaxis\": \"y\", \"type\": \"scatter\"}, {\"hovertemplate\": \"Crop=Garlic<br>Crop_Year=1999<br>Area=%{x}<br>Production=%{marker.size}<extra></extra>\", \"ids\": [\"Garlic\"], \"legendgroup\": \"Garlic\", \"marker\": {\"color\": \"#19d3f3\", \"size\": [440495.0], \"sizemode\": \"area\", \"sizeref\": 4289.7275, \"symbol\": \"circle\"}, \"mode\": \"markers\", \"name\": \"Garlic\", \"orientation\": \"v\", \"showlegend\": true, \"x\": [106883.0], \"xaxis\": \"x\", \"y\": [440495.0], \"yaxis\": \"y\", \"type\": \"scatter\"}, {\"hovertemplate\": \"Crop=Khesari<br>Crop_Year=1999<br>Area=%{x}<br>Production=%{marker.size}<extra></extra>\", \"ids\": [\"Khesari\"], \"legendgroup\": \"Khesari\", \"marker\": {\"color\": \"#B6E880\", \"size\": [181971.0], \"sizemode\": \"area\", \"sizeref\": 4289.7275, \"symbol\": \"circle\"}, \"mode\": \"markers\", \"name\": \"Khesari\", \"orientation\": \"v\", \"showlegend\": true, \"x\": [184055.0], \"xaxis\": \"x\", \"y\": [181971.0], \"yaxis\": \"y\", \"type\": \"scatter\"}, {\"hovertemplate\": \"Crop=Turmeric<br>Crop_Year=1999<br>Area=%{x}<br>Production=%{marker.size}<extra></extra>\", \"ids\": [\"Turmeric\"], \"legendgroup\": \"Turmeric\", \"marker\": {\"color\": \"#FF97FF\", \"size\": [292438.0], \"sizemode\": \"area\", \"sizeref\": 4289.7275, \"symbol\": \"circle\"}, \"mode\": \"markers\", \"name\": \"Turmeric\", \"orientation\": \"v\", \"showlegend\": true, \"x\": [98371.0], \"xaxis\": \"x\", \"y\": [292438.0], \"yaxis\": \"y\", \"type\": \"scatter\"}], \"name\": \"1999\"}, {\"data\": [{\"hovertemplate\": \"Crop=Black pepper<br>Crop_Year=2000<br>Area=%{x}<br>Production=%{marker.size}<extra></extra>\", \"ids\": [\"Black pepper\"], \"legendgroup\": \"Black pepper\", \"marker\": {\"color\": \"#636efa\", \"size\": [78971.0], \"sizemode\": \"area\", \"sizeref\": 4289.7275, \"symbol\": \"circle\"}, \"mode\": \"markers\", \"name\": \"Black pepper\", \"orientation\": \"v\", \"showlegend\": true, \"x\": [211033.0], \"xaxis\": \"x\", \"y\": [78971.0], \"yaxis\": \"y\", \"type\": \"scatter\"}, {\"hovertemplate\": \"Crop=Cardamom<br>Crop_Year=2000<br>Area=%{x}<br>Production=%{marker.size}<extra></extra>\", \"ids\": [\"Cardamom\"], \"legendgroup\": \"Cardamom\", \"marker\": {\"color\": \"#EF553B\", \"size\": [8916.0], \"sizemode\": \"area\", \"sizeref\": 4289.7275, \"symbol\": \"circle\"}, \"mode\": \"markers\", \"name\": \"Cardamom\", \"orientation\": \"v\", \"showlegend\": true, \"x\": [62583.0], \"xaxis\": \"x\", \"y\": [8916.0], \"yaxis\": \"y\", \"type\": \"scatter\"}, {\"hovertemplate\": \"Crop=Coriander<br>Crop_Year=2000<br>Area=%{x}<br>Production=%{marker.size}<extra></extra>\", \"ids\": [\"Coriander\"], \"legendgroup\": \"Coriander\", \"marker\": {\"color\": \"#00cc96\", \"size\": [228107.0], \"sizemode\": \"area\", \"sizeref\": 4289.7275, \"symbol\": \"circle\"}, \"mode\": \"markers\", \"name\": \"Coriander\", \"orientation\": \"v\", \"showlegend\": true, \"x\": [346677.0], \"xaxis\": \"x\", \"y\": [228107.0], \"yaxis\": \"y\", \"type\": \"scatter\"}, {\"hovertemplate\": \"Crop=Dry chillies<br>Crop_Year=2000<br>Area=%{x}<br>Production=%{marker.size}<extra></extra>\", \"ids\": [\"Dry chillies\"], \"legendgroup\": \"Dry chillies\", \"marker\": {\"color\": \"#ab63fa\", \"size\": [910118.0], \"sizemode\": \"area\", \"sizeref\": 4289.7275, \"symbol\": \"circle\"}, \"mode\": \"markers\", \"name\": \"Dry chillies\", \"orientation\": \"v\", \"showlegend\": true, \"x\": [735060.0], \"xaxis\": \"x\", \"y\": [910118.0], \"yaxis\": \"y\", \"type\": \"scatter\"}, {\"hovertemplate\": \"Crop=Dry ginger<br>Crop_Year=2000<br>Area=%{x}<br>Production=%{marker.size}<extra></extra>\", \"ids\": [\"Dry ginger\"], \"legendgroup\": \"Dry ginger\", \"marker\": {\"color\": \"#FFA15A\", \"size\": [344098.0], \"sizemode\": \"area\", \"sizeref\": 4289.7275, \"symbol\": \"circle\"}, \"mode\": \"markers\", \"name\": \"Dry ginger\", \"orientation\": \"v\", \"showlegend\": true, \"x\": [69170.0], \"xaxis\": \"x\", \"y\": [344098.0], \"yaxis\": \"y\", \"type\": \"scatter\"}, {\"hovertemplate\": \"Crop=Garlic<br>Crop_Year=2000<br>Area=%{x}<br>Production=%{marker.size}<extra></extra>\", \"ids\": [\"Garlic\"], \"legendgroup\": \"Garlic\", \"marker\": {\"color\": \"#19d3f3\", \"size\": [155232.0], \"sizemode\": \"area\", \"sizeref\": 4289.7275, \"symbol\": \"circle\"}, \"mode\": \"markers\", \"name\": \"Garlic\", \"orientation\": \"v\", \"showlegend\": true, \"x\": [51837.0], \"xaxis\": \"x\", \"y\": [155232.0], \"yaxis\": \"y\", \"type\": \"scatter\"}, {\"hovertemplate\": \"Crop=Khesari<br>Crop_Year=2000<br>Area=%{x}<br>Production=%{marker.size}<extra></extra>\", \"ids\": [\"Khesari\"], \"legendgroup\": \"Khesari\", \"marker\": {\"color\": \"#B6E880\", \"size\": [294629.0], \"sizemode\": \"area\", \"sizeref\": 4289.7275, \"symbol\": \"circle\"}, \"mode\": \"markers\", \"name\": \"Khesari\", \"orientation\": \"v\", \"showlegend\": true, \"x\": [447916.0], \"xaxis\": \"x\", \"y\": [294629.0], \"yaxis\": \"y\", \"type\": \"scatter\"}, {\"hovertemplate\": \"Crop=Turmeric<br>Crop_Year=2000<br>Area=%{x}<br>Production=%{marker.size}<extra></extra>\", \"ids\": [\"Turmeric\"], \"legendgroup\": \"Turmeric\", \"marker\": {\"color\": \"#FF97FF\", \"size\": [683428.0], \"sizemode\": \"area\", \"sizeref\": 4289.7275, \"symbol\": \"circle\"}, \"mode\": \"markers\", \"name\": \"Turmeric\", \"orientation\": \"v\", \"showlegend\": true, \"x\": [174565.0], \"xaxis\": \"x\", \"y\": [683428.0], \"yaxis\": \"y\", \"type\": \"scatter\"}], \"name\": \"2000\"}, {\"data\": [{\"hovertemplate\": \"Crop=Black pepper<br>Crop_Year=2001<br>Area=%{x}<br>Production=%{marker.size}<extra></extra>\", \"ids\": [\"Black pepper\"], \"legendgroup\": \"Black pepper\", \"marker\": {\"color\": \"#636efa\", \"size\": [80436.0], \"sizemode\": \"area\", \"sizeref\": 4289.7275, \"symbol\": \"circle\"}, \"mode\": \"markers\", \"name\": \"Black pepper\", \"orientation\": \"v\", \"showlegend\": true, \"x\": [213667.0], \"xaxis\": \"x\", \"y\": [80436.0], \"yaxis\": \"y\", \"type\": \"scatter\"}, {\"hovertemplate\": \"Crop=Cardamom<br>Crop_Year=2001<br>Area=%{x}<br>Production=%{marker.size}<extra></extra>\", \"ids\": [\"Cardamom\"], \"legendgroup\": \"Cardamom\", \"marker\": {\"color\": \"#EF553B\", \"size\": [9084.0], \"sizemode\": \"area\", \"sizeref\": 4289.7275, \"symbol\": \"circle\"}, \"mode\": \"markers\", \"name\": \"Cardamom\", \"orientation\": \"v\", \"showlegend\": true, \"x\": [43337.0], \"xaxis\": \"x\", \"y\": [9084.0], \"yaxis\": \"y\", \"type\": \"scatter\"}, {\"hovertemplate\": \"Crop=Coriander<br>Crop_Year=2001<br>Area=%{x}<br>Production=%{marker.size}<extra></extra>\", \"ids\": [\"Coriander\"], \"legendgroup\": \"Coriander\", \"marker\": {\"color\": \"#00cc96\", \"size\": [304873.0], \"sizemode\": \"area\", \"sizeref\": 4289.7275, \"symbol\": \"circle\"}, \"mode\": \"markers\", \"name\": \"Coriander\", \"orientation\": \"v\", \"showlegend\": true, \"x\": [396750.0], \"xaxis\": \"x\", \"y\": [304873.0], \"yaxis\": \"y\", \"type\": \"scatter\"}, {\"hovertemplate\": \"Crop=Dry chillies<br>Crop_Year=2001<br>Area=%{x}<br>Production=%{marker.size}<extra></extra>\", \"ids\": [\"Dry chillies\"], \"legendgroup\": \"Dry chillies\", \"marker\": {\"color\": \"#ab63fa\", \"size\": [932870.0], \"sizemode\": \"area\", \"sizeref\": 4289.7275, \"symbol\": \"circle\"}, \"mode\": \"markers\", \"name\": \"Dry chillies\", \"orientation\": \"v\", \"showlegend\": true, \"x\": [673863.0], \"xaxis\": \"x\", \"y\": [932870.0], \"yaxis\": \"y\", \"type\": \"scatter\"}, {\"hovertemplate\": \"Crop=Dry ginger<br>Crop_Year=2001<br>Area=%{x}<br>Production=%{marker.size}<extra></extra>\", \"ids\": [\"Dry ginger\"], \"legendgroup\": \"Dry ginger\", \"marker\": {\"color\": \"#FFA15A\", \"size\": [363052.0], \"sizemode\": \"area\", \"sizeref\": 4289.7275, \"symbol\": \"circle\"}, \"mode\": \"markers\", \"name\": \"Dry ginger\", \"orientation\": \"v\", \"showlegend\": true, \"x\": [72884.0], \"xaxis\": \"x\", \"y\": [363052.0], \"yaxis\": \"y\", \"type\": \"scatter\"}, {\"hovertemplate\": \"Crop=Garlic<br>Crop_Year=2001<br>Area=%{x}<br>Production=%{marker.size}<extra></extra>\", \"ids\": [\"Garlic\"], \"legendgroup\": \"Garlic\", \"marker\": {\"color\": \"#19d3f3\", \"size\": [230515.0], \"sizemode\": \"area\", \"sizeref\": 4289.7275, \"symbol\": \"circle\"}, \"mode\": \"markers\", \"name\": \"Garlic\", \"orientation\": \"v\", \"showlegend\": true, \"x\": [61579.0], \"xaxis\": \"x\", \"y\": [230515.0], \"yaxis\": \"y\", \"type\": \"scatter\"}, {\"hovertemplate\": \"Crop=Khesari<br>Crop_Year=2001<br>Area=%{x}<br>Production=%{marker.size}<extra></extra>\", \"ids\": [\"Khesari\"], \"legendgroup\": \"Khesari\", \"marker\": {\"color\": \"#B6E880\", \"size\": [387013.0], \"sizemode\": \"area\", \"sizeref\": 4289.7275, \"symbol\": \"circle\"}, \"mode\": \"markers\", \"name\": \"Khesari\", \"orientation\": \"v\", \"showlegend\": true, \"x\": [606893.0], \"xaxis\": \"x\", \"y\": [387013.0], \"yaxis\": \"y\", \"type\": \"scatter\"}, {\"hovertemplate\": \"Crop=Turmeric<br>Crop_Year=2001<br>Area=%{x}<br>Production=%{marker.size}<extra></extra>\", \"ids\": [\"Turmeric\"], \"legendgroup\": \"Turmeric\", \"marker\": {\"color\": \"#FF97FF\", \"size\": [401082.0], \"sizemode\": \"area\", \"sizeref\": 4289.7275, \"symbol\": \"circle\"}, \"mode\": \"markers\", \"name\": \"Turmeric\", \"orientation\": \"v\", \"showlegend\": true, \"x\": [131093.0], \"xaxis\": \"x\", \"y\": [401082.0], \"yaxis\": \"y\", \"type\": \"scatter\"}], \"name\": \"2001\"}, {\"data\": [{\"hovertemplate\": \"Crop=Black pepper<br>Crop_Year=2002<br>Area=%{x}<br>Production=%{marker.size}<extra></extra>\", \"ids\": [\"Black pepper\"], \"legendgroup\": \"Black pepper\", \"marker\": {\"color\": \"#636efa\", \"size\": [90660.0], \"sizemode\": \"area\", \"sizeref\": 4289.7275, \"symbol\": \"circle\"}, \"mode\": \"markers\", \"name\": \"Black pepper\", \"orientation\": \"v\", \"showlegend\": true, \"x\": [219583.0], \"xaxis\": \"x\", \"y\": [90660.0], \"yaxis\": \"y\", \"type\": \"scatter\"}, {\"hovertemplate\": \"Crop=Cardamom<br>Crop_Year=2002<br>Area=%{x}<br>Production=%{marker.size}<extra></extra>\", \"ids\": [\"Cardamom\"], \"legendgroup\": \"Cardamom\", \"marker\": {\"color\": \"#EF553B\", \"size\": [10487.0], \"sizemode\": \"area\", \"sizeref\": 4289.7275, \"symbol\": \"circle\"}, \"mode\": \"markers\", \"name\": \"Cardamom\", \"orientation\": \"v\", \"showlegend\": true, \"x\": [62817.0], \"xaxis\": \"x\", \"y\": [10487.0], \"yaxis\": \"y\", \"type\": \"scatter\"}, {\"hovertemplate\": \"Crop=Coriander<br>Crop_Year=2002<br>Area=%{x}<br>Production=%{marker.size}<extra></extra>\", \"ids\": [\"Coriander\"], \"legendgroup\": \"Coriander\", \"marker\": {\"color\": \"#00cc96\", \"size\": [166344.11000000002], \"sizemode\": \"area\", \"sizeref\": 4289.7275, \"symbol\": \"circle\"}, \"mode\": \"markers\", \"name\": \"Coriander\", \"orientation\": \"v\", \"showlegend\": true, \"x\": [277551.0], \"xaxis\": \"x\", \"y\": [166344.11000000002], \"yaxis\": \"y\", \"type\": \"scatter\"}, {\"hovertemplate\": \"Crop=Dry chillies<br>Crop_Year=2002<br>Area=%{x}<br>Production=%{marker.size}<extra></extra>\", \"ids\": [\"Dry chillies\"], \"legendgroup\": \"Dry chillies\", \"marker\": {\"color\": \"#ab63fa\", \"size\": [812634.71], \"sizemode\": \"area\", \"sizeref\": 4289.7275, \"symbol\": \"circle\"}, \"mode\": \"markers\", \"name\": \"Dry chillies\", \"orientation\": \"v\", \"showlegend\": true, \"x\": [699990.0], \"xaxis\": \"x\", \"y\": [812634.71], \"yaxis\": \"y\", \"type\": \"scatter\"}, {\"hovertemplate\": \"Crop=Dry ginger<br>Crop_Year=2002<br>Area=%{x}<br>Production=%{marker.size}<extra></extra>\", \"ids\": [\"Dry ginger\"], \"legendgroup\": \"Dry ginger\", \"marker\": {\"color\": \"#FFA15A\", \"size\": [358976.1], \"sizemode\": \"area\", \"sizeref\": 4289.7275, \"symbol\": \"circle\"}, \"mode\": \"markers\", \"name\": \"Dry ginger\", \"orientation\": \"v\", \"showlegend\": true, \"x\": [73318.3], \"xaxis\": \"x\", \"y\": [358976.1], \"yaxis\": \"y\", \"type\": \"scatter\"}, {\"hovertemplate\": \"Crop=Garlic<br>Crop_Year=2002<br>Area=%{x}<br>Production=%{marker.size}<extra></extra>\", \"ids\": [\"Garlic\"], \"legendgroup\": \"Garlic\", \"marker\": {\"color\": \"#19d3f3\", \"size\": [258432.0], \"sizemode\": \"area\", \"sizeref\": 4289.7275, \"symbol\": \"circle\"}, \"mode\": \"markers\", \"name\": \"Garlic\", \"orientation\": \"v\", \"showlegend\": true, \"x\": [76082.0], \"xaxis\": \"x\", \"y\": [258432.0], \"yaxis\": \"y\", \"type\": \"scatter\"}, {\"hovertemplate\": \"Crop=Khesari<br>Crop_Year=2002<br>Area=%{x}<br>Production=%{marker.size}<extra></extra>\", \"ids\": [\"Khesari\"], \"legendgroup\": \"Khesari\", \"marker\": {\"color\": \"#B6E880\", \"size\": [310602.0], \"sizemode\": \"area\", \"sizeref\": 4289.7275, \"symbol\": \"circle\"}, \"mode\": \"markers\", \"name\": \"Khesari\", \"orientation\": \"v\", \"showlegend\": true, \"x\": [504156.0], \"xaxis\": \"x\", \"y\": [310602.0], \"yaxis\": \"y\", \"type\": \"scatter\"}, {\"hovertemplate\": \"Crop=Turmeric<br>Crop_Year=2002<br>Area=%{x}<br>Production=%{marker.size}<extra></extra>\", \"ids\": [\"Turmeric\"], \"legendgroup\": \"Turmeric\", \"marker\": {\"color\": \"#FF97FF\", \"size\": [843406.02], \"sizemode\": \"area\", \"sizeref\": 4289.7275, \"symbol\": \"circle\"}, \"mode\": \"markers\", \"name\": \"Turmeric\", \"orientation\": \"v\", \"showlegend\": true, \"x\": [691189.0], \"xaxis\": \"x\", \"y\": [843406.02], \"yaxis\": \"y\", \"type\": \"scatter\"}], \"name\": \"2002\"}, {\"data\": [{\"hovertemplate\": \"Crop=Black pepper<br>Crop_Year=2003<br>Area=%{x}<br>Production=%{marker.size}<extra></extra>\", \"ids\": [\"Black pepper\"], \"legendgroup\": \"Black pepper\", \"marker\": {\"color\": \"#636efa\", \"size\": [93637.23], \"sizemode\": \"area\", \"sizeref\": 4289.7275, \"symbol\": \"circle\"}, \"mode\": \"markers\", \"name\": \"Black pepper\", \"orientation\": \"v\", \"showlegend\": true, \"x\": [231891.5], \"xaxis\": \"x\", \"y\": [93637.23], \"yaxis\": \"y\", \"type\": \"scatter\"}, {\"hovertemplate\": \"Crop=Cardamom<br>Crop_Year=2003<br>Area=%{x}<br>Production=%{marker.size}<extra></extra>\", \"ids\": [\"Cardamom\"], \"legendgroup\": \"Cardamom\", \"marker\": {\"color\": \"#EF553B\", \"size\": [11163.0], \"sizemode\": \"area\", \"sizeref\": 4289.7275, \"symbol\": \"circle\"}, \"mode\": \"markers\", \"name\": \"Cardamom\", \"orientation\": \"v\", \"showlegend\": true, \"x\": [68551.0], \"xaxis\": \"x\", \"y\": [11163.0], \"yaxis\": \"y\", \"type\": \"scatter\"}, {\"hovertemplate\": \"Crop=Coriander<br>Crop_Year=2003<br>Area=%{x}<br>Production=%{marker.size}<extra></extra>\", \"ids\": [\"Coriander\"], \"legendgroup\": \"Coriander\", \"marker\": {\"color\": \"#00cc96\", \"size\": [383956.01], \"sizemode\": \"area\", \"sizeref\": 4289.7275, \"symbol\": \"circle\"}, \"mode\": \"markers\", \"name\": \"Coriander\", \"orientation\": \"v\", \"showlegend\": true, \"x\": [475769.0], \"xaxis\": \"x\", \"y\": [383956.01], \"yaxis\": \"y\", \"type\": \"scatter\"}, {\"hovertemplate\": \"Crop=Dry chillies<br>Crop_Year=2003<br>Area=%{x}<br>Production=%{marker.size}<extra></extra>\", \"ids\": [\"Dry chillies\"], \"legendgroup\": \"Dry chillies\", \"marker\": {\"color\": \"#ab63fa\", \"size\": [1168856.0], \"sizemode\": \"area\", \"sizeref\": 4289.7275, \"symbol\": \"circle\"}, \"mode\": \"markers\", \"name\": \"Dry chillies\", \"orientation\": \"v\", \"showlegend\": true, \"x\": [658581.0], \"xaxis\": \"x\", \"y\": [1168856.0], \"yaxis\": \"y\", \"type\": \"scatter\"}, {\"hovertemplate\": \"Crop=Dry ginger<br>Crop_Year=2003<br>Area=%{x}<br>Production=%{marker.size}<extra></extra>\", \"ids\": [\"Dry ginger\"], \"legendgroup\": \"Dry ginger\", \"marker\": {\"color\": \"#FFA15A\", \"size\": [331064.6], \"sizemode\": \"area\", \"sizeref\": 4289.7275, \"symbol\": \"circle\"}, \"mode\": \"markers\", \"name\": \"Dry ginger\", \"orientation\": \"v\", \"showlegend\": true, \"x\": [69386.0], \"xaxis\": \"x\", \"y\": [331064.6], \"yaxis\": \"y\", \"type\": \"scatter\"}, {\"hovertemplate\": \"Crop=Garlic<br>Crop_Year=2003<br>Area=%{x}<br>Production=%{marker.size}<extra></extra>\", \"ids\": [\"Garlic\"], \"legendgroup\": \"Garlic\", \"marker\": {\"color\": \"#19d3f3\", \"size\": [508230.0], \"sizemode\": \"area\", \"sizeref\": 4289.7275, \"symbol\": \"circle\"}, \"mode\": \"markers\", \"name\": \"Garlic\", \"orientation\": \"v\", \"showlegend\": true, \"x\": [102551.0], \"xaxis\": \"x\", \"y\": [508230.0], \"yaxis\": \"y\", \"type\": \"scatter\"}, {\"hovertemplate\": \"Crop=Khesari<br>Crop_Year=2003<br>Area=%{x}<br>Production=%{marker.size}<extra></extra>\", \"ids\": [\"Khesari\"], \"legendgroup\": \"Khesari\", \"marker\": {\"color\": \"#B6E880\", \"size\": [442358.0], \"sizemode\": \"area\", \"sizeref\": 4289.7275, \"symbol\": \"circle\"}, \"mode\": \"markers\", \"name\": \"Khesari\", \"orientation\": \"v\", \"showlegend\": true, \"x\": [629631.0], \"xaxis\": \"x\", \"y\": [442358.0], \"yaxis\": \"y\", \"type\": \"scatter\"}, {\"hovertemplate\": \"Crop=Turmeric<br>Crop_Year=2003<br>Area=%{x}<br>Production=%{marker.size}<extra></extra>\", \"ids\": [\"Turmeric\"], \"legendgroup\": \"Turmeric\", \"marker\": {\"color\": \"#FF97FF\", \"size\": [525885.0], \"sizemode\": \"area\", \"sizeref\": 4289.7275, \"symbol\": \"circle\"}, \"mode\": \"markers\", \"name\": \"Turmeric\", \"orientation\": \"v\", \"showlegend\": true, \"x\": [139154.0], \"xaxis\": \"x\", \"y\": [525885.0], \"yaxis\": \"y\", \"type\": \"scatter\"}], \"name\": \"2003\"}, {\"data\": [{\"hovertemplate\": \"Crop=Black pepper<br>Crop_Year=2004<br>Area=%{x}<br>Production=%{marker.size}<extra></extra>\", \"ids\": [\"Black pepper\"], \"legendgroup\": \"Black pepper\", \"marker\": {\"color\": \"#636efa\", \"size\": [103300.22], \"sizemode\": \"area\", \"sizeref\": 4289.7275, \"symbol\": \"circle\"}, \"mode\": \"markers\", \"name\": \"Black pepper\", \"orientation\": \"v\", \"showlegend\": true, \"x\": [252164.0], \"xaxis\": \"x\", \"y\": [103300.22], \"yaxis\": \"y\", \"type\": \"scatter\"}, {\"hovertemplate\": \"Crop=Cardamom<br>Crop_Year=2004<br>Area=%{x}<br>Production=%{marker.size}<extra></extra>\", \"ids\": [\"Cardamom\"], \"legendgroup\": \"Cardamom\", \"marker\": {\"color\": \"#EF553B\", \"size\": [10171.7], \"sizemode\": \"area\", \"sizeref\": 4289.7275, \"symbol\": \"circle\"}, \"mode\": \"markers\", \"name\": \"Cardamom\", \"orientation\": \"v\", \"showlegend\": true, \"x\": [65418.87], \"xaxis\": \"x\", \"y\": [10171.7], \"yaxis\": \"y\", \"type\": \"scatter\"}, {\"hovertemplate\": \"Crop=Coriander<br>Crop_Year=2004<br>Area=%{x}<br>Production=%{marker.size}<extra></extra>\", \"ids\": [\"Coriander\"], \"legendgroup\": \"Coriander\", \"marker\": {\"color\": \"#00cc96\", \"size\": [253312.0], \"sizemode\": \"area\", \"sizeref\": 4289.7275, \"symbol\": \"circle\"}, \"mode\": \"markers\", \"name\": \"Coriander\", \"orientation\": \"v\", \"showlegend\": true, \"x\": [362920.0], \"xaxis\": \"x\", \"y\": [253312.0], \"yaxis\": \"y\", \"type\": \"scatter\"}, {\"hovertemplate\": \"Crop=Dry chillies<br>Crop_Year=2004<br>Area=%{x}<br>Production=%{marker.size}<extra></extra>\", \"ids\": [\"Dry chillies\"], \"legendgroup\": \"Dry chillies\", \"marker\": {\"color\": \"#ab63fa\", \"size\": [1114208.0], \"sizemode\": \"area\", \"sizeref\": 4289.7275, \"symbol\": \"circle\"}, \"mode\": \"markers\", \"name\": \"Dry chillies\", \"orientation\": \"v\", \"showlegend\": true, \"x\": [678534.0], \"xaxis\": \"x\", \"y\": [1114208.0], \"yaxis\": \"y\", \"type\": \"scatter\"}, {\"hovertemplate\": \"Crop=Dry ginger<br>Crop_Year=2004<br>Area=%{x}<br>Production=%{marker.size}<extra></extra>\", \"ids\": [\"Dry ginger\"], \"legendgroup\": \"Dry ginger\", \"marker\": {\"color\": \"#FFA15A\", \"size\": [385722.0], \"sizemode\": \"area\", \"sizeref\": 4289.7275, \"symbol\": \"circle\"}, \"mode\": \"markers\", \"name\": \"Dry ginger\", \"orientation\": \"v\", \"showlegend\": true, \"x\": [76220.0], \"xaxis\": \"x\", \"y\": [385722.0], \"yaxis\": \"y\", \"type\": \"scatter\"}, {\"hovertemplate\": \"Crop=Garlic<br>Crop_Year=2004<br>Area=%{x}<br>Production=%{marker.size}<extra></extra>\", \"ids\": [\"Garlic\"], \"legendgroup\": \"Garlic\", \"marker\": {\"color\": \"#19d3f3\", \"size\": [622352.0], \"sizemode\": \"area\", \"sizeref\": 4289.7275, \"symbol\": \"circle\"}, \"mode\": \"markers\", \"name\": \"Garlic\", \"orientation\": \"v\", \"showlegend\": true, \"x\": [142153.0], \"xaxis\": \"x\", \"y\": [622352.0], \"yaxis\": \"y\", \"type\": \"scatter\"}, {\"hovertemplate\": \"Crop=Khesari<br>Crop_Year=2004<br>Area=%{x}<br>Production=%{marker.size}<extra></extra>\", \"ids\": [\"Khesari\"], \"legendgroup\": \"Khesari\", \"marker\": {\"color\": \"#B6E880\", \"size\": [288213.0], \"sizemode\": \"area\", \"sizeref\": 4289.7275, \"symbol\": \"circle\"}, \"mode\": \"markers\", \"name\": \"Khesari\", \"orientation\": \"v\", \"showlegend\": true, \"x\": [602691.0], \"xaxis\": \"x\", \"y\": [288213.0], \"yaxis\": \"y\", \"type\": \"scatter\"}, {\"hovertemplate\": \"Crop=Turmeric<br>Crop_Year=2004<br>Area=%{x}<br>Production=%{marker.size}<extra></extra>\", \"ids\": [\"Turmeric\"], \"legendgroup\": \"Turmeric\", \"marker\": {\"color\": \"#FF97FF\", \"size\": [670866.0], \"sizemode\": \"area\", \"sizeref\": 4289.7275, \"symbol\": \"circle\"}, \"mode\": \"markers\", \"name\": \"Turmeric\", \"orientation\": \"v\", \"showlegend\": true, \"x\": [146455.0], \"xaxis\": \"x\", \"y\": [670866.0], \"yaxis\": \"y\", \"type\": \"scatter\"}], \"name\": \"2004\"}, {\"data\": [{\"hovertemplate\": \"Crop=Black pepper<br>Crop_Year=2005<br>Area=%{x}<br>Production=%{marker.size}<extra></extra>\", \"ids\": [\"Black pepper\"], \"legendgroup\": \"Black pepper\", \"marker\": {\"color\": \"#636efa\", \"size\": [121050.05], \"sizemode\": \"area\", \"sizeref\": 4289.7275, \"symbol\": \"circle\"}, \"mode\": \"markers\", \"name\": \"Black pepper\", \"orientation\": \"v\", \"showlegend\": true, \"x\": [257870.45], \"xaxis\": \"x\", \"y\": [121050.05], \"yaxis\": \"y\", \"type\": \"scatter\"}, {\"hovertemplate\": \"Crop=Cardamom<br>Crop_Year=2005<br>Area=%{x}<br>Production=%{marker.size}<extra></extra>\", \"ids\": [\"Cardamom\"], \"legendgroup\": \"Cardamom\", \"marker\": {\"color\": \"#EF553B\", \"size\": [12044.0], \"sizemode\": \"area\", \"sizeref\": 4289.7275, \"symbol\": \"circle\"}, \"mode\": \"markers\", \"name\": \"Cardamom\", \"orientation\": \"v\", \"showlegend\": true, \"x\": [68797.0], \"xaxis\": \"x\", \"y\": [12044.0], \"yaxis\": \"y\", \"type\": \"scatter\"}, {\"hovertemplate\": \"Crop=Coriander<br>Crop_Year=2005<br>Area=%{x}<br>Production=%{marker.size}<extra></extra>\", \"ids\": [\"Coriander\"], \"legendgroup\": \"Coriander\", \"marker\": {\"color\": \"#00cc96\", \"size\": [168992.0], \"sizemode\": \"area\", \"sizeref\": 4289.7275, \"symbol\": \"circle\"}, \"mode\": \"markers\", \"name\": \"Coriander\", \"orientation\": \"v\", \"showlegend\": true, \"x\": [207062.0], \"xaxis\": \"x\", \"y\": [168992.0], \"yaxis\": \"y\", \"type\": \"scatter\"}, {\"hovertemplate\": \"Crop=Dry chillies<br>Crop_Year=2005<br>Area=%{x}<br>Production=%{marker.size}<extra></extra>\", \"ids\": [\"Dry chillies\"], \"legendgroup\": \"Dry chillies\", \"marker\": {\"color\": \"#ab63fa\", \"size\": [805665.7], \"sizemode\": \"area\", \"sizeref\": 4289.7275, \"symbol\": \"circle\"}, \"mode\": \"markers\", \"name\": \"Dry chillies\", \"orientation\": \"v\", \"showlegend\": true, \"x\": [477966.7], \"xaxis\": \"x\", \"y\": [805665.7], \"yaxis\": \"y\", \"type\": \"scatter\"}, {\"hovertemplate\": \"Crop=Dry ginger<br>Crop_Year=2005<br>Area=%{x}<br>Production=%{marker.size}<extra></extra>\", \"ids\": [\"Dry ginger\"], \"legendgroup\": \"Dry ginger\", \"marker\": {\"color\": \"#FFA15A\", \"size\": [513899.1], \"sizemode\": \"area\", \"sizeref\": 4289.7275, \"symbol\": \"circle\"}, \"mode\": \"markers\", \"name\": \"Dry ginger\", \"orientation\": \"v\", \"showlegend\": true, \"x\": [68384.0], \"xaxis\": \"x\", \"y\": [513899.1], \"yaxis\": \"y\", \"type\": \"scatter\"}, {\"hovertemplate\": \"Crop=Garlic<br>Crop_Year=2005<br>Area=%{x}<br>Production=%{marker.size}<extra></extra>\", \"ids\": [\"Garlic\"], \"legendgroup\": \"Garlic\", \"marker\": {\"color\": \"#19d3f3\", \"size\": [461115.0], \"sizemode\": \"area\", \"sizeref\": 4289.7275, \"symbol\": \"circle\"}, \"mode\": \"markers\", \"name\": \"Garlic\", \"orientation\": \"v\", \"showlegend\": true, \"x\": [92309.0], \"xaxis\": \"x\", \"y\": [461115.0], \"yaxis\": \"y\", \"type\": \"scatter\"}, {\"hovertemplate\": \"Crop=Khesari<br>Crop_Year=2005<br>Area=%{x}<br>Production=%{marker.size}<extra></extra>\", \"ids\": [\"Khesari\"], \"legendgroup\": \"Khesari\", \"marker\": {\"color\": \"#B6E880\", \"size\": [317439.0], \"sizemode\": \"area\", \"sizeref\": 4289.7275, \"symbol\": \"circle\"}, \"mode\": \"markers\", \"name\": \"Khesari\", \"orientation\": \"v\", \"showlegend\": true, \"x\": [590364.0], \"xaxis\": \"x\", \"y\": [317439.0], \"yaxis\": \"y\", \"type\": \"scatter\"}, {\"hovertemplate\": \"Crop=Turmeric<br>Crop_Year=2005<br>Area=%{x}<br>Production=%{marker.size}<extra></extra>\", \"ids\": [\"Turmeric\"], \"legendgroup\": \"Turmeric\", \"marker\": {\"color\": \"#FF97FF\", \"size\": [759277.1], \"sizemode\": \"area\", \"sizeref\": 4289.7275, \"symbol\": \"circle\"}, \"mode\": \"markers\", \"name\": \"Turmeric\", \"orientation\": \"v\", \"showlegend\": true, \"x\": [137183.7], \"xaxis\": \"x\", \"y\": [759277.1], \"yaxis\": \"y\", \"type\": \"scatter\"}], \"name\": \"2005\"}, {\"data\": [{\"hovertemplate\": \"Crop=Black pepper<br>Crop_Year=2006<br>Area=%{x}<br>Production=%{marker.size}<extra></extra>\", \"ids\": [\"Black pepper\"], \"legendgroup\": \"Black pepper\", \"marker\": {\"color\": \"#636efa\", \"size\": [94520.0], \"sizemode\": \"area\", \"sizeref\": 4289.7275, \"symbol\": \"circle\"}, \"mode\": \"markers\", \"name\": \"Black pepper\", \"orientation\": \"v\", \"showlegend\": true, \"x\": [235405.26], \"xaxis\": \"x\", \"y\": [94520.0], \"yaxis\": \"y\", \"type\": \"scatter\"}, {\"hovertemplate\": \"Crop=Cardamom<br>Crop_Year=2006<br>Area=%{x}<br>Production=%{marker.size}<extra></extra>\", \"ids\": [\"Cardamom\"], \"legendgroup\": \"Cardamom\", \"marker\": {\"color\": \"#EF553B\", \"size\": [12470.0], \"sizemode\": \"area\", \"sizeref\": 4289.7275, \"symbol\": \"circle\"}, \"mode\": \"markers\", \"name\": \"Cardamom\", \"orientation\": \"v\", \"showlegend\": true, \"x\": [73255.0], \"xaxis\": \"x\", \"y\": [12470.0], \"yaxis\": \"y\", \"type\": \"scatter\"}, {\"hovertemplate\": \"Crop=Coriander<br>Crop_Year=2006<br>Area=%{x}<br>Production=%{marker.size}<extra></extra>\", \"ids\": [\"Coriander\"], \"legendgroup\": \"Coriander\", \"marker\": {\"color\": \"#00cc96\", \"size\": [225518.0], \"sizemode\": \"area\", \"sizeref\": 4289.7275, \"symbol\": \"circle\"}, \"mode\": \"markers\", \"name\": \"Coriander\", \"orientation\": \"v\", \"showlegend\": true, \"x\": [305779.0], \"xaxis\": \"x\", \"y\": [225518.0], \"yaxis\": \"y\", \"type\": \"scatter\"}, {\"hovertemplate\": \"Crop=Dry chillies<br>Crop_Year=2006<br>Area=%{x}<br>Production=%{marker.size}<extra></extra>\", \"ids\": [\"Dry chillies\"], \"legendgroup\": \"Dry chillies\", \"marker\": {\"color\": \"#ab63fa\", \"size\": [1103407.0], \"sizemode\": \"area\", \"sizeref\": 4289.7275, \"symbol\": \"circle\"}, \"mode\": \"markers\", \"name\": \"Dry chillies\", \"orientation\": \"v\", \"showlegend\": true, \"x\": [584534.3200000001], \"xaxis\": \"x\", \"y\": [1103407.0], \"yaxis\": \"y\", \"type\": \"scatter\"}, {\"hovertemplate\": \"Crop=Dry ginger<br>Crop_Year=2006<br>Area=%{x}<br>Production=%{marker.size}<extra></extra>\", \"ids\": [\"Dry ginger\"], \"legendgroup\": \"Dry ginger\", \"marker\": {\"color\": \"#FFA15A\", \"size\": [479300.0], \"sizemode\": \"area\", \"sizeref\": 4289.7275, \"symbol\": \"circle\"}, \"mode\": \"markers\", \"name\": \"Dry ginger\", \"orientation\": \"v\", \"showlegend\": true, \"x\": [77556.56], \"xaxis\": \"x\", \"y\": [479300.0], \"yaxis\": \"y\", \"type\": \"scatter\"}, {\"hovertemplate\": \"Crop=Garlic<br>Crop_Year=2006<br>Area=%{x}<br>Production=%{marker.size}<extra></extra>\", \"ids\": [\"Garlic\"], \"legendgroup\": \"Garlic\", \"marker\": {\"color\": \"#19d3f3\", \"size\": [655956.0], \"sizemode\": \"area\", \"sizeref\": 4289.7275, \"symbol\": \"circle\"}, \"mode\": \"markers\", \"name\": \"Garlic\", \"orientation\": \"v\", \"showlegend\": true, \"x\": [136108.0], \"xaxis\": \"x\", \"y\": [655956.0], \"yaxis\": \"y\", \"type\": \"scatter\"}, {\"hovertemplate\": \"Crop=Khesari<br>Crop_Year=2006<br>Area=%{x}<br>Production=%{marker.size}<extra></extra>\", \"ids\": [\"Khesari\"], \"legendgroup\": \"Khesari\", \"marker\": {\"color\": \"#B6E880\", \"size\": [372464.0], \"sizemode\": \"area\", \"sizeref\": 4289.7275, \"symbol\": \"circle\"}, \"mode\": \"markers\", \"name\": \"Khesari\", \"orientation\": \"v\", \"showlegend\": true, \"x\": [605929.0], \"xaxis\": \"x\", \"y\": [372464.0], \"yaxis\": \"y\", \"type\": \"scatter\"}, {\"hovertemplate\": \"Crop=Turmeric<br>Crop_Year=2006<br>Area=%{x}<br>Production=%{marker.size}<extra></extra>\", \"ids\": [\"Turmeric\"], \"legendgroup\": \"Turmeric\", \"marker\": {\"color\": \"#FF97FF\", \"size\": [687876.03], \"sizemode\": \"area\", \"sizeref\": 4289.7275, \"symbol\": \"circle\"}, \"mode\": \"markers\", \"name\": \"Turmeric\", \"orientation\": \"v\", \"showlegend\": true, \"x\": [138404.5], \"xaxis\": \"x\", \"y\": [687876.03], \"yaxis\": \"y\", \"type\": \"scatter\"}], \"name\": \"2006\"}, {\"data\": [{\"hovertemplate\": \"Crop=Black pepper<br>Crop_Year=2007<br>Area=%{x}<br>Production=%{marker.size}<extra></extra>\", \"ids\": [\"Black pepper\"], \"legendgroup\": \"Black pepper\", \"marker\": {\"color\": \"#636efa\", \"size\": [97965.0], \"sizemode\": \"area\", \"sizeref\": 4289.7275, \"symbol\": \"circle\"}, \"mode\": \"markers\", \"name\": \"Black pepper\", \"orientation\": \"v\", \"showlegend\": true, \"x\": [198623.0], \"xaxis\": \"x\", \"y\": [97965.0], \"yaxis\": \"y\", \"type\": \"scatter\"}, {\"hovertemplate\": \"Crop=Cardamom<br>Crop_Year=2007<br>Area=%{x}<br>Production=%{marker.size}<extra></extra>\", \"ids\": [\"Cardamom\"], \"legendgroup\": \"Cardamom\", \"marker\": {\"color\": \"#EF553B\", \"size\": [9511.0], \"sizemode\": \"area\", \"sizeref\": 4289.7275, \"symbol\": \"circle\"}, \"mode\": \"markers\", \"name\": \"Cardamom\", \"orientation\": \"v\", \"showlegend\": true, \"x\": [65043.0], \"xaxis\": \"x\", \"y\": [9511.0], \"yaxis\": \"y\", \"type\": \"scatter\"}, {\"hovertemplate\": \"Crop=Coriander<br>Crop_Year=2007<br>Area=%{x}<br>Production=%{marker.size}<extra></extra>\", \"ids\": [\"Coriander\"], \"legendgroup\": \"Coriander\", \"marker\": {\"color\": \"#00cc96\", \"size\": [223921.1], \"sizemode\": \"area\", \"sizeref\": 4289.7275, \"symbol\": \"circle\"}, \"mode\": \"markers\", \"name\": \"Coriander\", \"orientation\": \"v\", \"showlegend\": true, \"x\": [381976.0], \"xaxis\": \"x\", \"y\": [223921.1], \"yaxis\": \"y\", \"type\": \"scatter\"}, {\"hovertemplate\": \"Crop=Dry chillies<br>Crop_Year=2007<br>Area=%{x}<br>Production=%{marker.size}<extra></extra>\", \"ids\": [\"Dry chillies\"], \"legendgroup\": \"Dry chillies\", \"marker\": {\"color\": \"#ab63fa\", \"size\": [1135128.5], \"sizemode\": \"area\", \"sizeref\": 4289.7275, \"symbol\": \"circle\"}, \"mode\": \"markers\", \"name\": \"Dry chillies\", \"orientation\": \"v\", \"showlegend\": true, \"x\": [578887.0], \"xaxis\": \"x\", \"y\": [1135128.5], \"yaxis\": \"y\", \"type\": \"scatter\"}, {\"hovertemplate\": \"Crop=Dry ginger<br>Crop_Year=2007<br>Area=%{x}<br>Production=%{marker.size}<extra></extra>\", \"ids\": [\"Dry ginger\"], \"legendgroup\": \"Dry ginger\", \"marker\": {\"color\": \"#FFA15A\", \"size\": [605306.7], \"sizemode\": \"area\", \"sizeref\": 4289.7275, \"symbol\": \"circle\"}, \"mode\": \"markers\", \"name\": \"Dry ginger\", \"orientation\": \"v\", \"showlegend\": true, \"x\": [71657.0], \"xaxis\": \"x\", \"y\": [605306.7], \"yaxis\": \"y\", \"type\": \"scatter\"}, {\"hovertemplate\": \"Crop=Garlic<br>Crop_Year=2007<br>Area=%{x}<br>Production=%{marker.size}<extra></extra>\", \"ids\": [\"Garlic\"], \"legendgroup\": \"Garlic\", \"marker\": {\"color\": \"#19d3f3\", \"size\": [806270.7], \"sizemode\": \"area\", \"sizeref\": 4289.7275, \"symbol\": \"circle\"}, \"mode\": \"markers\", \"name\": \"Garlic\", \"orientation\": \"v\", \"showlegend\": true, \"x\": [153941.0], \"xaxis\": \"x\", \"y\": [806270.7], \"yaxis\": \"y\", \"type\": \"scatter\"}, {\"hovertemplate\": \"Crop=Khesari<br>Crop_Year=2007<br>Area=%{x}<br>Production=%{marker.size}<extra></extra>\", \"ids\": [\"Khesari\"], \"legendgroup\": \"Khesari\", \"marker\": {\"color\": \"#B6E880\", \"size\": [692359.0], \"sizemode\": \"area\", \"sizeref\": 4289.7275, \"symbol\": \"circle\"}, \"mode\": \"markers\", \"name\": \"Khesari\", \"orientation\": \"v\", \"showlegend\": true, \"x\": [611582.0], \"xaxis\": \"x\", \"y\": [692359.0], \"yaxis\": \"y\", \"type\": \"scatter\"}, {\"hovertemplate\": \"Crop=Turmeric<br>Crop_Year=2007<br>Area=%{x}<br>Production=%{marker.size}<extra></extra>\", \"ids\": [\"Turmeric\"], \"legendgroup\": \"Turmeric\", \"marker\": {\"color\": \"#FF97FF\", \"size\": [314503.3], \"sizemode\": \"area\", \"sizeref\": 4289.7275, \"symbol\": \"circle\"}, \"mode\": \"markers\", \"name\": \"Turmeric\", \"orientation\": \"v\", \"showlegend\": true, \"x\": [79276.0], \"xaxis\": \"x\", \"y\": [314503.3], \"yaxis\": \"y\", \"type\": \"scatter\"}], \"name\": \"2007\"}, {\"data\": [{\"hovertemplate\": \"Crop=Black pepper<br>Crop_Year=2008<br>Area=%{x}<br>Production=%{marker.size}<extra></extra>\", \"ids\": [\"Black pepper\"], \"legendgroup\": \"Black pepper\", \"marker\": {\"color\": \"#636efa\", \"size\": [114277.0], \"sizemode\": \"area\", \"sizeref\": 4289.7275, \"symbol\": \"circle\"}, \"mode\": \"markers\", \"name\": \"Black pepper\", \"orientation\": \"v\", \"showlegend\": true, \"x\": [178568.0], \"xaxis\": \"x\", \"y\": [114277.0], \"yaxis\": \"y\", \"type\": \"scatter\"}, {\"hovertemplate\": \"Crop=Cardamom<br>Crop_Year=2008<br>Area=%{x}<br>Production=%{marker.size}<extra></extra>\", \"ids\": [\"Cardamom\"], \"legendgroup\": \"Cardamom\", \"marker\": {\"color\": \"#EF553B\", \"size\": [11766.0], \"sizemode\": \"area\", \"sizeref\": 4289.7275, \"symbol\": \"circle\"}, \"mode\": \"markers\", \"name\": \"Cardamom\", \"orientation\": \"v\", \"showlegend\": true, \"x\": [66023.0], \"xaxis\": \"x\", \"y\": [11766.0], \"yaxis\": \"y\", \"type\": \"scatter\"}, {\"hovertemplate\": \"Crop=Coriander<br>Crop_Year=2008<br>Area=%{x}<br>Production=%{marker.size}<extra></extra>\", \"ids\": [\"Coriander\"], \"legendgroup\": \"Coriander\", \"marker\": {\"color\": \"#00cc96\", \"size\": [362266.0], \"sizemode\": \"area\", \"sizeref\": 4289.7275, \"symbol\": \"circle\"}, \"mode\": \"markers\", \"name\": \"Coriander\", \"orientation\": \"v\", \"showlegend\": true, \"x\": [449534.0], \"xaxis\": \"x\", \"y\": [362266.0], \"yaxis\": \"y\", \"type\": \"scatter\"}, {\"hovertemplate\": \"Crop=Dry chillies<br>Crop_Year=2008<br>Area=%{x}<br>Production=%{marker.size}<extra></extra>\", \"ids\": [\"Dry chillies\"], \"legendgroup\": \"Dry chillies\", \"marker\": {\"color\": \"#ab63fa\", \"size\": [1120759.0], \"sizemode\": \"area\", \"sizeref\": 4289.7275, \"symbol\": \"circle\"}, \"mode\": \"markers\", \"name\": \"Dry chillies\", \"orientation\": \"v\", \"showlegend\": true, \"x\": [525053.0], \"xaxis\": \"x\", \"y\": [1120759.0], \"yaxis\": \"y\", \"type\": \"scatter\"}, {\"hovertemplate\": \"Crop=Dry ginger<br>Crop_Year=2008<br>Area=%{x}<br>Production=%{marker.size}<extra></extra>\", \"ids\": [\"Dry ginger\"], \"legendgroup\": \"Dry ginger\", \"marker\": {\"color\": \"#FFA15A\", \"size\": [1166719.0], \"sizemode\": \"area\", \"sizeref\": 4289.7275, \"symbol\": \"circle\"}, \"mode\": \"markers\", \"name\": \"Dry ginger\", \"orientation\": \"v\", \"showlegend\": true, \"x\": [87153.0], \"xaxis\": \"x\", \"y\": [1166719.0], \"yaxis\": \"y\", \"type\": \"scatter\"}, {\"hovertemplate\": \"Crop=Garlic<br>Crop_Year=2008<br>Area=%{x}<br>Production=%{marker.size}<extra></extra>\", \"ids\": [\"Garlic\"], \"legendgroup\": \"Garlic\", \"marker\": {\"color\": \"#19d3f3\", \"size\": [757611.0], \"sizemode\": \"area\", \"sizeref\": 4289.7275, \"symbol\": \"circle\"}, \"mode\": \"markers\", \"name\": \"Garlic\", \"orientation\": \"v\", \"showlegend\": true, \"x\": [156296.0], \"xaxis\": \"x\", \"y\": [757611.0], \"yaxis\": \"y\", \"type\": \"scatter\"}, {\"hovertemplate\": \"Crop=Khesari<br>Crop_Year=2008<br>Area=%{x}<br>Production=%{marker.size}<extra></extra>\", \"ids\": [\"Khesari\"], \"legendgroup\": \"Khesari\", \"marker\": {\"color\": \"#B6E880\", \"size\": [347119.0], \"sizemode\": \"area\", \"sizeref\": 4289.7275, \"symbol\": \"circle\"}, \"mode\": \"markers\", \"name\": \"Khesari\", \"orientation\": \"v\", \"showlegend\": true, \"x\": [564067.0], \"xaxis\": \"x\", \"y\": [347119.0], \"yaxis\": \"y\", \"type\": \"scatter\"}, {\"hovertemplate\": \"Crop=Turmeric<br>Crop_Year=2008<br>Area=%{x}<br>Production=%{marker.size}<extra></extra>\", \"ids\": [\"Turmeric\"], \"legendgroup\": \"Turmeric\", \"marker\": {\"color\": \"#FF97FF\", \"size\": [716910.0], \"sizemode\": \"area\", \"sizeref\": 4289.7275, \"symbol\": \"circle\"}, \"mode\": \"markers\", \"name\": \"Turmeric\", \"orientation\": \"v\", \"showlegend\": true, \"x\": [144882.0], \"xaxis\": \"x\", \"y\": [716910.0], \"yaxis\": \"y\", \"type\": \"scatter\"}], \"name\": \"2008\"}, {\"data\": [{\"hovertemplate\": \"Crop=Black pepper<br>Crop_Year=2009<br>Area=%{x}<br>Production=%{marker.size}<extra></extra>\", \"ids\": [\"Black pepper\"], \"legendgroup\": \"Black pepper\", \"marker\": {\"color\": \"#636efa\", \"size\": [121113.0], \"sizemode\": \"area\", \"sizeref\": 4289.7275, \"symbol\": \"circle\"}, \"mode\": \"markers\", \"name\": \"Black pepper\", \"orientation\": \"v\", \"showlegend\": true, \"x\": [197847.0], \"xaxis\": \"x\", \"y\": [121113.0], \"yaxis\": \"y\", \"type\": \"scatter\"}, {\"hovertemplate\": \"Crop=Cardamom<br>Crop_Year=2009<br>Area=%{x}<br>Production=%{marker.size}<extra></extra>\", \"ids\": [\"Cardamom\"], \"legendgroup\": \"Cardamom\", \"marker\": {\"color\": \"#EF553B\", \"size\": [9397.0], \"sizemode\": \"area\", \"sizeref\": 4289.7275, \"symbol\": \"circle\"}, \"mode\": \"markers\", \"name\": \"Cardamom\", \"orientation\": \"v\", \"showlegend\": true, \"x\": [63846.0], \"xaxis\": \"x\", \"y\": [9397.0], \"yaxis\": \"y\", \"type\": \"scatter\"}, {\"hovertemplate\": \"Crop=Coriander<br>Crop_Year=2009<br>Area=%{x}<br>Production=%{marker.size}<extra></extra>\", \"ids\": [\"Coriander\"], \"legendgroup\": \"Coriander\", \"marker\": {\"color\": \"#00cc96\", \"size\": [386824.0], \"sizemode\": \"area\", \"sizeref\": 4289.7275, \"symbol\": \"circle\"}, \"mode\": \"markers\", \"name\": \"Coriander\", \"orientation\": \"v\", \"showlegend\": true, \"x\": [452657.0], \"xaxis\": \"x\", \"y\": [386824.0], \"yaxis\": \"y\", \"type\": \"scatter\"}, {\"hovertemplate\": \"Crop=Dry chillies<br>Crop_Year=2009<br>Area=%{x}<br>Production=%{marker.size}<extra></extra>\", \"ids\": [\"Dry chillies\"], \"legendgroup\": \"Dry chillies\", \"marker\": {\"color\": \"#ab63fa\", \"size\": [1058262.0], \"sizemode\": \"area\", \"sizeref\": 4289.7275, \"symbol\": \"circle\"}, \"mode\": \"markers\", \"name\": \"Dry chillies\", \"orientation\": \"v\", \"showlegend\": true, \"x\": [396419.0], \"xaxis\": \"x\", \"y\": [1058262.0], \"yaxis\": \"y\", \"type\": \"scatter\"}, {\"hovertemplate\": \"Crop=Dry ginger<br>Crop_Year=2009<br>Area=%{x}<br>Production=%{marker.size}<extra></extra>\", \"ids\": [\"Dry ginger\"], \"legendgroup\": \"Dry ginger\", \"marker\": {\"color\": \"#FFA15A\", \"size\": [1715891.0], \"sizemode\": \"area\", \"sizeref\": 4289.7275, \"symbol\": \"circle\"}, \"mode\": \"markers\", \"name\": \"Dry ginger\", \"orientation\": \"v\", \"showlegend\": true, \"x\": [97488.0], \"xaxis\": \"x\", \"y\": [1715891.0], \"yaxis\": \"y\", \"type\": \"scatter\"}, {\"hovertemplate\": \"Crop=Garlic<br>Crop_Year=2009<br>Area=%{x}<br>Production=%{marker.size}<extra></extra>\", \"ids\": [\"Garlic\"], \"legendgroup\": \"Garlic\", \"marker\": {\"color\": \"#19d3f3\", \"size\": [626318.0], \"sizemode\": \"area\", \"sizeref\": 4289.7275, \"symbol\": \"circle\"}, \"mode\": \"markers\", \"name\": \"Garlic\", \"orientation\": \"v\", \"showlegend\": true, \"x\": [134936.0], \"xaxis\": \"x\", \"y\": [626318.0], \"yaxis\": \"y\", \"type\": \"scatter\"}, {\"hovertemplate\": \"Crop=Khesari<br>Crop_Year=2009<br>Area=%{x}<br>Production=%{marker.size}<extra></extra>\", \"ids\": [\"Khesari\"], \"legendgroup\": \"Khesari\", \"marker\": {\"color\": \"#B6E880\", \"size\": [334635.0], \"sizemode\": \"area\", \"sizeref\": 4289.7275, \"symbol\": \"circle\"}, \"mode\": \"markers\", \"name\": \"Khesari\", \"orientation\": \"v\", \"showlegend\": true, \"x\": [488211.0], \"xaxis\": \"x\", \"y\": [334635.0], \"yaxis\": \"y\", \"type\": \"scatter\"}, {\"hovertemplate\": \"Crop=Turmeric<br>Crop_Year=2009<br>Area=%{x}<br>Production=%{marker.size}<extra></extra>\", \"ids\": [\"Turmeric\"], \"legendgroup\": \"Turmeric\", \"marker\": {\"color\": \"#FF97FF\", \"size\": [647359.0], \"sizemode\": \"area\", \"sizeref\": 4289.7275, \"symbol\": \"circle\"}, \"mode\": \"markers\", \"name\": \"Turmeric\", \"orientation\": \"v\", \"showlegend\": true, \"x\": [130703.0], \"xaxis\": \"x\", \"y\": [647359.0], \"yaxis\": \"y\", \"type\": \"scatter\"}], \"name\": \"2009\"}, {\"data\": [{\"hovertemplate\": \"Crop=Black pepper<br>Crop_Year=2010<br>Area=%{x}<br>Production=%{marker.size}<extra></extra>\", \"ids\": [\"Black pepper\"], \"legendgroup\": \"Black pepper\", \"marker\": {\"color\": \"#636efa\", \"size\": [63163.56999999999], \"sizemode\": \"area\", \"sizeref\": 4289.7275, \"symbol\": \"circle\"}, \"mode\": \"markers\", \"name\": \"Black pepper\", \"orientation\": \"v\", \"showlegend\": true, \"x\": [197783.55], \"xaxis\": \"x\", \"y\": [63163.56999999999], \"yaxis\": \"y\", \"type\": \"scatter\"}, {\"hovertemplate\": \"Crop=Cardamom<br>Crop_Year=2010<br>Area=%{x}<br>Production=%{marker.size}<extra></extra>\", \"ids\": [\"Cardamom\"], \"legendgroup\": \"Cardamom\", \"marker\": {\"color\": \"#EF553B\", \"size\": [1550.0], \"sizemode\": \"area\", \"sizeref\": 4289.7275, \"symbol\": \"circle\"}, \"mode\": \"markers\", \"name\": \"Cardamom\", \"orientation\": \"v\", \"showlegend\": true, \"x\": [19078.0], \"xaxis\": \"x\", \"y\": [1550.0], \"yaxis\": \"y\", \"type\": \"scatter\"}, {\"hovertemplate\": \"Crop=Coriander<br>Crop_Year=2010<br>Area=%{x}<br>Production=%{marker.size}<extra></extra>\", \"ids\": [\"Coriander\"], \"legendgroup\": \"Coriander\", \"marker\": {\"color\": \"#00cc96\", \"size\": [304370.0], \"sizemode\": \"area\", \"sizeref\": 4289.7275, \"symbol\": \"circle\"}, \"mode\": \"markers\", \"name\": \"Coriander\", \"orientation\": \"v\", \"showlegend\": true, \"x\": [401168.0], \"xaxis\": \"x\", \"y\": [304370.0], \"yaxis\": \"y\", \"type\": \"scatter\"}, {\"hovertemplate\": \"Crop=Dry chillies<br>Crop_Year=2010<br>Area=%{x}<br>Production=%{marker.size}<extra></extra>\", \"ids\": [\"Dry chillies\"], \"legendgroup\": \"Dry chillies\", \"marker\": {\"color\": \"#ab63fa\", \"size\": [958872.0], \"sizemode\": \"area\", \"sizeref\": 4289.7275, \"symbol\": \"circle\"}, \"mode\": \"markers\", \"name\": \"Dry chillies\", \"orientation\": \"v\", \"showlegend\": true, \"x\": [430295.0], \"xaxis\": \"x\", \"y\": [958872.0], \"yaxis\": \"y\", \"type\": \"scatter\"}, {\"hovertemplate\": \"Crop=Dry ginger<br>Crop_Year=2010<br>Area=%{x}<br>Production=%{marker.size}<extra></extra>\", \"ids\": [\"Dry ginger\"], \"legendgroup\": \"Dry ginger\", \"marker\": {\"color\": \"#FFA15A\", \"size\": [481720.36000000004], \"sizemode\": \"area\", \"sizeref\": 4289.7275, \"symbol\": \"circle\"}, \"mode\": \"markers\", \"name\": \"Dry ginger\", \"orientation\": \"v\", \"showlegend\": true, \"x\": [101069.93000000001], \"xaxis\": \"x\", \"y\": [481720.36000000004], \"yaxis\": \"y\", \"type\": \"scatter\"}, {\"hovertemplate\": \"Crop=Garlic<br>Crop_Year=2010<br>Area=%{x}<br>Production=%{marker.size}<extra></extra>\", \"ids\": [\"Garlic\"], \"legendgroup\": \"Garlic\", \"marker\": {\"color\": \"#19d3f3\", \"size\": [555389.0], \"sizemode\": \"area\", \"sizeref\": 4289.7275, \"symbol\": \"circle\"}, \"mode\": \"markers\", \"name\": \"Garlic\", \"orientation\": \"v\", \"showlegend\": true, \"x\": [124842.0], \"xaxis\": \"x\", \"y\": [555389.0], \"yaxis\": \"y\", \"type\": \"scatter\"}, {\"hovertemplate\": \"Crop=Ginger<br>Crop_Year=2010<br>Area=%{x}<br>Production=%{marker.size}<extra></extra>\", \"ids\": [\"Ginger\"], \"legendgroup\": \"Ginger\", \"marker\": {\"color\": \"#FF6692\", \"size\": [38669.0], \"sizemode\": \"area\", \"sizeref\": 4289.7275, \"symbol\": \"circle\"}, \"mode\": \"markers\", \"name\": \"Ginger\", \"orientation\": \"v\", \"showlegend\": true, \"x\": [4554.0], \"xaxis\": \"x\", \"y\": [38669.0], \"yaxis\": \"y\", \"type\": \"scatter\"}, {\"hovertemplate\": \"Crop=Khesari<br>Crop_Year=2010<br>Area=%{x}<br>Production=%{marker.size}<extra></extra>\", \"ids\": [\"Khesari\"], \"legendgroup\": \"Khesari\", \"marker\": {\"color\": \"#B6E880\", \"size\": [357054.0], \"sizemode\": \"area\", \"sizeref\": 4289.7275, \"symbol\": \"circle\"}, \"mode\": \"markers\", \"name\": \"Khesari\", \"orientation\": \"v\", \"showlegend\": true, \"x\": [512129.0], \"xaxis\": \"x\", \"y\": [357054.0], \"yaxis\": \"y\", \"type\": \"scatter\"}, {\"hovertemplate\": \"Crop=Turmeric<br>Crop_Year=2010<br>Area=%{x}<br>Production=%{marker.size}<extra></extra>\", \"ids\": [\"Turmeric\"], \"legendgroup\": \"Turmeric\", \"marker\": {\"color\": \"#FF97FF\", \"size\": [573218.39], \"sizemode\": \"area\", \"sizeref\": 4289.7275, \"symbol\": \"circle\"}, \"mode\": \"markers\", \"name\": \"Turmeric\", \"orientation\": \"v\", \"showlegend\": true, \"x\": [106719.78], \"xaxis\": \"x\", \"y\": [573218.39], \"yaxis\": \"y\", \"type\": \"scatter\"}], \"name\": \"2010\"}, {\"data\": [{\"hovertemplate\": \"Crop=Black pepper<br>Crop_Year=2011<br>Area=%{x}<br>Production=%{marker.size}<extra></extra>\", \"ids\": [\"Black pepper\"], \"legendgroup\": \"Black pepper\", \"marker\": {\"color\": \"#636efa\", \"size\": [50201.34], \"sizemode\": \"area\", \"sizeref\": 4289.7275, \"symbol\": \"circle\"}, \"mode\": \"markers\", \"name\": \"Black pepper\", \"orientation\": \"v\", \"showlegend\": true, \"x\": [115368.38], \"xaxis\": \"x\", \"y\": [50201.34], \"yaxis\": \"y\", \"type\": \"scatter\"}, {\"hovertemplate\": \"Crop=Cardamom<br>Crop_Year=2011<br>Area=%{x}<br>Production=%{marker.size}<extra></extra>\", \"ids\": [\"Cardamom\"], \"legendgroup\": \"Cardamom\", \"marker\": {\"color\": \"#EF553B\", \"size\": [2699.0], \"sizemode\": \"area\", \"sizeref\": 4289.7275, \"symbol\": \"circle\"}, \"mode\": \"markers\", \"name\": \"Cardamom\", \"orientation\": \"v\", \"showlegend\": true, \"x\": [31692.0], \"xaxis\": \"x\", \"y\": [2699.0], \"yaxis\": \"y\", \"type\": \"scatter\"}, {\"hovertemplate\": \"Crop=Coriander<br>Crop_Year=2011<br>Area=%{x}<br>Production=%{marker.size}<extra></extra>\", \"ids\": [\"Coriander\"], \"legendgroup\": \"Coriander\", \"marker\": {\"color\": \"#00cc96\", \"size\": [89127.0], \"sizemode\": \"area\", \"sizeref\": 4289.7275, \"symbol\": \"circle\"}, \"mode\": \"markers\", \"name\": \"Coriander\", \"orientation\": \"v\", \"showlegend\": true, \"x\": [194963.0], \"xaxis\": \"x\", \"y\": [89127.0], \"yaxis\": \"y\", \"type\": \"scatter\"}, {\"hovertemplate\": \"Crop=Dry chillies<br>Crop_Year=2011<br>Area=%{x}<br>Production=%{marker.size}<extra></extra>\", \"ids\": [\"Dry chillies\"], \"legendgroup\": \"Dry chillies\", \"marker\": {\"color\": \"#ab63fa\", \"size\": [1073377.0], \"sizemode\": \"area\", \"sizeref\": 4289.7275, \"symbol\": \"circle\"}, \"mode\": \"markers\", \"name\": \"Dry chillies\", \"orientation\": \"v\", \"showlegend\": true, \"x\": [514414.0], \"xaxis\": \"x\", \"y\": [1073377.0], \"yaxis\": \"y\", \"type\": \"scatter\"}, {\"hovertemplate\": \"Crop=Dry ginger<br>Crop_Year=2011<br>Area=%{x}<br>Production=%{marker.size}<extra></extra>\", \"ids\": [\"Dry ginger\"], \"legendgroup\": \"Dry ginger\", \"marker\": {\"color\": \"#FFA15A\", \"size\": [287321.36], \"sizemode\": \"area\", \"sizeref\": 4289.7275, \"symbol\": \"circle\"}, \"mode\": \"markers\", \"name\": \"Dry ginger\", \"orientation\": \"v\", \"showlegend\": true, \"x\": [68520.59000000001], \"xaxis\": \"x\", \"y\": [287321.36], \"yaxis\": \"y\", \"type\": \"scatter\"}, {\"hovertemplate\": \"Crop=Garlic<br>Crop_Year=2011<br>Area=%{x}<br>Production=%{marker.size}<extra></extra>\", \"ids\": [\"Garlic\"], \"legendgroup\": \"Garlic\", \"marker\": {\"color\": \"#19d3f3\", \"size\": [789084.0], \"sizemode\": \"area\", \"sizeref\": 4289.7275, \"symbol\": \"circle\"}, \"mode\": \"markers\", \"name\": \"Garlic\", \"orientation\": \"v\", \"showlegend\": true, \"x\": [159631.0], \"xaxis\": \"x\", \"y\": [789084.0], \"yaxis\": \"y\", \"type\": \"scatter\"}, {\"hovertemplate\": \"Crop=Ginger<br>Crop_Year=2011<br>Area=%{x}<br>Production=%{marker.size}<extra></extra>\", \"ids\": [\"Ginger\"], \"legendgroup\": \"Ginger\", \"marker\": {\"color\": \"#FF6692\", \"size\": [170999.0], \"sizemode\": \"area\", \"sizeref\": 4289.7275, \"symbol\": \"circle\"}, \"mode\": \"markers\", \"name\": \"Ginger\", \"orientation\": \"v\", \"showlegend\": true, \"x\": [21395.0], \"xaxis\": \"x\", \"y\": [170999.0], \"yaxis\": \"y\", \"type\": \"scatter\"}, {\"hovertemplate\": \"Crop=Khesari<br>Crop_Year=2011<br>Area=%{x}<br>Production=%{marker.size}<extra></extra>\", \"ids\": [\"Khesari\"], \"legendgroup\": \"Khesari\", \"marker\": {\"color\": \"#B6E880\", \"size\": [365993.0], \"sizemode\": \"area\", \"sizeref\": 4289.7275, \"symbol\": \"circle\"}, \"mode\": \"markers\", \"name\": \"Khesari\", \"orientation\": \"v\", \"showlegend\": true, \"x\": [499465.0], \"xaxis\": \"x\", \"y\": [365993.0], \"yaxis\": \"y\", \"type\": \"scatter\"}, {\"hovertemplate\": \"Crop=Turmeric<br>Crop_Year=2011<br>Area=%{x}<br>Production=%{marker.size}<extra></extra>\", \"ids\": [\"Turmeric\"], \"legendgroup\": \"Turmeric\", \"marker\": {\"color\": \"#FF97FF\", \"size\": [1056287.54], \"sizemode\": \"area\", \"sizeref\": 4289.7275, \"symbol\": \"circle\"}, \"mode\": \"markers\", \"name\": \"Turmeric\", \"orientation\": \"v\", \"showlegend\": true, \"x\": [200352.45], \"xaxis\": \"x\", \"y\": [1056287.54], \"yaxis\": \"y\", \"type\": \"scatter\"}], \"name\": \"2011\"}, {\"data\": [{\"hovertemplate\": \"Crop=Black pepper<br>Crop_Year=2012<br>Area=%{x}<br>Production=%{marker.size}<extra></extra>\", \"ids\": [\"Black pepper\"], \"legendgroup\": \"Black pepper\", \"marker\": {\"color\": \"#636efa\", \"size\": [128544.0], \"sizemode\": \"area\", \"sizeref\": 4289.7275, \"symbol\": \"circle\"}, \"mode\": \"markers\", \"name\": \"Black pepper\", \"orientation\": \"v\", \"showlegend\": true, \"x\": [116025.0], \"xaxis\": \"x\", \"y\": [128544.0], \"yaxis\": \"y\", \"type\": \"scatter\"}, {\"hovertemplate\": \"Crop=Cardamom<br>Crop_Year=2012<br>Area=%{x}<br>Production=%{marker.size}<extra></extra>\", \"ids\": [\"Cardamom\"], \"legendgroup\": \"Cardamom\", \"marker\": {\"color\": \"#EF553B\", \"size\": [11800.0], \"sizemode\": \"area\", \"sizeref\": 4289.7275, \"symbol\": \"circle\"}, \"mode\": \"markers\", \"name\": \"Cardamom\", \"orientation\": \"v\", \"showlegend\": true, \"x\": [60390.0], \"xaxis\": \"x\", \"y\": [11800.0], \"yaxis\": \"y\", \"type\": \"scatter\"}, {\"hovertemplate\": \"Crop=Coriander<br>Crop_Year=2012<br>Area=%{x}<br>Production=%{marker.size}<extra></extra>\", \"ids\": [\"Coriander\"], \"legendgroup\": \"Coriander\", \"marker\": {\"color\": \"#00cc96\", \"size\": [95047.0], \"sizemode\": \"area\", \"sizeref\": 4289.7275, \"symbol\": \"circle\"}, \"mode\": \"markers\", \"name\": \"Coriander\", \"orientation\": \"v\", \"showlegend\": true, \"x\": [159515.0], \"xaxis\": \"x\", \"y\": [95047.0], \"yaxis\": \"y\", \"type\": \"scatter\"}, {\"hovertemplate\": \"Crop=Dry chillies<br>Crop_Year=2012<br>Area=%{x}<br>Production=%{marker.size}<extra></extra>\", \"ids\": [\"Dry chillies\"], \"legendgroup\": \"Dry chillies\", \"marker\": {\"color\": \"#ab63fa\", \"size\": [775380.0], \"sizemode\": \"area\", \"sizeref\": 4289.7275, \"symbol\": \"circle\"}, \"mode\": \"markers\", \"name\": \"Dry chillies\", \"orientation\": \"v\", \"showlegend\": true, \"x\": [304667.0], \"xaxis\": \"x\", \"y\": [775380.0], \"yaxis\": \"y\", \"type\": \"scatter\"}, {\"hovertemplate\": \"Crop=Dry ginger<br>Crop_Year=2012<br>Area=%{x}<br>Production=%{marker.size}<extra></extra>\", \"ids\": [\"Dry ginger\"], \"legendgroup\": \"Dry ginger\", \"marker\": {\"color\": \"#FFA15A\", \"size\": [691246.0], \"sizemode\": \"area\", \"sizeref\": 4289.7275, \"symbol\": \"circle\"}, \"mode\": \"markers\", \"name\": \"Dry ginger\", \"orientation\": \"v\", \"showlegend\": true, \"x\": [51458.0], \"xaxis\": \"x\", \"y\": [691246.0], \"yaxis\": \"y\", \"type\": \"scatter\"}, {\"hovertemplate\": \"Crop=Garlic<br>Crop_Year=2012<br>Area=%{x}<br>Production=%{marker.size}<extra></extra>\", \"ids\": [\"Garlic\"], \"legendgroup\": \"Garlic\", \"marker\": {\"color\": \"#19d3f3\", \"size\": [647729.0], \"sizemode\": \"area\", \"sizeref\": 4289.7275, \"symbol\": \"circle\"}, \"mode\": \"markers\", \"name\": \"Garlic\", \"orientation\": \"v\", \"showlegend\": true, \"x\": [126235.0], \"xaxis\": \"x\", \"y\": [647729.0], \"yaxis\": \"y\", \"type\": \"scatter\"}, {\"hovertemplate\": \"Crop=Ginger<br>Crop_Year=2012<br>Area=%{x}<br>Production=%{marker.size}<extra></extra>\", \"ids\": [\"Ginger\"], \"legendgroup\": \"Ginger\", \"marker\": {\"color\": \"#FF6692\", \"size\": [187444.0], \"sizemode\": \"area\", \"sizeref\": 4289.7275, \"symbol\": \"circle\"}, \"mode\": \"markers\", \"name\": \"Ginger\", \"orientation\": \"v\", \"showlegend\": true, \"x\": [22461.0], \"xaxis\": \"x\", \"y\": [187444.0], \"yaxis\": \"y\", \"type\": \"scatter\"}, {\"hovertemplate\": \"Crop=Khesari<br>Crop_Year=2012<br>Area=%{x}<br>Production=%{marker.size}<extra></extra>\", \"ids\": [\"Khesari\"], \"legendgroup\": \"Khesari\", \"marker\": {\"color\": \"#B6E880\", \"size\": [319236.0], \"sizemode\": \"area\", \"sizeref\": 4289.7275, \"symbol\": \"circle\"}, \"mode\": \"markers\", \"name\": \"Khesari\", \"orientation\": \"v\", \"showlegend\": true, \"x\": [478986.0], \"xaxis\": \"x\", \"y\": [319236.0], \"yaxis\": \"y\", \"type\": \"scatter\"}, {\"hovertemplate\": \"Crop=Turmeric<br>Crop_Year=2012<br>Area=%{x}<br>Production=%{marker.size}<extra></extra>\", \"ids\": [\"Turmeric\"], \"legendgroup\": \"Turmeric\", \"marker\": {\"color\": \"#FF97FF\", \"size\": [295269.0], \"sizemode\": \"area\", \"sizeref\": 4289.7275, \"symbol\": \"circle\"}, \"mode\": \"markers\", \"name\": \"Turmeric\", \"orientation\": \"v\", \"showlegend\": true, \"x\": [64794.0], \"xaxis\": \"x\", \"y\": [295269.0], \"yaxis\": \"y\", \"type\": \"scatter\"}], \"name\": \"2012\"}, {\"data\": [{\"hovertemplate\": \"Crop=Black pepper<br>Crop_Year=2013<br>Area=%{x}<br>Production=%{marker.size}<extra></extra>\", \"ids\": [\"Black pepper\"], \"legendgroup\": \"Black pepper\", \"marker\": {\"color\": \"#636efa\", \"size\": [106726.0], \"sizemode\": \"area\", \"sizeref\": 4289.7275, \"symbol\": \"circle\"}, \"mode\": \"markers\", \"name\": \"Black pepper\", \"orientation\": \"v\", \"showlegend\": true, \"x\": [121163.0], \"xaxis\": \"x\", \"y\": [106726.0], \"yaxis\": \"y\", \"type\": \"scatter\"}, {\"hovertemplate\": \"Crop=Cardamom<br>Crop_Year=2013<br>Area=%{x}<br>Production=%{marker.size}<extra></extra>\", \"ids\": [\"Cardamom\"], \"legendgroup\": \"Cardamom\", \"marker\": {\"color\": \"#EF553B\", \"size\": [15882.0], \"sizemode\": \"area\", \"sizeref\": 4289.7275, \"symbol\": \"circle\"}, \"mode\": \"markers\", \"name\": \"Cardamom\", \"orientation\": \"v\", \"showlegend\": true, \"x\": [62434.0], \"xaxis\": \"x\", \"y\": [15882.0], \"yaxis\": \"y\", \"type\": \"scatter\"}, {\"hovertemplate\": \"Crop=Coriander<br>Crop_Year=2013<br>Area=%{x}<br>Production=%{marker.size}<extra></extra>\", \"ids\": [\"Coriander\"], \"legendgroup\": \"Coriander\", \"marker\": {\"color\": \"#00cc96\", \"size\": [113840.0], \"sizemode\": \"area\", \"sizeref\": 4289.7275, \"symbol\": \"circle\"}, \"mode\": \"markers\", \"name\": \"Coriander\", \"orientation\": \"v\", \"showlegend\": true, \"x\": [182037.0], \"xaxis\": \"x\", \"y\": [113840.0], \"yaxis\": \"y\", \"type\": \"scatter\"}, {\"hovertemplate\": \"Crop=Dry chillies<br>Crop_Year=2013<br>Area=%{x}<br>Production=%{marker.size}<extra></extra>\", \"ids\": [\"Dry chillies\"], \"legendgroup\": \"Dry chillies\", \"marker\": {\"color\": \"#ab63fa\", \"size\": [1181768.0], \"sizemode\": \"area\", \"sizeref\": 4289.7275, \"symbol\": \"circle\"}, \"mode\": \"markers\", \"name\": \"Dry chillies\", \"orientation\": \"v\", \"showlegend\": true, \"x\": [456283.0], \"xaxis\": \"x\", \"y\": [1181768.0], \"yaxis\": \"y\", \"type\": \"scatter\"}, {\"hovertemplate\": \"Crop=Dry ginger<br>Crop_Year=2013<br>Area=%{x}<br>Production=%{marker.size}<extra></extra>\", \"ids\": [\"Dry ginger\"], \"legendgroup\": \"Dry ginger\", \"marker\": {\"color\": \"#FFA15A\", \"size\": [708261.0], \"sizemode\": \"area\", \"sizeref\": 4289.7275, \"symbol\": \"circle\"}, \"mode\": \"markers\", \"name\": \"Dry ginger\", \"orientation\": \"v\", \"showlegend\": true, \"x\": [56182.0], \"xaxis\": \"x\", \"y\": [708261.0], \"yaxis\": \"y\", \"type\": \"scatter\"}, {\"hovertemplate\": \"Crop=Garlic<br>Crop_Year=2013<br>Area=%{x}<br>Production=%{marker.size}<extra></extra>\", \"ids\": [\"Garlic\"], \"legendgroup\": \"Garlic\", \"marker\": {\"color\": \"#19d3f3\", \"size\": [658224.1], \"sizemode\": \"area\", \"sizeref\": 4289.7275, \"symbol\": \"circle\"}, \"mode\": \"markers\", \"name\": \"Garlic\", \"orientation\": \"v\", \"showlegend\": true, \"x\": [127342.0], \"xaxis\": \"x\", \"y\": [658224.1], \"yaxis\": \"y\", \"type\": \"scatter\"}, {\"hovertemplate\": \"Crop=Ginger<br>Crop_Year=2013<br>Area=%{x}<br>Production=%{marker.size}<extra></extra>\", \"ids\": [\"Ginger\"], \"legendgroup\": \"Ginger\", \"marker\": {\"color\": \"#FF6692\", \"size\": [185586.7], \"sizemode\": \"area\", \"sizeref\": 4289.7275, \"symbol\": \"circle\"}, \"mode\": \"markers\", \"name\": \"Ginger\", \"orientation\": \"v\", \"showlegend\": true, \"x\": [22968.0], \"xaxis\": \"x\", \"y\": [185586.7], \"yaxis\": \"y\", \"type\": \"scatter\"}, {\"hovertemplate\": \"Crop=Khesari<br>Crop_Year=2013<br>Area=%{x}<br>Production=%{marker.size}<extra></extra>\", \"ids\": [\"Khesari\"], \"legendgroup\": \"Khesari\", \"marker\": {\"color\": \"#B6E880\", \"size\": [308818.0], \"sizemode\": \"area\", \"sizeref\": 4289.7275, \"symbol\": \"circle\"}, \"mode\": \"markers\", \"name\": \"Khesari\", \"orientation\": \"v\", \"showlegend\": true, \"x\": [455938.0], \"xaxis\": \"x\", \"y\": [308818.0], \"yaxis\": \"y\", \"type\": \"scatter\"}, {\"hovertemplate\": \"Crop=Turmeric<br>Crop_Year=2013<br>Area=%{x}<br>Production=%{marker.size}<extra></extra>\", \"ids\": [\"Turmeric\"], \"legendgroup\": \"Turmeric\", \"marker\": {\"color\": \"#FF97FF\", \"size\": [634554.7], \"sizemode\": \"area\", \"sizeref\": 4289.7275, \"symbol\": \"circle\"}, \"mode\": \"markers\", \"name\": \"Turmeric\", \"orientation\": \"v\", \"showlegend\": true, \"x\": [139703.0], \"xaxis\": \"x\", \"y\": [634554.7], \"yaxis\": \"y\", \"type\": \"scatter\"}], \"name\": \"2013\"}, {\"data\": [{\"hovertemplate\": \"Crop=Black pepper<br>Crop_Year=2014<br>Area=%{x}<br>Production=%{marker.size}<extra></extra>\", \"ids\": [\"Black pepper\"], \"legendgroup\": \"Black pepper\", \"marker\": {\"color\": \"#636efa\", \"size\": [239403.0], \"sizemode\": \"area\", \"sizeref\": 4289.7275, \"symbol\": \"circle\"}, \"mode\": \"markers\", \"name\": \"Black pepper\", \"orientation\": \"v\", \"showlegend\": true, \"x\": [123368.0], \"xaxis\": \"x\", \"y\": [239403.0], \"yaxis\": \"y\", \"type\": \"scatter\"}, {\"hovertemplate\": \"Crop=Cardamom<br>Crop_Year=2014<br>Area=%{x}<br>Production=%{marker.size}<extra></extra>\", \"ids\": [\"Cardamom\"], \"legendgroup\": \"Cardamom\", \"marker\": {\"color\": \"#EF553B\", \"size\": [17429.0], \"sizemode\": \"area\", \"sizeref\": 4289.7275, \"symbol\": \"circle\"}, \"mode\": \"markers\", \"name\": \"Cardamom\", \"orientation\": \"v\", \"showlegend\": true, \"x\": [57979.0], \"xaxis\": \"x\", \"y\": [17429.0], \"yaxis\": \"y\", \"type\": \"scatter\"}, {\"hovertemplate\": \"Crop=Coriander<br>Crop_Year=2014<br>Area=%{x}<br>Production=%{marker.size}<extra></extra>\", \"ids\": [\"Coriander\"], \"legendgroup\": \"Coriander\", \"marker\": {\"color\": \"#00cc96\", \"size\": [26616.0], \"sizemode\": \"area\", \"sizeref\": 4289.7275, \"symbol\": \"circle\"}, \"mode\": \"markers\", \"name\": \"Coriander\", \"orientation\": \"v\", \"showlegend\": true, \"x\": [55214.0], \"xaxis\": \"x\", \"y\": [26616.0], \"yaxis\": \"y\", \"type\": \"scatter\"}, {\"hovertemplate\": \"Crop=Dry chillies<br>Crop_Year=2014<br>Area=%{x}<br>Production=%{marker.size}<extra></extra>\", \"ids\": [\"Dry chillies\"], \"legendgroup\": \"Dry chillies\", \"marker\": {\"color\": \"#ab63fa\", \"size\": [1153065.3], \"sizemode\": \"area\", \"sizeref\": 4289.7275, \"symbol\": \"circle\"}, \"mode\": \"markers\", \"name\": \"Dry chillies\", \"orientation\": \"v\", \"showlegend\": true, \"x\": [349000.0], \"xaxis\": \"x\", \"y\": [1153065.3], \"yaxis\": \"y\", \"type\": \"scatter\"}, {\"hovertemplate\": \"Crop=Dry ginger<br>Crop_Year=2014<br>Area=%{x}<br>Production=%{marker.size}<extra></extra>\", \"ids\": [\"Dry ginger\"], \"legendgroup\": \"Dry ginger\", \"marker\": {\"color\": \"#FFA15A\", \"size\": [1048689.9], \"sizemode\": \"area\", \"sizeref\": 4289.7275, \"symbol\": \"circle\"}, \"mode\": \"markers\", \"name\": \"Dry ginger\", \"orientation\": \"v\", \"showlegend\": true, \"x\": [56513.0], \"xaxis\": \"x\", \"y\": [1048689.9], \"yaxis\": \"y\", \"type\": \"scatter\"}, {\"hovertemplate\": \"Crop=Garlic<br>Crop_Year=2014<br>Area=%{x}<br>Production=%{marker.size}<extra></extra>\", \"ids\": [\"Garlic\"], \"legendgroup\": \"Garlic\", \"marker\": {\"color\": \"#19d3f3\", \"size\": [206708.0], \"sizemode\": \"area\", \"sizeref\": 4289.7275, \"symbol\": \"circle\"}, \"mode\": \"markers\", \"name\": \"Garlic\", \"orientation\": \"v\", \"showlegend\": true, \"x\": [41016.0], \"xaxis\": \"x\", \"y\": [206708.0], \"yaxis\": \"y\", \"type\": \"scatter\"}, {\"hovertemplate\": \"Crop=Ginger<br>Crop_Year=2014<br>Area=%{x}<br>Production=%{marker.size}<extra></extra>\", \"ids\": [\"Ginger\"], \"legendgroup\": \"Ginger\", \"marker\": {\"color\": \"#FF6692\", \"size\": [239227.0], \"sizemode\": \"area\", \"sizeref\": 4289.7275, \"symbol\": \"circle\"}, \"mode\": \"markers\", \"name\": \"Ginger\", \"orientation\": \"v\", \"showlegend\": true, \"x\": [26991.0], \"xaxis\": \"x\", \"y\": [239227.0], \"yaxis\": \"y\", \"type\": \"scatter\"}, {\"hovertemplate\": \"Crop=Khesari<br>Crop_Year=2014<br>Area=%{x}<br>Production=%{marker.size}<extra></extra>\", \"ids\": [\"Khesari\"], \"legendgroup\": \"Khesari\", \"marker\": {\"color\": \"#B6E880\", \"size\": [398979.0], \"sizemode\": \"area\", \"sizeref\": 4289.7275, \"symbol\": \"circle\"}, \"mode\": \"markers\", \"name\": \"Khesari\", \"orientation\": \"v\", \"showlegend\": true, \"x\": [431875.0], \"xaxis\": \"x\", \"y\": [398979.0], \"yaxis\": \"y\", \"type\": \"scatter\"}, {\"hovertemplate\": \"Crop=Turmeric<br>Crop_Year=2014<br>Area=%{x}<br>Production=%{marker.size}<extra></extra>\", \"ids\": [\"Turmeric\"], \"legendgroup\": \"Turmeric\", \"marker\": {\"color\": \"#FF97FF\", \"size\": [485938.4], \"sizemode\": \"area\", \"sizeref\": 4289.7275, \"symbol\": \"circle\"}, \"mode\": \"markers\", \"name\": \"Turmeric\", \"orientation\": \"v\", \"showlegend\": true, \"x\": [99138.0], \"xaxis\": \"x\", \"y\": [485938.4], \"yaxis\": \"y\", \"type\": \"scatter\"}], \"name\": \"2014\"}]);\n",
       "                        }).then(function(){\n",
       "                            \n",
       "var gd = document.getElementById('073046f5-32d5-4e51-9d94-b2cd578c7f06');\n",
       "var x = new MutationObserver(function (mutations, observer) {{\n",
       "        var display = window.getComputedStyle(gd).display;\n",
       "        if (!display || display === 'none') {{\n",
       "            console.log([gd, 'removed!']);\n",
       "            Plotly.purge(gd);\n",
       "            observer.disconnect();\n",
       "        }}\n",
       "}});\n",
       "\n",
       "// Listen for the removal of the full notebook cells\n",
       "var notebookContainer = gd.closest('#notebook-container');\n",
       "if (notebookContainer) {{\n",
       "    x.observe(notebookContainer, {childList: true});\n",
       "}}\n",
       "\n",
       "// Listen for the clearing of the current output cell\n",
       "var outputEl = gd.closest('.output');\n",
       "if (outputEl) {{\n",
       "    x.observe(outputEl, {childList: true});\n",
       "}}\n",
       "\n",
       "                        })\n",
       "                };\n",
       "                });\n",
       "            </script>\n",
       "        </div>"
      ]
     },
     "metadata": {},
     "output_type": "display_data"
    }
   ],
   "source": [
    "px.scatter(s, x = 'Area', y = 'Production', animation_frame = 'Crop_Year',\n",
    "          animation_group = 'Crop', size = 'Production', color = 'Crop')"
   ]
  },
  {
   "cell_type": "code",
   "execution_count": null,
   "metadata": {},
   "outputs": [],
   "source": []
  }
 ],
 "metadata": {
  "kernelspec": {
   "display_name": "Python 3",
   "language": "python",
   "name": "python3"
  },
  "language_info": {
   "codemirror_mode": {
    "name": "ipython",
    "version": 3
   },
   "file_extension": ".py",
   "mimetype": "text/x-python",
   "name": "python",
   "nbconvert_exporter": "python",
   "pygments_lexer": "ipython3",
   "version": "3.7.6"
  }
 },
 "nbformat": 4,
 "nbformat_minor": 4
}
